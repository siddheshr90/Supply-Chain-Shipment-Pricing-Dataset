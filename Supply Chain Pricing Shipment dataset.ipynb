{
 "cells": [
  {
   "cell_type": "code",
   "execution_count": 2,
   "metadata": {},
   "outputs": [
    {
     "name": "stdout",
     "output_type": "stream",
     "text": [
      "Requirement already satisfied: pyramid in /opt/conda/lib/python3.7/site-packages (2.0)\n",
      "Requirement already satisfied: zope.interface>=3.8.0 in /opt/conda/lib/python3.7/site-packages (from pyramid) (5.4.0)\n",
      "Requirement already satisfied: zope.deprecation>=3.5.0 in /opt/conda/lib/python3.7/site-packages (from pyramid) (4.4.0)\n",
      "Requirement already satisfied: webob>=1.8.3 in /opt/conda/lib/python3.7/site-packages (from pyramid) (1.8.7)\n",
      "Requirement already satisfied: venusian>=1.0 in /opt/conda/lib/python3.7/site-packages (from pyramid) (3.0.0)\n",
      "Requirement already satisfied: setuptools in /opt/conda/lib/python3.7/site-packages (from pyramid) (46.1.3.post20200325)\n",
      "Requirement already satisfied: translationstring>=0.4 in /opt/conda/lib/python3.7/site-packages (from pyramid) (1.4)\n",
      "Requirement already satisfied: plaster in /opt/conda/lib/python3.7/site-packages (from pyramid) (1.0)\n",
      "Requirement already satisfied: plaster-pastedeploy in /opt/conda/lib/python3.7/site-packages (from pyramid) (0.7)\n",
      "Requirement already satisfied: hupper>=1.5 in /opt/conda/lib/python3.7/site-packages (from pyramid) (1.10.3)\n",
      "Requirement already satisfied: PasteDeploy>=2.0 in /opt/conda/lib/python3.7/site-packages (from plaster-pastedeploy->pyramid) (2.1.1)\n",
      "Collecting pyramid-arima\n",
      "  Using cached pyramid-arima-0.8.1.tar.gz (515 kB)\n",
      "Requirement already satisfied: Cython>=0.23 in /opt/conda/lib/python3.7/site-packages (from pyramid-arima) (0.29.19)\n",
      "Requirement already satisfied: numpy>=1.10 in /opt/conda/lib/python3.7/site-packages (from pyramid-arima) (1.21.4)\n",
      "Requirement already satisfied: scipy>=0.9 in /opt/conda/lib/python3.7/site-packages (from pyramid-arima) (1.4.1)\n",
      "Requirement already satisfied: scikit-learn>=0.17 in /opt/conda/lib/python3.7/site-packages (from pyramid-arima) (0.22.2.post1)\n",
      "Requirement already satisfied: pandas>=0.19 in /opt/conda/lib/python3.7/site-packages (from pyramid-arima) (1.0.3)\n",
      "Requirement already satisfied: statsmodels>=0.9.0 in /opt/conda/lib/python3.7/site-packages (from pyramid-arima) (0.11.1)\n",
      "Requirement already satisfied: joblib>=0.11 in /opt/conda/lib/python3.7/site-packages (from scikit-learn>=0.17->pyramid-arima) (0.15.1)\n",
      "Requirement already satisfied: pytz>=2017.2 in /opt/conda/lib/python3.7/site-packages (from pandas>=0.19->pyramid-arima) (2020.1)\n",
      "Requirement already satisfied: python-dateutil>=2.6.1 in /opt/conda/lib/python3.7/site-packages (from pandas>=0.19->pyramid-arima) (2.8.1)\n",
      "Requirement already satisfied: patsy>=0.5 in /opt/conda/lib/python3.7/site-packages (from statsmodels>=0.9.0->pyramid-arima) (0.5.1)\n",
      "Requirement already satisfied: six>=1.5 in /opt/conda/lib/python3.7/site-packages (from python-dateutil>=2.6.1->pandas>=0.19->pyramid-arima) (1.14.0)\n",
      "Building wheels for collected packages: pyramid-arima\n",
      "  Building wheel for pyramid-arima (setup.py) ... \u001b[?25lerror\n",
      "\u001b[31m  ERROR: Command errored out with exit status 1:\n",
      "   command: /opt/conda/bin/python3.7 -u -c 'import sys, setuptools, tokenize; sys.argv[0] = '\"'\"'/tmp/pip-install-8hy_2jir/pyramid-arima/setup.py'\"'\"'; __file__='\"'\"'/tmp/pip-install-8hy_2jir/pyramid-arima/setup.py'\"'\"';f=getattr(tokenize, '\"'\"'open'\"'\"', open)(__file__);code=f.read().replace('\"'\"'\\r\\n'\"'\"', '\"'\"'\\n'\"'\"');f.close();exec(compile(code, __file__, '\"'\"'exec'\"'\"'))' bdist_wheel -d /tmp/pip-wheel-x8ew6va3\n",
      "       cwd: /tmp/pip-install-8hy_2jir/pyramid-arima/\n",
      "  Complete output (516 lines):\n",
      "  Partial import of pyramid during the build process.\n",
      "  Requirements: ['Cython>=0.23', 'numpy>=1.10', 'scipy>=0.9', 'scikit-learn>=0.17', 'pandas>=0.19', 'statsmodels>=0.9.0']\n",
      "  Adding extra setuptools args\n",
      "  blas_opt_info:\n",
      "  blas_mkl_info:\n",
      "  customize UnixCCompiler\n",
      "    libraries mkl_rt not found in ['/opt/conda/lib', '/usr/local/lib', '/usr/lib', '/usr/lib/x86_64-linux-gnu']\n",
      "    NOT AVAILABLE\n",
      "  \n",
      "  blis_info:\n",
      "    libraries blis not found in ['/opt/conda/lib', '/usr/local/lib', '/usr/lib', '/usr/lib/x86_64-linux-gnu']\n",
      "    NOT AVAILABLE\n",
      "  \n",
      "  openblas_info:\n",
      "    libraries openblas not found in ['/opt/conda/lib', '/usr/local/lib', '/usr/lib', '/usr/lib/x86_64-linux-gnu']\n",
      "    NOT AVAILABLE\n",
      "  \n",
      "  accelerate_info:\n",
      "    NOT AVAILABLE\n",
      "  \n",
      "  atlas_3_10_blas_threads_info:\n",
      "  Setting PTATLAS=ATLAS\n",
      "    libraries tatlas not found in ['/opt/conda/lib', '/usr/local/lib', '/usr/lib', '/usr/lib/x86_64-linux-gnu']\n",
      "    NOT AVAILABLE\n",
      "  \n",
      "  atlas_3_10_blas_info:\n",
      "    libraries satlas not found in ['/opt/conda/lib', '/usr/local/lib', '/usr/lib', '/usr/lib/x86_64-linux-gnu']\n",
      "    NOT AVAILABLE\n",
      "  \n",
      "  atlas_blas_threads_info:\n",
      "  Setting PTATLAS=ATLAS\n",
      "    libraries ptf77blas,ptcblas,atlas not found in ['/opt/conda/lib', '/usr/local/lib', '/usr/lib', '/usr/lib/x86_64-linux-gnu']\n",
      "    NOT AVAILABLE\n",
      "  \n",
      "  atlas_blas_info:\n",
      "    libraries f77blas,cblas,atlas not found in ['/opt/conda/lib', '/usr/local/lib', '/usr/lib', '/usr/lib/x86_64-linux-gnu']\n",
      "    NOT AVAILABLE\n",
      "  \n",
      "  /opt/conda/lib/python3.7/site-packages/numpy/distutils/system_info.py:2026: UserWarning:\n",
      "      Optimized (vendor) Blas libraries are not found.\n",
      "      Falls back to netlib Blas library which has worse performance.\n",
      "      A better performance should be easily gained by switching\n",
      "      Blas library.\n",
      "    if self._calc_info(blas):\n",
      "  blas_info:\n",
      "  C compiler: gcc -pthread -B /opt/conda/compiler_compat -Wl,--sysroot=/ -Wsign-compare -DNDEBUG -g -fwrapv -O3 -Wall -Wstrict-prototypes -fPIC\n",
      "  \n",
      "  creating /tmp/tmpaxijrjmc/tmp\n",
      "  creating /tmp/tmpaxijrjmc/tmp/tmpaxijrjmc\n",
      "  compile options: '-I/usr/local/include -I/opt/conda/include -c'\n",
      "  gcc: /tmp/tmpaxijrjmc/source.c\n",
      "  /tmp/tmpaxijrjmc/source.c:1:10: fatal error: cblas.h: No such file or directory\n",
      "   #include <cblas.h>\n",
      "            ^~~~~~~~~\n",
      "  compilation terminated.\n",
      "    FOUND:\n",
      "      libraries = ['blas', 'blas']\n",
      "      library_dirs = ['/opt/conda/lib']\n",
      "      include_dirs = ['/usr/local/include', '/opt/conda/include']\n",
      "  \n",
      "    FOUND:\n",
      "      define_macros = [('NO_ATLAS_INFO', 1)]\n",
      "      libraries = ['blas', 'blas']\n",
      "      library_dirs = ['/opt/conda/lib']\n",
      "      include_dirs = ['/usr/local/include', '/opt/conda/include']\n",
      "  \n",
      "  running bdist_wheel\n",
      "  running build\n",
      "  running config_cc\n",
      "  unifing config_cc, config, build_clib, build_ext, build commands --compiler options\n",
      "  running config_fc\n",
      "  unifing config_fc, config, build_clib, build_ext, build commands --fcompiler options\n",
      "  running build_src\n",
      "  build_src\n",
      "  building extension \"pyramid.__check_build._check_build\" sources\n",
      "  building extension \"pyramid.arima._arima\" sources\n",
      "  build_src: building npy-pkg config files\n",
      "  running build_py\n",
      "  creating build\n",
      "  creating build/lib.linux-x86_64-3.7\n",
      "  creating build/lib.linux-x86_64-3.7/pyramid\n",
      "  copying pyramid/_config.py -> build/lib.linux-x86_64-3.7/pyramid\n",
      "  copying pyramid/setup.py -> build/lib.linux-x86_64-3.7/pyramid\n",
      "  copying pyramid/__init__.py -> build/lib.linux-x86_64-3.7/pyramid\n",
      "  creating build/lib.linux-x86_64-3.7/pyramid/__check_build\n",
      "  copying pyramid/__check_build/setup.py -> build/lib.linux-x86_64-3.7/pyramid/__check_build\n",
      "  copying pyramid/__check_build/__init__.py -> build/lib.linux-x86_64-3.7/pyramid/__check_build\n",
      "  creating build/lib.linux-x86_64-3.7/pyramid/__check_build/tests\n",
      "  copying pyramid/__check_build/tests/test_check_build.py -> build/lib.linux-x86_64-3.7/pyramid/__check_build/tests\n",
      "  copying pyramid/__check_build/tests/__init__.py -> build/lib.linux-x86_64-3.7/pyramid/__check_build/tests\n",
      "  creating build/lib.linux-x86_64-3.7/pyramid/_build_utils\n",
      "  copying pyramid/_build_utils/__init__.py -> build/lib.linux-x86_64-3.7/pyramid/_build_utils\n",
      "  creating build/lib.linux-x86_64-3.7/pyramid/_build_utils/tests\n",
      "  copying pyramid/_build_utils/tests/__init__.py -> build/lib.linux-x86_64-3.7/pyramid/_build_utils/tests\n",
      "  creating build/lib.linux-x86_64-3.7/pyramid/compat\n",
      "  copying pyramid/compat/numpy.py -> build/lib.linux-x86_64-3.7/pyramid/compat\n",
      "  copying pyramid/compat/matplotlib.py -> build/lib.linux-x86_64-3.7/pyramid/compat\n",
      "  copying pyramid/compat/pandas.py -> build/lib.linux-x86_64-3.7/pyramid/compat\n",
      "  copying pyramid/compat/python.py -> build/lib.linux-x86_64-3.7/pyramid/compat\n",
      "  copying pyramid/compat/__init__.py -> build/lib.linux-x86_64-3.7/pyramid/compat\n",
      "  creating build/lib.linux-x86_64-3.7/pyramid/compat/tests\n",
      "  copying pyramid/compat/tests/test_compat.py -> build/lib.linux-x86_64-3.7/pyramid/compat/tests\n",
      "  copying pyramid/compat/tests/__init__.py -> build/lib.linux-x86_64-3.7/pyramid/compat/tests\n",
      "  creating build/lib.linux-x86_64-3.7/pyramid/datasets\n",
      "  copying pyramid/datasets/heartrate.py -> build/lib.linux-x86_64-3.7/pyramid/datasets\n",
      "  copying pyramid/datasets/woolyrnq.py -> build/lib.linux-x86_64-3.7/pyramid/datasets\n",
      "  copying pyramid/datasets/wineind.py -> build/lib.linux-x86_64-3.7/pyramid/datasets\n",
      "  copying pyramid/datasets/lynx.py -> build/lib.linux-x86_64-3.7/pyramid/datasets\n",
      "  copying pyramid/datasets/__init__.py -> build/lib.linux-x86_64-3.7/pyramid/datasets\n",
      "  creating build/lib.linux-x86_64-3.7/pyramid/utils\n",
      "  copying pyramid/utils/metaestimators.py -> build/lib.linux-x86_64-3.7/pyramid/utils\n",
      "  copying pyramid/utils/visualization.py -> build/lib.linux-x86_64-3.7/pyramid/utils\n",
      "  copying pyramid/utils/wrapped.py -> build/lib.linux-x86_64-3.7/pyramid/utils\n",
      "  copying pyramid/utils/array.py -> build/lib.linux-x86_64-3.7/pyramid/utils\n",
      "  copying pyramid/utils/testing.py -> build/lib.linux-x86_64-3.7/pyramid/utils\n",
      "  copying pyramid/utils/__init__.py -> build/lib.linux-x86_64-3.7/pyramid/utils\n",
      "  creating build/lib.linux-x86_64-3.7/pyramid/utils/tests\n",
      "  copying pyramid/utils/tests/test_testing.py -> build/lib.linux-x86_64-3.7/pyramid/utils/tests\n",
      "  copying pyramid/utils/tests/test_wrapped.py -> build/lib.linux-x86_64-3.7/pyramid/utils/tests\n",
      "  copying pyramid/utils/tests/test_meta.py -> build/lib.linux-x86_64-3.7/pyramid/utils/tests\n",
      "  copying pyramid/utils/tests/test_array.py -> build/lib.linux-x86_64-3.7/pyramid/utils/tests\n",
      "  copying pyramid/utils/tests/test_vis.py -> build/lib.linux-x86_64-3.7/pyramid/utils/tests\n",
      "  copying pyramid/utils/tests/__init__.py -> build/lib.linux-x86_64-3.7/pyramid/utils/tests\n",
      "  creating build/lib.linux-x86_64-3.7/pyramid/arima\n",
      "  copying pyramid/arima/warnings.py -> build/lib.linux-x86_64-3.7/pyramid/arima\n",
      "  copying pyramid/arima/utils.py -> build/lib.linux-x86_64-3.7/pyramid/arima\n",
      "  copying pyramid/arima/auto.py -> build/lib.linux-x86_64-3.7/pyramid/arima\n",
      "  copying pyramid/arima/setup.py -> build/lib.linux-x86_64-3.7/pyramid/arima\n",
      "  copying pyramid/arima/seasonality.py -> build/lib.linux-x86_64-3.7/pyramid/arima\n",
      "  copying pyramid/arima/approx.py -> build/lib.linux-x86_64-3.7/pyramid/arima\n",
      "  copying pyramid/arima/arima.py -> build/lib.linux-x86_64-3.7/pyramid/arima\n",
      "  copying pyramid/arima/stationarity.py -> build/lib.linux-x86_64-3.7/pyramid/arima\n",
      "  copying pyramid/arima/__init__.py -> build/lib.linux-x86_64-3.7/pyramid/arima\n",
      "  creating build/lib.linux-x86_64-3.7/pyramid/arima/tests\n",
      "  copying pyramid/arima/tests/test_approx.py -> build/lib.linux-x86_64-3.7/pyramid/arima/tests\n",
      "  copying pyramid/arima/tests/test_stationarity.py -> build/lib.linux-x86_64-3.7/pyramid/arima/tests\n",
      "  copying pyramid/arima/tests/test_arima.py -> build/lib.linux-x86_64-3.7/pyramid/arima/tests\n",
      "  copying pyramid/arima/tests/test_c_arima.py -> build/lib.linux-x86_64-3.7/pyramid/arima/tests\n",
      "  copying pyramid/arima/tests/__init__.py -> build/lib.linux-x86_64-3.7/pyramid/arima/tests\n",
      "  running build_ext\n",
      "  customize UnixCCompiler\n",
      "  customize UnixCCompiler using build_ext\n",
      "  CCompilerOpt.cc_test_flags[1013] : testing flags (-march=native)\n",
      "  C compiler: gcc -pthread -B /opt/conda/compiler_compat -Wl,--sysroot=/ -Wsign-compare -DNDEBUG -g -fwrapv -O3 -Wall -Wstrict-prototypes -fPIC\n",
      "  \n",
      "  creating /tmp/tmp53m97e0a/opt\n",
      "  creating /tmp/tmp53m97e0a/opt/conda\n",
      "  creating /tmp/tmp53m97e0a/opt/conda/lib\n",
      "  creating /tmp/tmp53m97e0a/opt/conda/lib/python3.7\n",
      "  creating /tmp/tmp53m97e0a/opt/conda/lib/python3.7/site-packages\n",
      "  creating /tmp/tmp53m97e0a/opt/conda/lib/python3.7/site-packages/numpy\n",
      "  creating /tmp/tmp53m97e0a/opt/conda/lib/python3.7/site-packages/numpy/distutils\n",
      "  creating /tmp/tmp53m97e0a/opt/conda/lib/python3.7/site-packages/numpy/distutils/checks\n",
      "  compile options: '-I/opt/conda/include/python3.7m -c'\n",
      "  extra options: '-march=native'\n",
      "  CCompilerOpt.cc_test_flags[1013] : testing flags (-O3)\n",
      "  C compiler: gcc -pthread -B /opt/conda/compiler_compat -Wl,--sysroot=/ -Wsign-compare -DNDEBUG -g -fwrapv -O3 -Wall -Wstrict-prototypes -fPIC\n",
      "  \n",
      "  compile options: '-I/opt/conda/include/python3.7m -c'\n",
      "  extra options: '-O3'\n",
      "  CCompilerOpt.cc_test_flags[1013] : testing flags (-Werror)\n",
      "  C compiler: gcc -pthread -B /opt/conda/compiler_compat -Wl,--sysroot=/ -Wsign-compare -DNDEBUG -g -fwrapv -O3 -Wall -Wstrict-prototypes -fPIC\n",
      "  \n",
      "  compile options: '-I/opt/conda/include/python3.7m -c'\n",
      "  extra options: '-Werror'\n",
      "  CCompilerOpt.__init__[1701] : check requested baseline\n",
      "  CCompilerOpt.cc_test_flags[1013] : testing flags (-msse)\n",
      "  C compiler: gcc -pthread -B /opt/conda/compiler_compat -Wl,--sysroot=/ -Wsign-compare -DNDEBUG -g -fwrapv -O3 -Wall -Wstrict-prototypes -fPIC\n",
      "  \n",
      "  compile options: '-I/opt/conda/include/python3.7m -c'\n",
      "  extra options: '-msse'\n",
      "  CCompilerOpt.cc_test_flags[1013] : testing flags (-msse2)\n",
      "  C compiler: gcc -pthread -B /opt/conda/compiler_compat -Wl,--sysroot=/ -Wsign-compare -DNDEBUG -g -fwrapv -O3 -Wall -Wstrict-prototypes -fPIC\n",
      "  \n",
      "  compile options: '-I/opt/conda/include/python3.7m -c'\n",
      "  extra options: '-msse2'\n",
      "  CCompilerOpt.feature_test[1468] : testing feature 'SSE2' with flags (-msse -msse2)\n",
      "  C compiler: gcc -pthread -B /opt/conda/compiler_compat -Wl,--sysroot=/ -Wsign-compare -DNDEBUG -g -fwrapv -O3 -Wall -Wstrict-prototypes -fPIC\n",
      "  \n",
      "  compile options: '-I/opt/conda/include/python3.7m -c'\n",
      "  extra options: '-msse -msse2 -Werror'\n",
      "  CCompilerOpt.feature_test[1468] : testing feature 'SSE' with flags (-msse -msse2)\n",
      "  C compiler: gcc -pthread -B /opt/conda/compiler_compat -Wl,--sysroot=/ -Wsign-compare -DNDEBUG -g -fwrapv -O3 -Wall -Wstrict-prototypes -fPIC\n",
      "  \n",
      "  compile options: '-I/opt/conda/include/python3.7m -c'\n",
      "  extra options: '-msse -msse2 -Werror'\n",
      "  CCompilerOpt.cc_test_flags[1013] : testing flags (-msse3)\n",
      "  C compiler: gcc -pthread -B /opt/conda/compiler_compat -Wl,--sysroot=/ -Wsign-compare -DNDEBUG -g -fwrapv -O3 -Wall -Wstrict-prototypes -fPIC\n",
      "  \n",
      "  compile options: '-I/opt/conda/include/python3.7m -c'\n",
      "  extra options: '-msse3'\n",
      "  CCompilerOpt.feature_test[1468] : testing feature 'SSE3' with flags (-msse -msse2 -msse3)\n",
      "  C compiler: gcc -pthread -B /opt/conda/compiler_compat -Wl,--sysroot=/ -Wsign-compare -DNDEBUG -g -fwrapv -O3 -Wall -Wstrict-prototypes -fPIC\n",
      "  \n",
      "  compile options: '-I/opt/conda/include/python3.7m -c'\n",
      "  extra options: '-msse -msse2 -msse3 -Werror'\n",
      "  CCompilerOpt.__init__[1710] : check requested dispatch-able features\n",
      "  CCompilerOpt.cc_test_flags[1013] : testing flags (-mssse3)\n",
      "  C compiler: gcc -pthread -B /opt/conda/compiler_compat -Wl,--sysroot=/ -Wsign-compare -DNDEBUG -g -fwrapv -O3 -Wall -Wstrict-prototypes -fPIC\n",
      "  \n",
      "  compile options: '-I/opt/conda/include/python3.7m -c'\n",
      "  extra options: '-mssse3'\n",
      "  CCompilerOpt.cc_test_flags[1013] : testing flags (-msse4.1)\n",
      "  C compiler: gcc -pthread -B /opt/conda/compiler_compat -Wl,--sysroot=/ -Wsign-compare -DNDEBUG -g -fwrapv -O3 -Wall -Wstrict-prototypes -fPIC\n",
      "  \n",
      "  compile options: '-I/opt/conda/include/python3.7m -c'\n",
      "  extra options: '-msse4.1'\n",
      "  CCompilerOpt.cc_test_flags[1013] : testing flags (-mpopcnt)\n",
      "  C compiler: gcc -pthread -B /opt/conda/compiler_compat -Wl,--sysroot=/ -Wsign-compare -DNDEBUG -g -fwrapv -O3 -Wall -Wstrict-prototypes -fPIC\n",
      "  \n",
      "  compile options: '-I/opt/conda/include/python3.7m -c'\n",
      "  extra options: '-mpopcnt'\n",
      "  CCompilerOpt.cc_test_flags[1013] : testing flags (-msse4.2)\n",
      "  C compiler: gcc -pthread -B /opt/conda/compiler_compat -Wl,--sysroot=/ -Wsign-compare -DNDEBUG -g -fwrapv -O3 -Wall -Wstrict-prototypes -fPIC\n",
      "  \n",
      "  compile options: '-I/opt/conda/include/python3.7m -c'\n",
      "  extra options: '-msse4.2'\n",
      "  CCompilerOpt.cc_test_flags[1013] : testing flags (-mavx)\n",
      "  C compiler: gcc -pthread -B /opt/conda/compiler_compat -Wl,--sysroot=/ -Wsign-compare -DNDEBUG -g -fwrapv -O3 -Wall -Wstrict-prototypes -fPIC\n",
      "  \n",
      "  compile options: '-I/opt/conda/include/python3.7m -c'\n",
      "  extra options: '-mavx'\n",
      "  CCompilerOpt.cc_test_flags[1013] : testing flags (-mf16c)\n",
      "  C compiler: gcc -pthread -B /opt/conda/compiler_compat -Wl,--sysroot=/ -Wsign-compare -DNDEBUG -g -fwrapv -O3 -Wall -Wstrict-prototypes -fPIC\n",
      "  \n",
      "  compile options: '-I/opt/conda/include/python3.7m -c'\n",
      "  extra options: '-mf16c'\n",
      "  CCompilerOpt.cc_test_flags[1013] : testing flags (-mavx2)\n",
      "  C compiler: gcc -pthread -B /opt/conda/compiler_compat -Wl,--sysroot=/ -Wsign-compare -DNDEBUG -g -fwrapv -O3 -Wall -Wstrict-prototypes -fPIC\n",
      "  \n",
      "  compile options: '-I/opt/conda/include/python3.7m -c'\n",
      "  extra options: '-mavx2'\n",
      "  CCompilerOpt.feature_test[1468] : testing feature 'AVX2' with flags (-msse -msse2 -msse3 -mssse3 -msse4.1 -mpopcnt -msse4.2 -mavx -mf16c -mavx2)\n",
      "  C compiler: gcc -pthread -B /opt/conda/compiler_compat -Wl,--sysroot=/ -Wsign-compare -DNDEBUG -g -fwrapv -O3 -Wall -Wstrict-prototypes -fPIC\n",
      "  \n",
      "  compile options: '-I/opt/conda/include/python3.7m -c'\n",
      "  extra options: '-msse -msse2 -msse3 -mssse3 -msse4.1 -mpopcnt -msse4.2 -mavx -mf16c -mavx2 -Werror'\n",
      "  CCompilerOpt.cc_test_flags[1013] : testing flags (-mfma)\n",
      "  C compiler: gcc -pthread -B /opt/conda/compiler_compat -Wl,--sysroot=/ -Wsign-compare -DNDEBUG -g -fwrapv -O3 -Wall -Wstrict-prototypes -fPIC\n",
      "  \n",
      "  compile options: '-I/opt/conda/include/python3.7m -c'\n",
      "  extra options: '-mfma'\n",
      "  CCompilerOpt.cc_test_flags[1013] : testing flags (-mavx512f)\n",
      "  C compiler: gcc -pthread -B /opt/conda/compiler_compat -Wl,--sysroot=/ -Wsign-compare -DNDEBUG -g -fwrapv -O3 -Wall -Wstrict-prototypes -fPIC\n",
      "  \n",
      "  compile options: '-I/opt/conda/include/python3.7m -c'\n",
      "  extra options: '-mavx512f'\n",
      "  CCompilerOpt.feature_test[1468] : testing feature 'AVX512F' with flags (-msse -msse2 -msse3 -mssse3 -msse4.1 -mpopcnt -msse4.2 -mavx -mf16c -mfma -mavx2 -mavx512f)\n",
      "  C compiler: gcc -pthread -B /opt/conda/compiler_compat -Wl,--sysroot=/ -Wsign-compare -DNDEBUG -g -fwrapv -O3 -Wall -Wstrict-prototypes -fPIC\n",
      "  \n",
      "  compile options: '-I/opt/conda/include/python3.7m -c'\n",
      "  extra options: '-msse -msse2 -msse3 -mssse3 -msse4.1 -mpopcnt -msse4.2 -mavx -mf16c -mfma -mavx2 -mavx512f -Werror'\n",
      "  CCompilerOpt.feature_test[1468] : testing feature 'F16C' with flags (-msse -msse2 -msse3 -mssse3 -msse4.1 -mpopcnt -msse4.2 -mavx -mf16c)\n",
      "  C compiler: gcc -pthread -B /opt/conda/compiler_compat -Wl,--sysroot=/ -Wsign-compare -DNDEBUG -g -fwrapv -O3 -Wall -Wstrict-prototypes -fPIC\n",
      "  \n",
      "  compile options: '-I/opt/conda/include/python3.7m -c'\n",
      "  extra options: '-msse -msse2 -msse3 -mssse3 -msse4.1 -mpopcnt -msse4.2 -mavx -mf16c -Werror'\n",
      "  CCompilerOpt.feature_test[1468] : testing feature 'FMA3' with flags (-msse -msse2 -msse3 -mssse3 -msse4.1 -mpopcnt -msse4.2 -mavx -mf16c -mfma)\n",
      "  C compiler: gcc -pthread -B /opt/conda/compiler_compat -Wl,--sysroot=/ -Wsign-compare -DNDEBUG -g -fwrapv -O3 -Wall -Wstrict-prototypes -fPIC\n",
      "  \n",
      "  compile options: '-I/opt/conda/include/python3.7m -c'\n",
      "  extra options: '-msse -msse2 -msse3 -mssse3 -msse4.1 -mpopcnt -msse4.2 -mavx -mf16c -mfma -Werror'\n",
      "  CCompilerOpt.feature_test[1468] : testing feature 'POPCNT' with flags (-msse -msse2 -msse3 -mssse3 -msse4.1 -mpopcnt)\n",
      "  C compiler: gcc -pthread -B /opt/conda/compiler_compat -Wl,--sysroot=/ -Wsign-compare -DNDEBUG -g -fwrapv -O3 -Wall -Wstrict-prototypes -fPIC\n",
      "  \n",
      "  compile options: '-I/opt/conda/include/python3.7m -c'\n",
      "  extra options: '-msse -msse2 -msse3 -mssse3 -msse4.1 -mpopcnt -Werror'\n",
      "  CCompilerOpt.feature_test[1468] : testing feature 'SSE41' with flags (-msse -msse2 -msse3 -mssse3 -msse4.1)\n",
      "  C compiler: gcc -pthread -B /opt/conda/compiler_compat -Wl,--sysroot=/ -Wsign-compare -DNDEBUG -g -fwrapv -O3 -Wall -Wstrict-prototypes -fPIC\n",
      "  \n",
      "  compile options: '-I/opt/conda/include/python3.7m -c'\n",
      "  extra options: '-msse -msse2 -msse3 -mssse3 -msse4.1 -Werror'\n",
      "  CCompilerOpt.feature_test[1468] : testing feature 'AVX' with flags (-msse -msse2 -msse3 -mssse3 -msse4.1 -mpopcnt -msse4.2 -mavx)\n",
      "  C compiler: gcc -pthread -B /opt/conda/compiler_compat -Wl,--sysroot=/ -Wsign-compare -DNDEBUG -g -fwrapv -O3 -Wall -Wstrict-prototypes -fPIC\n",
      "  \n",
      "  compile options: '-I/opt/conda/include/python3.7m -c'\n",
      "  extra options: '-msse -msse2 -msse3 -mssse3 -msse4.1 -mpopcnt -msse4.2 -mavx -Werror'\n",
      "  CCompilerOpt.cc_test_flags[1013] : testing flags (-mavx512cd)\n",
      "  C compiler: gcc -pthread -B /opt/conda/compiler_compat -Wl,--sysroot=/ -Wsign-compare -DNDEBUG -g -fwrapv -O3 -Wall -Wstrict-prototypes -fPIC\n",
      "  \n",
      "  compile options: '-I/opt/conda/include/python3.7m -c'\n",
      "  extra options: '-mavx512cd'\n",
      "  CCompilerOpt.feature_test[1468] : testing feature 'AVX512CD' with flags (-msse -msse2 -msse3 -mssse3 -msse4.1 -mpopcnt -msse4.2 -mavx -mf16c -mfma -mavx2 -mavx512f -mavx512cd)\n",
      "  C compiler: gcc -pthread -B /opt/conda/compiler_compat -Wl,--sysroot=/ -Wsign-compare -DNDEBUG -g -fwrapv -O3 -Wall -Wstrict-prototypes -fPIC\n",
      "  \n",
      "  compile options: '-I/opt/conda/include/python3.7m -c'\n",
      "  extra options: '-msse -msse2 -msse3 -mssse3 -msse4.1 -mpopcnt -msse4.2 -mavx -mf16c -mfma -mavx2 -mavx512f -mavx512cd -Werror'\n",
      "  CCompilerOpt.feature_test[1468] : testing feature 'SSE42' with flags (-msse -msse2 -msse3 -mssse3 -msse4.1 -mpopcnt -msse4.2)\n",
      "  C compiler: gcc -pthread -B /opt/conda/compiler_compat -Wl,--sysroot=/ -Wsign-compare -DNDEBUG -g -fwrapv -O3 -Wall -Wstrict-prototypes -fPIC\n",
      "  \n",
      "  compile options: '-I/opt/conda/include/python3.7m -c'\n",
      "  extra options: '-msse -msse2 -msse3 -mssse3 -msse4.1 -mpopcnt -msse4.2 -Werror'\n",
      "  CCompilerOpt.feature_test[1468] : testing feature 'SSSE3' with flags (-msse -msse2 -msse3 -mssse3)\n",
      "  C compiler: gcc -pthread -B /opt/conda/compiler_compat -Wl,--sysroot=/ -Wsign-compare -DNDEBUG -g -fwrapv -O3 -Wall -Wstrict-prototypes -fPIC\n",
      "  \n",
      "  compile options: '-I/opt/conda/include/python3.7m -c'\n",
      "  extra options: '-msse -msse2 -msse3 -mssse3 -Werror'\n",
      "  CCompilerOpt.cc_test_flags[1013] : testing flags (-mavx512vl -mavx512bw -mavx512dq)\n",
      "  C compiler: gcc -pthread -B /opt/conda/compiler_compat -Wl,--sysroot=/ -Wsign-compare -DNDEBUG -g -fwrapv -O3 -Wall -Wstrict-prototypes -fPIC\n",
      "  \n",
      "  compile options: '-I/opt/conda/include/python3.7m -c'\n",
      "  extra options: '-mavx512vl -mavx512bw -mavx512dq'\n",
      "  CCompilerOpt.feature_test[1468] : testing feature 'AVX512_SKX' with flags (-msse -msse2 -msse3 -mssse3 -msse4.1 -mpopcnt -msse4.2 -mavx -mf16c -mfma -mavx2 -mavx512f -mavx512cd -mavx512vl -mavx512bw -mavx512dq)\n",
      "  C compiler: gcc -pthread -B /opt/conda/compiler_compat -Wl,--sysroot=/ -Wsign-compare -DNDEBUG -g -fwrapv -O3 -Wall -Wstrict-prototypes -fPIC\n",
      "  \n",
      "  compile options: '-I/opt/conda/include/python3.7m -c'\n",
      "  extra options: '-msse -msse2 -msse3 -mssse3 -msse4.1 -mpopcnt -msse4.2 -mavx -mf16c -mfma -mavx2 -mavx512f -mavx512cd -mavx512vl -mavx512bw -mavx512dq -Werror'\n",
      "  CCompilerOpt.cc_test_flags[1013] : testing flags (-mavx512er -mavx512pf)\n",
      "  C compiler: gcc -pthread -B /opt/conda/compiler_compat -Wl,--sysroot=/ -Wsign-compare -DNDEBUG -g -fwrapv -O3 -Wall -Wstrict-prototypes -fPIC\n",
      "  \n",
      "  compile options: '-I/opt/conda/include/python3.7m -c'\n",
      "  extra options: '-mavx512er -mavx512pf'\n",
      "  CCompilerOpt.feature_test[1468] : testing feature 'AVX512_KNL' with flags (-msse -msse2 -msse3 -mssse3 -msse4.1 -mpopcnt -msse4.2 -mavx -mf16c -mfma -mavx2 -mavx512f -mavx512cd -mavx512er -mavx512pf)\n",
      "  C compiler: gcc -pthread -B /opt/conda/compiler_compat -Wl,--sysroot=/ -Wsign-compare -DNDEBUG -g -fwrapv -O3 -Wall -Wstrict-prototypes -fPIC\n",
      "  \n",
      "  compile options: '-I/opt/conda/include/python3.7m -c'\n",
      "  extra options: '-msse -msse2 -msse3 -mssse3 -msse4.1 -mpopcnt -msse4.2 -mavx -mf16c -mfma -mavx2 -mavx512f -mavx512cd -mavx512er -mavx512pf -Werror'\n",
      "  CCompilerOpt.cc_test_flags[1013] : testing flags (-mavx5124fmaps -mavx5124vnniw -mavx512vpopcntdq)\n",
      "  C compiler: gcc -pthread -B /opt/conda/compiler_compat -Wl,--sysroot=/ -Wsign-compare -DNDEBUG -g -fwrapv -O3 -Wall -Wstrict-prototypes -fPIC\n",
      "  \n",
      "  compile options: '-I/opt/conda/include/python3.7m -c'\n",
      "  extra options: '-mavx5124fmaps -mavx5124vnniw -mavx512vpopcntdq'\n",
      "  CCompilerOpt.feature_test[1468] : testing feature 'AVX512_KNM' with flags (-msse -msse2 -msse3 -mssse3 -msse4.1 -mpopcnt -msse4.2 -mavx -mf16c -mfma -mavx2 -mavx512f -mavx512cd -mavx512er -mavx512pf -mavx5124fmaps -mavx5124vnniw -mavx512vpopcntdq)\n",
      "  C compiler: gcc -pthread -B /opt/conda/compiler_compat -Wl,--sysroot=/ -Wsign-compare -DNDEBUG -g -fwrapv -O3 -Wall -Wstrict-prototypes -fPIC\n",
      "  \n",
      "  compile options: '-I/opt/conda/include/python3.7m -c'\n",
      "  extra options: '-msse -msse2 -msse3 -mssse3 -msse4.1 -mpopcnt -msse4.2 -mavx -mf16c -mfma -mavx2 -mavx512f -mavx512cd -mavx512er -mavx512pf -mavx5124fmaps -mavx5124vnniw -mavx512vpopcntdq -Werror'\n",
      "  CCompilerOpt.cc_test_flags[1013] : testing flags (-mavx512vnni)\n",
      "  C compiler: gcc -pthread -B /opt/conda/compiler_compat -Wl,--sysroot=/ -Wsign-compare -DNDEBUG -g -fwrapv -O3 -Wall -Wstrict-prototypes -fPIC\n",
      "  \n",
      "  compile options: '-I/opt/conda/include/python3.7m -c'\n",
      "  extra options: '-mavx512vnni'\n",
      "  CCompilerOpt.dist_test[581] : CCompilerOpt._dist_test_spawn[718] : Command (gcc -pthread -B /opt/conda/compiler_compat -Wl,--sysroot=/ -Wsign-compare -DNDEBUG -g -fwrapv -O3 -Wall -Wstrict-prototypes -fPIC -I/opt/conda/include/python3.7m -c /opt/conda/lib/python3.7/site-packages/numpy/distutils/checks/test_flags.c -o /tmp/tmp53m97e0a/opt/conda/lib/python3.7/site-packages/numpy/distutils/checks/test_flags.o -MMD -MF /tmp/tmp53m97e0a/opt/conda/lib/python3.7/site-packages/numpy/distutils/checks/test_flags.o.d -mavx512vnni) failed with exit status 1 output ->\n",
      "  gcc: error: unrecognized command line option ‘-mavx512vnni’; did you mean ‘-mavx5124vnniw’?\n",
      "  \n",
      "  CCompilerOpt.cc_test_flags[1017] : testing failed\n",
      "  CCompilerOpt.feature_test[1468] : testing feature 'AVX512_CLX' with flags (-msse -msse2 -msse3 -mssse3 -msse4.1 -mpopcnt -msse4.2 -mavx -mf16c -mfma -mavx2 -mavx512f -mavx512cd -mavx512vl -mavx512bw -mavx512dq)\n",
      "  C compiler: gcc -pthread -B /opt/conda/compiler_compat -Wl,--sysroot=/ -Wsign-compare -DNDEBUG -g -fwrapv -O3 -Wall -Wstrict-prototypes -fPIC\n",
      "  \n",
      "  compile options: '-I/opt/conda/include/python3.7m -c'\n",
      "  extra options: '-msse -msse2 -msse3 -mssse3 -msse4.1 -mpopcnt -msse4.2 -mavx -mf16c -mfma -mavx2 -mavx512f -mavx512cd -mavx512vl -mavx512bw -mavx512dq -Werror'\n",
      "  CCompilerOpt.dist_test[581] : CCompilerOpt._dist_test_spawn[718] : Command (gcc -pthread -B /opt/conda/compiler_compat -Wl,--sysroot=/ -Wsign-compare -DNDEBUG -g -fwrapv -O3 -Wall -Wstrict-prototypes -fPIC -I/opt/conda/include/python3.7m -c /opt/conda/lib/python3.7/site-packages/numpy/distutils/checks/cpu_avx512_clx.c -o /tmp/tmp53m97e0a/opt/conda/lib/python3.7/site-packages/numpy/distutils/checks/cpu_avx512_clx.o -MMD -MF /tmp/tmp53m97e0a/opt/conda/lib/python3.7/site-packages/numpy/distutils/checks/cpu_avx512_clx.o.d -msse -msse2 -msse3 -mssse3 -msse4.1 -mpopcnt -msse4.2 -mavx -mf16c -mfma -mavx2 -mavx512f -mavx512cd -mavx512vl -mavx512bw -mavx512dq -Werror) failed with exit status 1 output ->\n",
      "  /opt/conda/lib/python3.7/site-packages/numpy/distutils/checks/cpu_avx512_clx.c: In function ‘main’:\n",
      "  /opt/conda/lib/python3.7/site-packages/numpy/distutils/checks/cpu_avx512_clx.c:20:17: error: implicit declaration of function ‘_mm512_dpbusd_epi32’; did you mean ‘_mm512_4dpwssd_epi32’? [-Werror=implicit-function-declaration]\n",
      "               a = _mm512_dpbusd_epi32(a, _mm512_setzero_si512(), a);\n",
      "                   ^~~~~~~~~~~~~~~~~~~\n",
      "                   _mm512_4dpwssd_epi32\n",
      "  /opt/conda/lib/python3.7/site-packages/numpy/distutils/checks/cpu_avx512_clx.c:20:15: error: incompatible types when assigning to type ‘__m512i {aka __vector(8) long long int}’ from type ‘int’\n",
      "               a = _mm512_dpbusd_epi32(a, _mm512_setzero_si512(), a);\n",
      "                 ^\n",
      "  cc1: all warnings being treated as errors\n",
      "  \n",
      "  CCompilerOpt.feature_test[1482] : testing failed\n",
      "  CCompilerOpt.cc_test_flags[1013] : testing flags (-mavx512ifma -mavx512vbmi)\n",
      "  C compiler: gcc -pthread -B /opt/conda/compiler_compat -Wl,--sysroot=/ -Wsign-compare -DNDEBUG -g -fwrapv -O3 -Wall -Wstrict-prototypes -fPIC\n",
      "  \n",
      "  compile options: '-I/opt/conda/include/python3.7m -c'\n",
      "  extra options: '-mavx512ifma -mavx512vbmi'\n",
      "  CCompilerOpt.feature_test[1468] : testing feature 'AVX512_CNL' with flags (-msse -msse2 -msse3 -mssse3 -msse4.1 -mpopcnt -msse4.2 -mavx -mf16c -mfma -mavx2 -mavx512f -mavx512cd -mavx512vl -mavx512bw -mavx512dq -mavx512ifma -mavx512vbmi)\n",
      "  C compiler: gcc -pthread -B /opt/conda/compiler_compat -Wl,--sysroot=/ -Wsign-compare -DNDEBUG -g -fwrapv -O3 -Wall -Wstrict-prototypes -fPIC\n",
      "  \n",
      "  compile options: '-I/opt/conda/include/python3.7m -c'\n",
      "  extra options: '-msse -msse2 -msse3 -mssse3 -msse4.1 -mpopcnt -msse4.2 -mavx -mf16c -mfma -mavx2 -mavx512f -mavx512cd -mavx512vl -mavx512bw -mavx512dq -mavx512ifma -mavx512vbmi -Werror'\n",
      "  CCompilerOpt.__init__[1723] : skip features (SSE SSE2 SSE3) since its part of baseline\n",
      "  CCompilerOpt.__init__[1726] : initialize targets groups\n",
      "  CCompilerOpt.__init__[1728] : parse target group simd_test\n",
      "  CCompilerOpt._parse_target_tokens[1941] : skip targets (XOP VSX3 ASIMD VSX NEON VSX2 FMA4) not part of baseline or dispatch-able features\n",
      "  CCompilerOpt._parse_policy_not_keepbase[2051] : skip baseline features (SSE2)\n",
      "  CCompilerOpt.generate_dispatch_header[2272] : generate CPU dispatch header: (build/src.linux-x86_64-3.7/numpy/distutils/include/npy_cpu_dispatch_config.h)\n",
      "  CCompilerOpt.generate_dispatch_header[2283] : dispatch header dir build/src.linux-x86_64-3.7/numpy/distutils/include does not exist, creating it\n",
      "  CCompilerOpt.feature_extra_checks[1546] : Testing extra checks for feature 'AVX512F' (AVX512F_REDUCE)\n",
      "  C compiler: gcc -pthread -B /opt/conda/compiler_compat -Wl,--sysroot=/ -Wsign-compare -DNDEBUG -g -fwrapv -O3 -Wall -Wstrict-prototypes -fPIC\n",
      "  \n",
      "  compile options: '-I/opt/conda/include/python3.7m -c'\n",
      "  extra options: '-msse -msse2 -msse3 -mssse3 -msse4.1 -mpopcnt -msse4.2 -mavx -mf16c -mfma -mavx2 -mavx512f -Werror'\n",
      "  CCompilerOpt.feature_extra_checks[1546] : Testing extra checks for feature 'AVX512_SKX' (AVX512BW_MASK AVX512DQ_MASK)\n",
      "  C compiler: gcc -pthread -B /opt/conda/compiler_compat -Wl,--sysroot=/ -Wsign-compare -DNDEBUG -g -fwrapv -O3 -Wall -Wstrict-prototypes -fPIC\n",
      "  \n",
      "  compile options: '-I/opt/conda/include/python3.7m -c'\n",
      "  extra options: '-msse -msse2 -msse3 -mssse3 -msse4.1 -mpopcnt -msse4.2 -mavx -mf16c -mfma -mavx2 -mavx512f -mavx512cd -mavx512vl -mavx512bw -mavx512dq -Werror'\n",
      "  C compiler: gcc -pthread -B /opt/conda/compiler_compat -Wl,--sysroot=/ -Wsign-compare -DNDEBUG -g -fwrapv -O3 -Wall -Wstrict-prototypes -fPIC\n",
      "  \n",
      "  compile options: '-I/opt/conda/include/python3.7m -c'\n",
      "  extra options: '-msse -msse2 -msse3 -mssse3 -msse4.1 -mpopcnt -msse4.2 -mavx -mf16c -mfma -mavx2 -mavx512f -mavx512cd -mavx512vl -mavx512bw -mavx512dq -Werror'\n",
      "  building 'pyramid.__check_build._check_build' extension\n",
      "  compiling C sources\n",
      "  C compiler: gcc -pthread -B /opt/conda/compiler_compat -Wl,--sysroot=/ -Wsign-compare -DNDEBUG -g -fwrapv -O3 -Wall -Wstrict-prototypes -fPIC\n",
      "  \n",
      "  creating build/temp.linux-x86_64-3.7/pyramid\n",
      "  creating build/temp.linux-x86_64-3.7/pyramid/__check_build\n",
      "  compile options: '-I/opt/conda/lib/python3.7/site-packages/numpy/core/include -I/opt/conda/lib/python3.7/site-packages/numpy/core/include -Ibuild/src.linux-x86_64-3.7/numpy/distutils/include -I/opt/conda/include/python3.7m -c'\n",
      "  extra options: '-msse -msse2 -msse3'\n",
      "  gcc: pyramid/__check_build/_check_build.c\n",
      "  gcc -pthread -shared -B /opt/conda/compiler_compat -L/opt/conda/lib -Wl,-rpath=/opt/conda/lib -Wl,--no-as-needed -Wl,--sysroot=/ build/temp.linux-x86_64-3.7/pyramid/__check_build/_check_build.o -o build/lib.linux-x86_64-3.7/pyramid/__check_build/_check_build.cpython-37m-x86_64-linux-gnu.so\n",
      "  building 'pyramid.arima._arima' extension\n",
      "  compiling C sources\n",
      "  C compiler: gcc -pthread -B /opt/conda/compiler_compat -Wl,--sysroot=/ -Wsign-compare -DNDEBUG -g -fwrapv -O3 -Wall -Wstrict-prototypes -fPIC\n",
      "  \n",
      "  creating build/temp.linux-x86_64-3.7/pyramid/arima\n",
      "  compile options: '-DNO_ATLAS_INFO=1 -I/opt/conda/lib/python3.7/site-packages/numpy/core/include -Ipyramid/arima/_arima_fast_helpers.h -I/usr/local/include -I/opt/conda/include -I/opt/conda/lib/python3.7/site-packages/numpy/core/include -Ibuild/src.linux-x86_64-3.7/numpy/distutils/include -I/opt/conda/include/python3.7m -c'\n",
      "  extra options: '-msse -msse2 -msse3'\n",
      "  gcc: pyramid/arima/_arima.c\n",
      "  cc1: warning: pyramid/arima/_arima_fast_helpers.h: not a directory\n",
      "  In file included from /opt/conda/lib/python3.7/site-packages/numpy/core/include/numpy/ndarraytypes.h:1969:0,\n",
      "                   from /opt/conda/lib/python3.7/site-packages/numpy/core/include/numpy/ndarrayobject.h:12,\n",
      "                   from /opt/conda/lib/python3.7/site-packages/numpy/core/include/numpy/arrayobject.h:4,\n",
      "                   from pyramid/arima/_arima.c:308:\n",
      "  /opt/conda/lib/python3.7/site-packages/numpy/core/include/numpy/npy_1_7_deprecated_api.h:17:2: warning: #warning \"Using deprecated NumPy API, disable it with \" \"#define NPY_NO_DEPRECATED_API NPY_1_7_API_VERSION\" [-Wcpp]\n",
      "   #warning \"Using deprecated NumPy API, disable it with \" \\\n",
      "    ^~~~~~~\n",
      "  pyramid/arima/_arima.c: In function ‘__Pyx__ExceptionSave’:\n",
      "  pyramid/arima/_arima.c:26129:21: error: ‘PyThreadState {aka struct _ts}’ has no member named ‘exc_type’; did you mean ‘curexc_type’?\n",
      "       *type = tstate->exc_type;\n",
      "                       ^~~~~~~~\n",
      "                       curexc_type\n",
      "  pyramid/arima/_arima.c:26130:22: error: ‘PyThreadState {aka struct _ts}’ has no member named ‘exc_value’; did you mean ‘curexc_value’?\n",
      "       *value = tstate->exc_value;\n",
      "                        ^~~~~~~~~\n",
      "                        curexc_value\n",
      "  pyramid/arima/_arima.c:26131:19: error: ‘PyThreadState {aka struct _ts}’ has no member named ‘exc_traceback’; did you mean ‘curexc_traceback’?\n",
      "       *tb = tstate->exc_traceback;\n",
      "                     ^~~~~~~~~~~~~\n",
      "                     curexc_traceback\n",
      "  pyramid/arima/_arima.c: In function ‘__Pyx__ExceptionReset’:\n",
      "  pyramid/arima/_arima.c:26138:24: error: ‘PyThreadState {aka struct _ts}’ has no member named ‘exc_type’; did you mean ‘curexc_type’?\n",
      "       tmp_type = tstate->exc_type;\n",
      "                          ^~~~~~~~\n",
      "                          curexc_type\n",
      "  pyramid/arima/_arima.c:26139:25: error: ‘PyThreadState {aka struct _ts}’ has no member named ‘exc_value’; did you mean ‘curexc_value’?\n",
      "       tmp_value = tstate->exc_value;\n",
      "                           ^~~~~~~~~\n",
      "                           curexc_value\n",
      "  pyramid/arima/_arima.c:26140:22: error: ‘PyThreadState {aka struct _ts}’ has no member named ‘exc_traceback’; did you mean ‘curexc_traceback’?\n",
      "       tmp_tb = tstate->exc_traceback;\n",
      "                        ^~~~~~~~~~~~~\n",
      "                        curexc_traceback\n",
      "  pyramid/arima/_arima.c:26141:13: error: ‘PyThreadState {aka struct _ts}’ has no member named ‘exc_type’; did you mean ‘curexc_type’?\n",
      "       tstate->exc_type = type;\n",
      "               ^~~~~~~~\n",
      "               curexc_type\n",
      "  pyramid/arima/_arima.c:26142:13: error: ‘PyThreadState {aka struct _ts}’ has no member named ‘exc_value’; did you mean ‘curexc_value’?\n",
      "       tstate->exc_value = value;\n",
      "               ^~~~~~~~~\n",
      "               curexc_value\n",
      "  pyramid/arima/_arima.c:26143:13: error: ‘PyThreadState {aka struct _ts}’ has no member named ‘exc_traceback’; did you mean ‘curexc_traceback’?\n",
      "       tstate->exc_traceback = tb;\n",
      "               ^~~~~~~~~~~~~\n",
      "               curexc_traceback\n",
      "  pyramid/arima/_arima.c: In function ‘__Pyx__GetException’:\n",
      "  pyramid/arima/_arima.c:26198:24: error: ‘PyThreadState {aka struct _ts}’ has no member named ‘exc_type’; did you mean ‘curexc_type’?\n",
      "       tmp_type = tstate->exc_type;\n",
      "                          ^~~~~~~~\n",
      "                          curexc_type\n",
      "  pyramid/arima/_arima.c:26199:25: error: ‘PyThreadState {aka struct _ts}’ has no member named ‘exc_value’; did you mean ‘curexc_value’?\n",
      "       tmp_value = tstate->exc_value;\n",
      "                           ^~~~~~~~~\n",
      "                           curexc_value\n",
      "  pyramid/arima/_arima.c:26200:22: error: ‘PyThreadState {aka struct _ts}’ has no member named ‘exc_traceback’; did you mean ‘curexc_traceback’?\n",
      "       tmp_tb = tstate->exc_traceback;\n",
      "                        ^~~~~~~~~~~~~\n",
      "                        curexc_traceback\n",
      "  pyramid/arima/_arima.c:26201:13: error: ‘PyThreadState {aka struct _ts}’ has no member named ‘exc_type’; did you mean ‘curexc_type’?\n",
      "       tstate->exc_type = local_type;\n",
      "               ^~~~~~~~\n",
      "               curexc_type\n",
      "  pyramid/arima/_arima.c:26202:13: error: ‘PyThreadState {aka struct _ts}’ has no member named ‘exc_value’; did you mean ‘curexc_value’?\n",
      "       tstate->exc_value = local_value;\n",
      "               ^~~~~~~~~\n",
      "               curexc_value\n",
      "  pyramid/arima/_arima.c:26203:13: error: ‘PyThreadState {aka struct _ts}’ has no member named ‘exc_traceback’; did you mean ‘curexc_traceback’?\n",
      "       tstate->exc_traceback = local_tb;\n",
      "               ^~~~~~~~~~~~~\n",
      "               curexc_traceback\n",
      "  pyramid/arima/_arima.c: In function ‘__Pyx__ExceptionSwap’:\n",
      "  pyramid/arima/_arima.c:27811:24: error: ‘PyThreadState {aka struct _ts}’ has no member named ‘exc_type’; did you mean ‘curexc_type’?\n",
      "       tmp_type = tstate->exc_type;\n",
      "                          ^~~~~~~~\n",
      "                          curexc_type\n",
      "  pyramid/arima/_arima.c:27812:25: error: ‘PyThreadState {aka struct _ts}’ has no member named ‘exc_value’; did you mean ‘curexc_value’?\n",
      "       tmp_value = tstate->exc_value;\n",
      "                           ^~~~~~~~~\n",
      "                           curexc_value\n",
      "  pyramid/arima/_arima.c:27813:22: error: ‘PyThreadState {aka struct _ts}’ has no member named ‘exc_traceback’; did you mean ‘curexc_traceback’?\n",
      "       tmp_tb = tstate->exc_traceback;\n",
      "                        ^~~~~~~~~~~~~\n",
      "                        curexc_traceback\n",
      "  pyramid/arima/_arima.c:27814:13: error: ‘PyThreadState {aka struct _ts}’ has no member named ‘exc_type’; did you mean ‘curexc_type’?\n",
      "       tstate->exc_type = *type;\n",
      "               ^~~~~~~~\n",
      "               curexc_type\n",
      "  pyramid/arima/_arima.c:27815:13: error: ‘PyThreadState {aka struct _ts}’ has no member named ‘exc_value’; did you mean ‘curexc_value’?\n",
      "       tstate->exc_value = *value;\n",
      "               ^~~~~~~~~\n",
      "               curexc_value\n",
      "  pyramid/arima/_arima.c:27816:13: error: ‘PyThreadState {aka struct _ts}’ has no member named ‘exc_traceback’; did you mean ‘curexc_traceback’?\n",
      "       tstate->exc_traceback = *tb;\n",
      "               ^~~~~~~~~~~~~\n",
      "               curexc_traceback\n",
      "  error: Command \"gcc -pthread -B /opt/conda/compiler_compat -Wl,--sysroot=/ -Wsign-compare -DNDEBUG -g -fwrapv -O3 -Wall -Wstrict-prototypes -fPIC -DNO_ATLAS_INFO=1 -I/opt/conda/lib/python3.7/site-packages/numpy/core/include -Ipyramid/arima/_arima_fast_helpers.h -I/usr/local/include -I/opt/conda/include -I/opt/conda/lib/python3.7/site-packages/numpy/core/include -Ibuild/src.linux-x86_64-3.7/numpy/distutils/include -I/opt/conda/include/python3.7m -c pyramid/arima/_arima.c -o build/temp.linux-x86_64-3.7/pyramid/arima/_arima.o -MMD -MF build/temp.linux-x86_64-3.7/pyramid/arima/_arima.o.d -msse -msse2 -msse3\" failed with exit status 1\n",
      "  \n",
      "  ########### EXT COMPILER OPTIMIZATION ###########\n",
      "  Platform      :\n",
      "    Architecture: x64\n",
      "    Compiler    : gcc\n",
      "  \n",
      "  CPU baseline  :\n",
      "    Requested   : 'min'\n",
      "    Enabled     : SSE SSE2 SSE3\n",
      "    Flags       : -msse -msse2 -msse3\n",
      "    Extra checks: none\n",
      "  \n",
      "  CPU dispatch  :\n",
      "    Requested   : 'max -xop -fma4'\n",
      "    Enabled     : SSSE3 SSE41 POPCNT SSE42 AVX F16C FMA3 AVX2 AVX512F AVX512CD AVX512_KNL AVX512_KNM AVX512_SKX AVX512_CNL\n",
      "    Generated   : none\n",
      "  CCompilerOpt.cache_flush[809] : write cache to path -> /tmp/pip-install-8hy_2jir/pyramid-arima/build/temp.linux-x86_64-3.7/ccompiler_opt_cache_ext.py\n",
      "  ----------------------------------------\u001b[0m\n",
      "\u001b[31m  ERROR: Failed building wheel for pyramid-arima\u001b[0m\n",
      "\u001b[?25h  Running setup.py clean for pyramid-arima\n",
      "Failed to build pyramid-arima\n",
      "Installing collected packages: pyramid-arima\n",
      "    Running setup.py install for pyramid-arima ... \u001b[?25lerror\n",
      "\u001b[31m    ERROR: Command errored out with exit status 1:\n",
      "     command: /opt/conda/bin/python3.7 -u -c 'import sys, setuptools, tokenize; sys.argv[0] = '\"'\"'/tmp/pip-install-8hy_2jir/pyramid-arima/setup.py'\"'\"'; __file__='\"'\"'/tmp/pip-install-8hy_2jir/pyramid-arima/setup.py'\"'\"';f=getattr(tokenize, '\"'\"'open'\"'\"', open)(__file__);code=f.read().replace('\"'\"'\\r\\n'\"'\"', '\"'\"'\\n'\"'\"');f.close();exec(compile(code, __file__, '\"'\"'exec'\"'\"'))' install --record /tmp/pip-record-bc_sx57j/install-record.txt --single-version-externally-managed --compile --install-headers /opt/conda/include/python3.7m/pyramid-arima\n",
      "         cwd: /tmp/pip-install-8hy_2jir/pyramid-arima/\n",
      "    Complete output (516 lines):\n",
      "    Partial import of pyramid during the build process.\n",
      "    Requirements: ['Cython>=0.23', 'numpy>=1.10', 'scipy>=0.9', 'scikit-learn>=0.17', 'pandas>=0.19', 'statsmodels>=0.9.0']\n",
      "    Adding extra setuptools args\n",
      "    blas_opt_info:\n",
      "    blas_mkl_info:\n",
      "    customize UnixCCompiler\n",
      "      libraries mkl_rt not found in ['/opt/conda/lib', '/usr/local/lib', '/usr/lib', '/usr/lib/x86_64-linux-gnu']\n",
      "      NOT AVAILABLE\n",
      "    \n",
      "    blis_info:\n",
      "      libraries blis not found in ['/opt/conda/lib', '/usr/local/lib', '/usr/lib', '/usr/lib/x86_64-linux-gnu']\n",
      "      NOT AVAILABLE\n",
      "    \n",
      "    openblas_info:\n",
      "      libraries openblas not found in ['/opt/conda/lib', '/usr/local/lib', '/usr/lib', '/usr/lib/x86_64-linux-gnu']\n",
      "      NOT AVAILABLE\n",
      "    \n",
      "    accelerate_info:\n",
      "      NOT AVAILABLE\n",
      "    \n",
      "    atlas_3_10_blas_threads_info:\n",
      "    Setting PTATLAS=ATLAS\n",
      "      libraries tatlas not found in ['/opt/conda/lib', '/usr/local/lib', '/usr/lib', '/usr/lib/x86_64-linux-gnu']\n",
      "      NOT AVAILABLE\n",
      "    \n",
      "    atlas_3_10_blas_info:\n",
      "      libraries satlas not found in ['/opt/conda/lib', '/usr/local/lib', '/usr/lib', '/usr/lib/x86_64-linux-gnu']\n",
      "      NOT AVAILABLE\n",
      "    \n",
      "    atlas_blas_threads_info:\n",
      "    Setting PTATLAS=ATLAS\n",
      "      libraries ptf77blas,ptcblas,atlas not found in ['/opt/conda/lib', '/usr/local/lib', '/usr/lib', '/usr/lib/x86_64-linux-gnu']\n",
      "      NOT AVAILABLE\n",
      "    \n",
      "    atlas_blas_info:\n",
      "      libraries f77blas,cblas,atlas not found in ['/opt/conda/lib', '/usr/local/lib', '/usr/lib', '/usr/lib/x86_64-linux-gnu']\n",
      "      NOT AVAILABLE\n",
      "    \n",
      "    /opt/conda/lib/python3.7/site-packages/numpy/distutils/system_info.py:2026: UserWarning:\n",
      "        Optimized (vendor) Blas libraries are not found.\n",
      "        Falls back to netlib Blas library which has worse performance.\n",
      "        A better performance should be easily gained by switching\n",
      "        Blas library.\n",
      "      if self._calc_info(blas):\n",
      "    blas_info:\n",
      "    C compiler: gcc -pthread -B /opt/conda/compiler_compat -Wl,--sysroot=/ -Wsign-compare -DNDEBUG -g -fwrapv -O3 -Wall -Wstrict-prototypes -fPIC\n",
      "    \n",
      "    creating /tmp/tmpz3nwx3ol/tmp\n",
      "    creating /tmp/tmpz3nwx3ol/tmp/tmpz3nwx3ol\n",
      "    compile options: '-I/usr/local/include -I/opt/conda/include -c'\n",
      "    gcc: /tmp/tmpz3nwx3ol/source.c\n",
      "    /tmp/tmpz3nwx3ol/source.c:1:10: fatal error: cblas.h: No such file or directory\n",
      "     #include <cblas.h>\n",
      "              ^~~~~~~~~\n",
      "    compilation terminated.\n",
      "      FOUND:\n",
      "        libraries = ['blas', 'blas']\n",
      "        library_dirs = ['/opt/conda/lib']\n",
      "        include_dirs = ['/usr/local/include', '/opt/conda/include']\n",
      "    \n",
      "      FOUND:\n",
      "        define_macros = [('NO_ATLAS_INFO', 1)]\n",
      "        libraries = ['blas', 'blas']\n",
      "        library_dirs = ['/opt/conda/lib']\n",
      "        include_dirs = ['/usr/local/include', '/opt/conda/include']\n",
      "    \n",
      "    running install\n",
      "    running build\n",
      "    running config_cc\n",
      "    unifing config_cc, config, build_clib, build_ext, build commands --compiler options\n",
      "    running config_fc\n",
      "    unifing config_fc, config, build_clib, build_ext, build commands --fcompiler options\n",
      "    running build_src\n",
      "    build_src\n",
      "    building extension \"pyramid.__check_build._check_build\" sources\n",
      "    building extension \"pyramid.arima._arima\" sources\n",
      "    build_src: building npy-pkg config files\n",
      "    running build_py\n",
      "    creating build\n",
      "    creating build/lib.linux-x86_64-3.7\n",
      "    creating build/lib.linux-x86_64-3.7/pyramid\n",
      "    copying pyramid/_config.py -> build/lib.linux-x86_64-3.7/pyramid\n",
      "    copying pyramid/setup.py -> build/lib.linux-x86_64-3.7/pyramid\n",
      "    copying pyramid/__init__.py -> build/lib.linux-x86_64-3.7/pyramid\n",
      "    creating build/lib.linux-x86_64-3.7/pyramid/__check_build\n",
      "    copying pyramid/__check_build/setup.py -> build/lib.linux-x86_64-3.7/pyramid/__check_build\n",
      "    copying pyramid/__check_build/__init__.py -> build/lib.linux-x86_64-3.7/pyramid/__check_build\n",
      "    creating build/lib.linux-x86_64-3.7/pyramid/__check_build/tests\n",
      "    copying pyramid/__check_build/tests/test_check_build.py -> build/lib.linux-x86_64-3.7/pyramid/__check_build/tests\n",
      "    copying pyramid/__check_build/tests/__init__.py -> build/lib.linux-x86_64-3.7/pyramid/__check_build/tests\n",
      "    creating build/lib.linux-x86_64-3.7/pyramid/_build_utils\n",
      "    copying pyramid/_build_utils/__init__.py -> build/lib.linux-x86_64-3.7/pyramid/_build_utils\n",
      "    creating build/lib.linux-x86_64-3.7/pyramid/_build_utils/tests\n",
      "    copying pyramid/_build_utils/tests/__init__.py -> build/lib.linux-x86_64-3.7/pyramid/_build_utils/tests\n",
      "    creating build/lib.linux-x86_64-3.7/pyramid/compat\n",
      "    copying pyramid/compat/numpy.py -> build/lib.linux-x86_64-3.7/pyramid/compat\n",
      "    copying pyramid/compat/matplotlib.py -> build/lib.linux-x86_64-3.7/pyramid/compat\n",
      "    copying pyramid/compat/pandas.py -> build/lib.linux-x86_64-3.7/pyramid/compat\n",
      "    copying pyramid/compat/python.py -> build/lib.linux-x86_64-3.7/pyramid/compat\n",
      "    copying pyramid/compat/__init__.py -> build/lib.linux-x86_64-3.7/pyramid/compat\n",
      "    creating build/lib.linux-x86_64-3.7/pyramid/compat/tests\n",
      "    copying pyramid/compat/tests/test_compat.py -> build/lib.linux-x86_64-3.7/pyramid/compat/tests\n",
      "    copying pyramid/compat/tests/__init__.py -> build/lib.linux-x86_64-3.7/pyramid/compat/tests\n",
      "    creating build/lib.linux-x86_64-3.7/pyramid/datasets\n",
      "    copying pyramid/datasets/heartrate.py -> build/lib.linux-x86_64-3.7/pyramid/datasets\n",
      "    copying pyramid/datasets/woolyrnq.py -> build/lib.linux-x86_64-3.7/pyramid/datasets\n",
      "    copying pyramid/datasets/wineind.py -> build/lib.linux-x86_64-3.7/pyramid/datasets\n",
      "    copying pyramid/datasets/lynx.py -> build/lib.linux-x86_64-3.7/pyramid/datasets\n",
      "    copying pyramid/datasets/__init__.py -> build/lib.linux-x86_64-3.7/pyramid/datasets\n",
      "    creating build/lib.linux-x86_64-3.7/pyramid/utils\n",
      "    copying pyramid/utils/metaestimators.py -> build/lib.linux-x86_64-3.7/pyramid/utils\n",
      "    copying pyramid/utils/visualization.py -> build/lib.linux-x86_64-3.7/pyramid/utils\n",
      "    copying pyramid/utils/wrapped.py -> build/lib.linux-x86_64-3.7/pyramid/utils\n",
      "    copying pyramid/utils/array.py -> build/lib.linux-x86_64-3.7/pyramid/utils\n",
      "    copying pyramid/utils/testing.py -> build/lib.linux-x86_64-3.7/pyramid/utils\n",
      "    copying pyramid/utils/__init__.py -> build/lib.linux-x86_64-3.7/pyramid/utils\n",
      "    creating build/lib.linux-x86_64-3.7/pyramid/utils/tests\n",
      "    copying pyramid/utils/tests/test_testing.py -> build/lib.linux-x86_64-3.7/pyramid/utils/tests\n",
      "    copying pyramid/utils/tests/test_wrapped.py -> build/lib.linux-x86_64-3.7/pyramid/utils/tests\n",
      "    copying pyramid/utils/tests/test_meta.py -> build/lib.linux-x86_64-3.7/pyramid/utils/tests\n",
      "    copying pyramid/utils/tests/test_array.py -> build/lib.linux-x86_64-3.7/pyramid/utils/tests\n",
      "    copying pyramid/utils/tests/test_vis.py -> build/lib.linux-x86_64-3.7/pyramid/utils/tests\n",
      "    copying pyramid/utils/tests/__init__.py -> build/lib.linux-x86_64-3.7/pyramid/utils/tests\n",
      "    creating build/lib.linux-x86_64-3.7/pyramid/arima\n",
      "    copying pyramid/arima/warnings.py -> build/lib.linux-x86_64-3.7/pyramid/arima\n",
      "    copying pyramid/arima/utils.py -> build/lib.linux-x86_64-3.7/pyramid/arima\n",
      "    copying pyramid/arima/auto.py -> build/lib.linux-x86_64-3.7/pyramid/arima\n",
      "    copying pyramid/arima/setup.py -> build/lib.linux-x86_64-3.7/pyramid/arima\n",
      "    copying pyramid/arima/seasonality.py -> build/lib.linux-x86_64-3.7/pyramid/arima\n",
      "    copying pyramid/arima/approx.py -> build/lib.linux-x86_64-3.7/pyramid/arima\n",
      "    copying pyramid/arima/arima.py -> build/lib.linux-x86_64-3.7/pyramid/arima\n",
      "    copying pyramid/arima/stationarity.py -> build/lib.linux-x86_64-3.7/pyramid/arima\n",
      "    copying pyramid/arima/__init__.py -> build/lib.linux-x86_64-3.7/pyramid/arima\n",
      "    creating build/lib.linux-x86_64-3.7/pyramid/arima/tests\n",
      "    copying pyramid/arima/tests/test_approx.py -> build/lib.linux-x86_64-3.7/pyramid/arima/tests\n",
      "    copying pyramid/arima/tests/test_stationarity.py -> build/lib.linux-x86_64-3.7/pyramid/arima/tests\n",
      "    copying pyramid/arima/tests/test_arima.py -> build/lib.linux-x86_64-3.7/pyramid/arima/tests\n",
      "    copying pyramid/arima/tests/test_c_arima.py -> build/lib.linux-x86_64-3.7/pyramid/arima/tests\n",
      "    copying pyramid/arima/tests/__init__.py -> build/lib.linux-x86_64-3.7/pyramid/arima/tests\n",
      "    running build_ext\n",
      "    customize UnixCCompiler\n",
      "    customize UnixCCompiler using build_ext\n",
      "    CCompilerOpt.cc_test_flags[1013] : testing flags (-march=native)\n",
      "    C compiler: gcc -pthread -B /opt/conda/compiler_compat -Wl,--sysroot=/ -Wsign-compare -DNDEBUG -g -fwrapv -O3 -Wall -Wstrict-prototypes -fPIC\n",
      "    \n",
      "    creating /tmp/tmp_spmx8xw/opt\n",
      "    creating /tmp/tmp_spmx8xw/opt/conda\n",
      "    creating /tmp/tmp_spmx8xw/opt/conda/lib\n",
      "    creating /tmp/tmp_spmx8xw/opt/conda/lib/python3.7\n",
      "    creating /tmp/tmp_spmx8xw/opt/conda/lib/python3.7/site-packages\n",
      "    creating /tmp/tmp_spmx8xw/opt/conda/lib/python3.7/site-packages/numpy\n",
      "    creating /tmp/tmp_spmx8xw/opt/conda/lib/python3.7/site-packages/numpy/distutils\n",
      "    creating /tmp/tmp_spmx8xw/opt/conda/lib/python3.7/site-packages/numpy/distutils/checks\n",
      "    compile options: '-I/opt/conda/include/python3.7m -c'\n",
      "    extra options: '-march=native'\n",
      "    CCompilerOpt.cc_test_flags[1013] : testing flags (-O3)\n",
      "    C compiler: gcc -pthread -B /opt/conda/compiler_compat -Wl,--sysroot=/ -Wsign-compare -DNDEBUG -g -fwrapv -O3 -Wall -Wstrict-prototypes -fPIC\n",
      "    \n",
      "    compile options: '-I/opt/conda/include/python3.7m -c'\n",
      "    extra options: '-O3'\n",
      "    CCompilerOpt.cc_test_flags[1013] : testing flags (-Werror)\n",
      "    C compiler: gcc -pthread -B /opt/conda/compiler_compat -Wl,--sysroot=/ -Wsign-compare -DNDEBUG -g -fwrapv -O3 -Wall -Wstrict-prototypes -fPIC\n",
      "    \n",
      "    compile options: '-I/opt/conda/include/python3.7m -c'\n",
      "    extra options: '-Werror'\n",
      "    CCompilerOpt.__init__[1701] : check requested baseline\n",
      "    CCompilerOpt.cc_test_flags[1013] : testing flags (-msse)\n",
      "    C compiler: gcc -pthread -B /opt/conda/compiler_compat -Wl,--sysroot=/ -Wsign-compare -DNDEBUG -g -fwrapv -O3 -Wall -Wstrict-prototypes -fPIC\n",
      "    \n",
      "    compile options: '-I/opt/conda/include/python3.7m -c'\n",
      "    extra options: '-msse'\n",
      "    CCompilerOpt.cc_test_flags[1013] : testing flags (-msse2)\n",
      "    C compiler: gcc -pthread -B /opt/conda/compiler_compat -Wl,--sysroot=/ -Wsign-compare -DNDEBUG -g -fwrapv -O3 -Wall -Wstrict-prototypes -fPIC\n",
      "    \n",
      "    compile options: '-I/opt/conda/include/python3.7m -c'\n",
      "    extra options: '-msse2'\n",
      "    CCompilerOpt.feature_test[1468] : testing feature 'SSE2' with flags (-msse -msse2)\n",
      "    C compiler: gcc -pthread -B /opt/conda/compiler_compat -Wl,--sysroot=/ -Wsign-compare -DNDEBUG -g -fwrapv -O3 -Wall -Wstrict-prototypes -fPIC\n",
      "    \n",
      "    compile options: '-I/opt/conda/include/python3.7m -c'\n",
      "    extra options: '-msse -msse2 -Werror'\n",
      "    CCompilerOpt.feature_test[1468] : testing feature 'SSE' with flags (-msse -msse2)\n",
      "    C compiler: gcc -pthread -B /opt/conda/compiler_compat -Wl,--sysroot=/ -Wsign-compare -DNDEBUG -g -fwrapv -O3 -Wall -Wstrict-prototypes -fPIC\n",
      "    \n",
      "    compile options: '-I/opt/conda/include/python3.7m -c'\n",
      "    extra options: '-msse -msse2 -Werror'\n",
      "    CCompilerOpt.cc_test_flags[1013] : testing flags (-msse3)\n",
      "    C compiler: gcc -pthread -B /opt/conda/compiler_compat -Wl,--sysroot=/ -Wsign-compare -DNDEBUG -g -fwrapv -O3 -Wall -Wstrict-prototypes -fPIC\n",
      "    \n",
      "    compile options: '-I/opt/conda/include/python3.7m -c'\n",
      "    extra options: '-msse3'\n",
      "    CCompilerOpt.feature_test[1468] : testing feature 'SSE3' with flags (-msse -msse2 -msse3)\n",
      "    C compiler: gcc -pthread -B /opt/conda/compiler_compat -Wl,--sysroot=/ -Wsign-compare -DNDEBUG -g -fwrapv -O3 -Wall -Wstrict-prototypes -fPIC\n",
      "    \n",
      "    compile options: '-I/opt/conda/include/python3.7m -c'\n",
      "    extra options: '-msse -msse2 -msse3 -Werror'\n",
      "    CCompilerOpt.__init__[1710] : check requested dispatch-able features\n",
      "    CCompilerOpt.cc_test_flags[1013] : testing flags (-mssse3)\n",
      "    C compiler: gcc -pthread -B /opt/conda/compiler_compat -Wl,--sysroot=/ -Wsign-compare -DNDEBUG -g -fwrapv -O3 -Wall -Wstrict-prototypes -fPIC\n",
      "    \n",
      "    compile options: '-I/opt/conda/include/python3.7m -c'\n",
      "    extra options: '-mssse3'\n",
      "    CCompilerOpt.cc_test_flags[1013] : testing flags (-msse4.1)\n",
      "    C compiler: gcc -pthread -B /opt/conda/compiler_compat -Wl,--sysroot=/ -Wsign-compare -DNDEBUG -g -fwrapv -O3 -Wall -Wstrict-prototypes -fPIC\n",
      "    \n",
      "    compile options: '-I/opt/conda/include/python3.7m -c'\n",
      "    extra options: '-msse4.1'\n",
      "    CCompilerOpt.feature_test[1468] : testing feature 'SSE41' with flags (-msse -msse2 -msse3 -mssse3 -msse4.1)\n",
      "    C compiler: gcc -pthread -B /opt/conda/compiler_compat -Wl,--sysroot=/ -Wsign-compare -DNDEBUG -g -fwrapv -O3 -Wall -Wstrict-prototypes -fPIC\n",
      "    \n",
      "    compile options: '-I/opt/conda/include/python3.7m -c'\n",
      "    extra options: '-msse -msse2 -msse3 -mssse3 -msse4.1 -Werror'\n",
      "    CCompilerOpt.feature_test[1468] : testing feature 'SSSE3' with flags (-msse -msse2 -msse3 -mssse3)\n",
      "    C compiler: gcc -pthread -B /opt/conda/compiler_compat -Wl,--sysroot=/ -Wsign-compare -DNDEBUG -g -fwrapv -O3 -Wall -Wstrict-prototypes -fPIC\n",
      "    \n",
      "    compile options: '-I/opt/conda/include/python3.7m -c'\n",
      "    extra options: '-msse -msse2 -msse3 -mssse3 -Werror'\n",
      "    CCompilerOpt.cc_test_flags[1013] : testing flags (-mpopcnt)\n",
      "    C compiler: gcc -pthread -B /opt/conda/compiler_compat -Wl,--sysroot=/ -Wsign-compare -DNDEBUG -g -fwrapv -O3 -Wall -Wstrict-prototypes -fPIC\n",
      "    \n",
      "    compile options: '-I/opt/conda/include/python3.7m -c'\n",
      "    extra options: '-mpopcnt'\n",
      "    CCompilerOpt.feature_test[1468] : testing feature 'POPCNT' with flags (-msse -msse2 -msse3 -mssse3 -msse4.1 -mpopcnt)\n",
      "    C compiler: gcc -pthread -B /opt/conda/compiler_compat -Wl,--sysroot=/ -Wsign-compare -DNDEBUG -g -fwrapv -O3 -Wall -Wstrict-prototypes -fPIC\n",
      "    \n",
      "    compile options: '-I/opt/conda/include/python3.7m -c'\n",
      "    extra options: '-msse -msse2 -msse3 -mssse3 -msse4.1 -mpopcnt -Werror'\n",
      "    CCompilerOpt.cc_test_flags[1013] : testing flags (-msse4.2)\n",
      "    C compiler: gcc -pthread -B /opt/conda/compiler_compat -Wl,--sysroot=/ -Wsign-compare -DNDEBUG -g -fwrapv -O3 -Wall -Wstrict-prototypes -fPIC\n",
      "    \n",
      "    compile options: '-I/opt/conda/include/python3.7m -c'\n",
      "    extra options: '-msse4.2'\n",
      "    CCompilerOpt.feature_test[1468] : testing feature 'SSE42' with flags (-msse -msse2 -msse3 -mssse3 -msse4.1 -mpopcnt -msse4.2)\n",
      "    C compiler: gcc -pthread -B /opt/conda/compiler_compat -Wl,--sysroot=/ -Wsign-compare -DNDEBUG -g -fwrapv -O3 -Wall -Wstrict-prototypes -fPIC\n",
      "    \n",
      "    compile options: '-I/opt/conda/include/python3.7m -c'\n",
      "    extra options: '-msse -msse2 -msse3 -mssse3 -msse4.1 -mpopcnt -msse4.2 -Werror'\n",
      "    CCompilerOpt.cc_test_flags[1013] : testing flags (-mavx)\n",
      "    C compiler: gcc -pthread -B /opt/conda/compiler_compat -Wl,--sysroot=/ -Wsign-compare -DNDEBUG -g -fwrapv -O3 -Wall -Wstrict-prototypes -fPIC\n",
      "    \n",
      "    compile options: '-I/opt/conda/include/python3.7m -c'\n",
      "    extra options: '-mavx'\n",
      "    CCompilerOpt.cc_test_flags[1013] : testing flags (-mf16c)\n",
      "    C compiler: gcc -pthread -B /opt/conda/compiler_compat -Wl,--sysroot=/ -Wsign-compare -DNDEBUG -g -fwrapv -O3 -Wall -Wstrict-prototypes -fPIC\n",
      "    \n",
      "    compile options: '-I/opt/conda/include/python3.7m -c'\n",
      "    extra options: '-mf16c'\n",
      "    CCompilerOpt.cc_test_flags[1013] : testing flags (-mfma)\n",
      "    C compiler: gcc -pthread -B /opt/conda/compiler_compat -Wl,--sysroot=/ -Wsign-compare -DNDEBUG -g -fwrapv -O3 -Wall -Wstrict-prototypes -fPIC\n",
      "    \n",
      "    compile options: '-I/opt/conda/include/python3.7m -c'\n",
      "    extra options: '-mfma'\n",
      "    CCompilerOpt.feature_test[1468] : testing feature 'FMA3' with flags (-msse -msse2 -msse3 -mssse3 -msse4.1 -mpopcnt -msse4.2 -mavx -mf16c -mfma)\n",
      "    C compiler: gcc -pthread -B /opt/conda/compiler_compat -Wl,--sysroot=/ -Wsign-compare -DNDEBUG -g -fwrapv -O3 -Wall -Wstrict-prototypes -fPIC\n",
      "    \n",
      "    compile options: '-I/opt/conda/include/python3.7m -c'\n",
      "    extra options: '-msse -msse2 -msse3 -mssse3 -msse4.1 -mpopcnt -msse4.2 -mavx -mf16c -mfma -Werror'\n",
      "    CCompilerOpt.cc_test_flags[1013] : testing flags (-mavx2)\n",
      "    C compiler: gcc -pthread -B /opt/conda/compiler_compat -Wl,--sysroot=/ -Wsign-compare -DNDEBUG -g -fwrapv -O3 -Wall -Wstrict-prototypes -fPIC\n",
      "    \n",
      "    compile options: '-I/opt/conda/include/python3.7m -c'\n",
      "    extra options: '-mavx2'\n",
      "    CCompilerOpt.cc_test_flags[1013] : testing flags (-mavx512f)\n",
      "    C compiler: gcc -pthread -B /opt/conda/compiler_compat -Wl,--sysroot=/ -Wsign-compare -DNDEBUG -g -fwrapv -O3 -Wall -Wstrict-prototypes -fPIC\n",
      "    \n",
      "    compile options: '-I/opt/conda/include/python3.7m -c'\n",
      "    extra options: '-mavx512f'\n",
      "    CCompilerOpt.cc_test_flags[1013] : testing flags (-mavx512cd)\n",
      "    C compiler: gcc -pthread -B /opt/conda/compiler_compat -Wl,--sysroot=/ -Wsign-compare -DNDEBUG -g -fwrapv -O3 -Wall -Wstrict-prototypes -fPIC\n",
      "    \n",
      "    compile options: '-I/opt/conda/include/python3.7m -c'\n",
      "    extra options: '-mavx512cd'\n",
      "    CCompilerOpt.feature_test[1468] : testing feature 'AVX512CD' with flags (-msse -msse2 -msse3 -mssse3 -msse4.1 -mpopcnt -msse4.2 -mavx -mf16c -mfma -mavx2 -mavx512f -mavx512cd)\n",
      "    C compiler: gcc -pthread -B /opt/conda/compiler_compat -Wl,--sysroot=/ -Wsign-compare -DNDEBUG -g -fwrapv -O3 -Wall -Wstrict-prototypes -fPIC\n",
      "    \n",
      "    compile options: '-I/opt/conda/include/python3.7m -c'\n",
      "    extra options: '-msse -msse2 -msse3 -mssse3 -msse4.1 -mpopcnt -msse4.2 -mavx -mf16c -mfma -mavx2 -mavx512f -mavx512cd -Werror'\n",
      "    CCompilerOpt.feature_test[1468] : testing feature 'AVX512F' with flags (-msse -msse2 -msse3 -mssse3 -msse4.1 -mpopcnt -msse4.2 -mavx -mf16c -mfma -mavx2 -mavx512f)\n",
      "    C compiler: gcc -pthread -B /opt/conda/compiler_compat -Wl,--sysroot=/ -Wsign-compare -DNDEBUG -g -fwrapv -O3 -Wall -Wstrict-prototypes -fPIC\n",
      "    \n",
      "    compile options: '-I/opt/conda/include/python3.7m -c'\n",
      "    extra options: '-msse -msse2 -msse3 -mssse3 -msse4.1 -mpopcnt -msse4.2 -mavx -mf16c -mfma -mavx2 -mavx512f -Werror'\n",
      "    CCompilerOpt.cc_test_flags[1013] : testing flags (-mavx512er -mavx512pf)\n",
      "    C compiler: gcc -pthread -B /opt/conda/compiler_compat -Wl,--sysroot=/ -Wsign-compare -DNDEBUG -g -fwrapv -O3 -Wall -Wstrict-prototypes -fPIC\n",
      "    \n",
      "    compile options: '-I/opt/conda/include/python3.7m -c'\n",
      "    extra options: '-mavx512er -mavx512pf'\n",
      "    CCompilerOpt.feature_test[1468] : testing feature 'AVX512_KNL' with flags (-msse -msse2 -msse3 -mssse3 -msse4.1 -mpopcnt -msse4.2 -mavx -mf16c -mfma -mavx2 -mavx512f -mavx512cd -mavx512er -mavx512pf)\n",
      "    C compiler: gcc -pthread -B /opt/conda/compiler_compat -Wl,--sysroot=/ -Wsign-compare -DNDEBUG -g -fwrapv -O3 -Wall -Wstrict-prototypes -fPIC\n",
      "    \n",
      "    compile options: '-I/opt/conda/include/python3.7m -c'\n",
      "    extra options: '-msse -msse2 -msse3 -mssse3 -msse4.1 -mpopcnt -msse4.2 -mavx -mf16c -mfma -mavx2 -mavx512f -mavx512cd -mavx512er -mavx512pf -Werror'\n",
      "    CCompilerOpt.feature_test[1468] : testing feature 'F16C' with flags (-msse -msse2 -msse3 -mssse3 -msse4.1 -mpopcnt -msse4.2 -mavx -mf16c)\n",
      "    C compiler: gcc -pthread -B /opt/conda/compiler_compat -Wl,--sysroot=/ -Wsign-compare -DNDEBUG -g -fwrapv -O3 -Wall -Wstrict-prototypes -fPIC\n",
      "    \n",
      "    compile options: '-I/opt/conda/include/python3.7m -c'\n",
      "    extra options: '-msse -msse2 -msse3 -mssse3 -msse4.1 -mpopcnt -msse4.2 -mavx -mf16c -Werror'\n",
      "    CCompilerOpt.feature_test[1468] : testing feature 'AVX2' with flags (-msse -msse2 -msse3 -mssse3 -msse4.1 -mpopcnt -msse4.2 -mavx -mf16c -mavx2)\n",
      "    C compiler: gcc -pthread -B /opt/conda/compiler_compat -Wl,--sysroot=/ -Wsign-compare -DNDEBUG -g -fwrapv -O3 -Wall -Wstrict-prototypes -fPIC\n",
      "    \n",
      "    compile options: '-I/opt/conda/include/python3.7m -c'\n",
      "    extra options: '-msse -msse2 -msse3 -mssse3 -msse4.1 -mpopcnt -msse4.2 -mavx -mf16c -mavx2 -Werror'\n",
      "    CCompilerOpt.feature_test[1468] : testing feature 'AVX' with flags (-msse -msse2 -msse3 -mssse3 -msse4.1 -mpopcnt -msse4.2 -mavx)\n",
      "    C compiler: gcc -pthread -B /opt/conda/compiler_compat -Wl,--sysroot=/ -Wsign-compare -DNDEBUG -g -fwrapv -O3 -Wall -Wstrict-prototypes -fPIC\n",
      "    \n",
      "    compile options: '-I/opt/conda/include/python3.7m -c'\n",
      "    extra options: '-msse -msse2 -msse3 -mssse3 -msse4.1 -mpopcnt -msse4.2 -mavx -Werror'\n",
      "    CCompilerOpt.cc_test_flags[1013] : testing flags (-mavx5124fmaps -mavx5124vnniw -mavx512vpopcntdq)\n",
      "    C compiler: gcc -pthread -B /opt/conda/compiler_compat -Wl,--sysroot=/ -Wsign-compare -DNDEBUG -g -fwrapv -O3 -Wall -Wstrict-prototypes -fPIC\n",
      "    \n",
      "    compile options: '-I/opt/conda/include/python3.7m -c'\n",
      "    extra options: '-mavx5124fmaps -mavx5124vnniw -mavx512vpopcntdq'\n",
      "    CCompilerOpt.feature_test[1468] : testing feature 'AVX512_KNM' with flags (-msse -msse2 -msse3 -mssse3 -msse4.1 -mpopcnt -msse4.2 -mavx -mf16c -mfma -mavx2 -mavx512f -mavx512cd -mavx512er -mavx512pf -mavx5124fmaps -mavx5124vnniw -mavx512vpopcntdq)\n",
      "    C compiler: gcc -pthread -B /opt/conda/compiler_compat -Wl,--sysroot=/ -Wsign-compare -DNDEBUG -g -fwrapv -O3 -Wall -Wstrict-prototypes -fPIC\n",
      "    \n",
      "    compile options: '-I/opt/conda/include/python3.7m -c'\n",
      "    extra options: '-msse -msse2 -msse3 -mssse3 -msse4.1 -mpopcnt -msse4.2 -mavx -mf16c -mfma -mavx2 -mavx512f -mavx512cd -mavx512er -mavx512pf -mavx5124fmaps -mavx5124vnniw -mavx512vpopcntdq -Werror'\n",
      "    CCompilerOpt.cc_test_flags[1013] : testing flags (-mavx512vl -mavx512bw -mavx512dq)\n",
      "    C compiler: gcc -pthread -B /opt/conda/compiler_compat -Wl,--sysroot=/ -Wsign-compare -DNDEBUG -g -fwrapv -O3 -Wall -Wstrict-prototypes -fPIC\n",
      "    \n",
      "    compile options: '-I/opt/conda/include/python3.7m -c'\n",
      "    extra options: '-mavx512vl -mavx512bw -mavx512dq'\n",
      "    CCompilerOpt.feature_test[1468] : testing feature 'AVX512_SKX' with flags (-msse -msse2 -msse3 -mssse3 -msse4.1 -mpopcnt -msse4.2 -mavx -mf16c -mfma -mavx2 -mavx512f -mavx512cd -mavx512vl -mavx512bw -mavx512dq)\n",
      "    C compiler: gcc -pthread -B /opt/conda/compiler_compat -Wl,--sysroot=/ -Wsign-compare -DNDEBUG -g -fwrapv -O3 -Wall -Wstrict-prototypes -fPIC\n",
      "    \n",
      "    compile options: '-I/opt/conda/include/python3.7m -c'\n",
      "    extra options: '-msse -msse2 -msse3 -mssse3 -msse4.1 -mpopcnt -msse4.2 -mavx -mf16c -mfma -mavx2 -mavx512f -mavx512cd -mavx512vl -mavx512bw -mavx512dq -Werror'\n",
      "    CCompilerOpt.cc_test_flags[1013] : testing flags (-mavx512ifma -mavx512vbmi)\n",
      "    C compiler: gcc -pthread -B /opt/conda/compiler_compat -Wl,--sysroot=/ -Wsign-compare -DNDEBUG -g -fwrapv -O3 -Wall -Wstrict-prototypes -fPIC\n",
      "    \n",
      "    compile options: '-I/opt/conda/include/python3.7m -c'\n",
      "    extra options: '-mavx512ifma -mavx512vbmi'\n",
      "    CCompilerOpt.feature_test[1468] : testing feature 'AVX512_CNL' with flags (-msse -msse2 -msse3 -mssse3 -msse4.1 -mpopcnt -msse4.2 -mavx -mf16c -mfma -mavx2 -mavx512f -mavx512cd -mavx512vl -mavx512bw -mavx512dq -mavx512ifma -mavx512vbmi)\n",
      "    C compiler: gcc -pthread -B /opt/conda/compiler_compat -Wl,--sysroot=/ -Wsign-compare -DNDEBUG -g -fwrapv -O3 -Wall -Wstrict-prototypes -fPIC\n",
      "    \n",
      "    compile options: '-I/opt/conda/include/python3.7m -c'\n",
      "    extra options: '-msse -msse2 -msse3 -mssse3 -msse4.1 -mpopcnt -msse4.2 -mavx -mf16c -mfma -mavx2 -mavx512f -mavx512cd -mavx512vl -mavx512bw -mavx512dq -mavx512ifma -mavx512vbmi -Werror'\n",
      "    CCompilerOpt.cc_test_flags[1013] : testing flags (-mavx512vnni)\n",
      "    C compiler: gcc -pthread -B /opt/conda/compiler_compat -Wl,--sysroot=/ -Wsign-compare -DNDEBUG -g -fwrapv -O3 -Wall -Wstrict-prototypes -fPIC\n",
      "    \n",
      "    compile options: '-I/opt/conda/include/python3.7m -c'\n",
      "    extra options: '-mavx512vnni'\n",
      "    CCompilerOpt.dist_test[581] : CCompilerOpt._dist_test_spawn[718] : Command (gcc -pthread -B /opt/conda/compiler_compat -Wl,--sysroot=/ -Wsign-compare -DNDEBUG -g -fwrapv -O3 -Wall -Wstrict-prototypes -fPIC -I/opt/conda/include/python3.7m -c /opt/conda/lib/python3.7/site-packages/numpy/distutils/checks/test_flags.c -o /tmp/tmp_spmx8xw/opt/conda/lib/python3.7/site-packages/numpy/distutils/checks/test_flags.o -MMD -MF /tmp/tmp_spmx8xw/opt/conda/lib/python3.7/site-packages/numpy/distutils/checks/test_flags.o.d -mavx512vnni) failed with exit status 1 output ->\n",
      "    gcc: error: unrecognized command line option ‘-mavx512vnni’; did you mean ‘-mavx5124vnniw’?\n",
      "    \n",
      "    CCompilerOpt.cc_test_flags[1017] : testing failed\n",
      "    CCompilerOpt.feature_test[1468] : testing feature 'AVX512_CLX' with flags (-msse -msse2 -msse3 -mssse3 -msse4.1 -mpopcnt -msse4.2 -mavx -mf16c -mfma -mavx2 -mavx512f -mavx512cd -mavx512vl -mavx512bw -mavx512dq)\n",
      "    C compiler: gcc -pthread -B /opt/conda/compiler_compat -Wl,--sysroot=/ -Wsign-compare -DNDEBUG -g -fwrapv -O3 -Wall -Wstrict-prototypes -fPIC\n",
      "    \n",
      "    compile options: '-I/opt/conda/include/python3.7m -c'\n",
      "    extra options: '-msse -msse2 -msse3 -mssse3 -msse4.1 -mpopcnt -msse4.2 -mavx -mf16c -mfma -mavx2 -mavx512f -mavx512cd -mavx512vl -mavx512bw -mavx512dq -Werror'\n",
      "    CCompilerOpt.dist_test[581] : CCompilerOpt._dist_test_spawn[718] : Command (gcc -pthread -B /opt/conda/compiler_compat -Wl,--sysroot=/ -Wsign-compare -DNDEBUG -g -fwrapv -O3 -Wall -Wstrict-prototypes -fPIC -I/opt/conda/include/python3.7m -c /opt/conda/lib/python3.7/site-packages/numpy/distutils/checks/cpu_avx512_clx.c -o /tmp/tmp_spmx8xw/opt/conda/lib/python3.7/site-packages/numpy/distutils/checks/cpu_avx512_clx.o -MMD -MF /tmp/tmp_spmx8xw/opt/conda/lib/python3.7/site-packages/numpy/distutils/checks/cpu_avx512_clx.o.d -msse -msse2 -msse3 -mssse3 -msse4.1 -mpopcnt -msse4.2 -mavx -mf16c -mfma -mavx2 -mavx512f -mavx512cd -mavx512vl -mavx512bw -mavx512dq -Werror) failed with exit status 1 output ->\n",
      "    /opt/conda/lib/python3.7/site-packages/numpy/distutils/checks/cpu_avx512_clx.c: In function ‘main’:\n",
      "    /opt/conda/lib/python3.7/site-packages/numpy/distutils/checks/cpu_avx512_clx.c:20:17: error: implicit declaration of function ‘_mm512_dpbusd_epi32’; did you mean ‘_mm512_4dpwssd_epi32’? [-Werror=implicit-function-declaration]\n",
      "                 a = _mm512_dpbusd_epi32(a, _mm512_setzero_si512(), a);\n",
      "                     ^~~~~~~~~~~~~~~~~~~\n",
      "                     _mm512_4dpwssd_epi32\n",
      "    /opt/conda/lib/python3.7/site-packages/numpy/distutils/checks/cpu_avx512_clx.c:20:15: error: incompatible types when assigning to type ‘__m512i {aka __vector(8) long long int}’ from type ‘int’\n",
      "                 a = _mm512_dpbusd_epi32(a, _mm512_setzero_si512(), a);\n",
      "                   ^\n",
      "    cc1: all warnings being treated as errors\n",
      "    \n",
      "    CCompilerOpt.feature_test[1482] : testing failed\n",
      "    CCompilerOpt.__init__[1723] : skip features (SSE SSE2 SSE3) since its part of baseline\n",
      "    CCompilerOpt.__init__[1726] : initialize targets groups\n",
      "    CCompilerOpt.__init__[1728] : parse target group simd_test\n",
      "    CCompilerOpt._parse_target_tokens[1941] : skip targets (NEON ASIMD XOP VSX VSX2 VSX3 FMA4) not part of baseline or dispatch-able features\n",
      "    CCompilerOpt._parse_policy_not_keepbase[2051] : skip baseline features (SSE2)\n",
      "    CCompilerOpt.generate_dispatch_header[2272] : generate CPU dispatch header: (build/src.linux-x86_64-3.7/numpy/distutils/include/npy_cpu_dispatch_config.h)\n",
      "    CCompilerOpt.generate_dispatch_header[2283] : dispatch header dir build/src.linux-x86_64-3.7/numpy/distutils/include does not exist, creating it\n",
      "    CCompilerOpt.feature_extra_checks[1546] : Testing extra checks for feature 'AVX512F' (AVX512F_REDUCE)\n",
      "    C compiler: gcc -pthread -B /opt/conda/compiler_compat -Wl,--sysroot=/ -Wsign-compare -DNDEBUG -g -fwrapv -O3 -Wall -Wstrict-prototypes -fPIC\n",
      "    \n",
      "    compile options: '-I/opt/conda/include/python3.7m -c'\n",
      "    extra options: '-msse -msse2 -msse3 -mssse3 -msse4.1 -mpopcnt -msse4.2 -mavx -mf16c -mfma -mavx2 -mavx512f -Werror'\n",
      "    CCompilerOpt.feature_extra_checks[1546] : Testing extra checks for feature 'AVX512_SKX' (AVX512BW_MASK AVX512DQ_MASK)\n",
      "    C compiler: gcc -pthread -B /opt/conda/compiler_compat -Wl,--sysroot=/ -Wsign-compare -DNDEBUG -g -fwrapv -O3 -Wall -Wstrict-prototypes -fPIC\n",
      "    \n",
      "    compile options: '-I/opt/conda/include/python3.7m -c'\n",
      "    extra options: '-msse -msse2 -msse3 -mssse3 -msse4.1 -mpopcnt -msse4.2 -mavx -mf16c -mfma -mavx2 -mavx512f -mavx512cd -mavx512vl -mavx512bw -mavx512dq -Werror'\n",
      "    C compiler: gcc -pthread -B /opt/conda/compiler_compat -Wl,--sysroot=/ -Wsign-compare -DNDEBUG -g -fwrapv -O3 -Wall -Wstrict-prototypes -fPIC\n",
      "    \n",
      "    compile options: '-I/opt/conda/include/python3.7m -c'\n",
      "    extra options: '-msse -msse2 -msse3 -mssse3 -msse4.1 -mpopcnt -msse4.2 -mavx -mf16c -mfma -mavx2 -mavx512f -mavx512cd -mavx512vl -mavx512bw -mavx512dq -Werror'\n",
      "    building 'pyramid.__check_build._check_build' extension\n",
      "    compiling C sources\n",
      "    C compiler: gcc -pthread -B /opt/conda/compiler_compat -Wl,--sysroot=/ -Wsign-compare -DNDEBUG -g -fwrapv -O3 -Wall -Wstrict-prototypes -fPIC\n",
      "    \n",
      "    creating build/temp.linux-x86_64-3.7/pyramid\n",
      "    creating build/temp.linux-x86_64-3.7/pyramid/__check_build\n",
      "    compile options: '-I/opt/conda/lib/python3.7/site-packages/numpy/core/include -I/opt/conda/lib/python3.7/site-packages/numpy/core/include -Ibuild/src.linux-x86_64-3.7/numpy/distutils/include -I/opt/conda/include/python3.7m -c'\n",
      "    extra options: '-msse -msse2 -msse3'\n",
      "    gcc: pyramid/__check_build/_check_build.c\n",
      "    gcc -pthread -shared -B /opt/conda/compiler_compat -L/opt/conda/lib -Wl,-rpath=/opt/conda/lib -Wl,--no-as-needed -Wl,--sysroot=/ build/temp.linux-x86_64-3.7/pyramid/__check_build/_check_build.o -o build/lib.linux-x86_64-3.7/pyramid/__check_build/_check_build.cpython-37m-x86_64-linux-gnu.so\n",
      "    building 'pyramid.arima._arima' extension\n",
      "    compiling C sources\n",
      "    C compiler: gcc -pthread -B /opt/conda/compiler_compat -Wl,--sysroot=/ -Wsign-compare -DNDEBUG -g -fwrapv -O3 -Wall -Wstrict-prototypes -fPIC\n",
      "    \n",
      "    creating build/temp.linux-x86_64-3.7/pyramid/arima\n",
      "    compile options: '-DNO_ATLAS_INFO=1 -I/opt/conda/lib/python3.7/site-packages/numpy/core/include -Ipyramid/arima/_arima_fast_helpers.h -I/usr/local/include -I/opt/conda/include -I/opt/conda/lib/python3.7/site-packages/numpy/core/include -Ibuild/src.linux-x86_64-3.7/numpy/distutils/include -I/opt/conda/include/python3.7m -c'\n",
      "    extra options: '-msse -msse2 -msse3'\n",
      "    gcc: pyramid/arima/_arima.c\n",
      "    cc1: warning: pyramid/arima/_arima_fast_helpers.h: not a directory\n",
      "    In file included from /opt/conda/lib/python3.7/site-packages/numpy/core/include/numpy/ndarraytypes.h:1969:0,\n",
      "                     from /opt/conda/lib/python3.7/site-packages/numpy/core/include/numpy/ndarrayobject.h:12,\n",
      "                     from /opt/conda/lib/python3.7/site-packages/numpy/core/include/numpy/arrayobject.h:4,\n",
      "                     from pyramid/arima/_arima.c:308:\n",
      "    /opt/conda/lib/python3.7/site-packages/numpy/core/include/numpy/npy_1_7_deprecated_api.h:17:2: warning: #warning \"Using deprecated NumPy API, disable it with \" \"#define NPY_NO_DEPRECATED_API NPY_1_7_API_VERSION\" [-Wcpp]\n",
      "     #warning \"Using deprecated NumPy API, disable it with \" \\\n",
      "      ^~~~~~~\n",
      "    pyramid/arima/_arima.c: In function ‘__Pyx__ExceptionSave’:\n",
      "    pyramid/arima/_arima.c:26129:21: error: ‘PyThreadState {aka struct _ts}’ has no member named ‘exc_type’; did you mean ‘curexc_type’?\n",
      "         *type = tstate->exc_type;\n",
      "                         ^~~~~~~~\n",
      "                         curexc_type\n",
      "    pyramid/arima/_arima.c:26130:22: error: ‘PyThreadState {aka struct _ts}’ has no member named ‘exc_value’; did you mean ‘curexc_value’?\n",
      "         *value = tstate->exc_value;\n",
      "                          ^~~~~~~~~\n",
      "                          curexc_value\n",
      "    pyramid/arima/_arima.c:26131:19: error: ‘PyThreadState {aka struct _ts}’ has no member named ‘exc_traceback’; did you mean ‘curexc_traceback’?\n",
      "         *tb = tstate->exc_traceback;\n",
      "                       ^~~~~~~~~~~~~\n",
      "                       curexc_traceback\n",
      "    pyramid/arima/_arima.c: In function ‘__Pyx__ExceptionReset’:\n",
      "    pyramid/arima/_arima.c:26138:24: error: ‘PyThreadState {aka struct _ts}’ has no member named ‘exc_type’; did you mean ‘curexc_type’?\n",
      "         tmp_type = tstate->exc_type;\n",
      "                            ^~~~~~~~\n",
      "                            curexc_type\n",
      "    pyramid/arima/_arima.c:26139:25: error: ‘PyThreadState {aka struct _ts}’ has no member named ‘exc_value’; did you mean ‘curexc_value’?\n",
      "         tmp_value = tstate->exc_value;\n",
      "                             ^~~~~~~~~\n",
      "                             curexc_value\n",
      "    pyramid/arima/_arima.c:26140:22: error: ‘PyThreadState {aka struct _ts}’ has no member named ‘exc_traceback’; did you mean ‘curexc_traceback’?\n",
      "         tmp_tb = tstate->exc_traceback;\n",
      "                          ^~~~~~~~~~~~~\n",
      "                          curexc_traceback\n",
      "    pyramid/arima/_arima.c:26141:13: error: ‘PyThreadState {aka struct _ts}’ has no member named ‘exc_type’; did you mean ‘curexc_type’?\n",
      "         tstate->exc_type = type;\n",
      "                 ^~~~~~~~\n",
      "                 curexc_type\n",
      "    pyramid/arima/_arima.c:26142:13: error: ‘PyThreadState {aka struct _ts}’ has no member named ‘exc_value’; did you mean ‘curexc_value’?\n",
      "         tstate->exc_value = value;\n",
      "                 ^~~~~~~~~\n",
      "                 curexc_value\n",
      "    pyramid/arima/_arima.c:26143:13: error: ‘PyThreadState {aka struct _ts}’ has no member named ‘exc_traceback’; did you mean ‘curexc_traceback’?\n",
      "         tstate->exc_traceback = tb;\n",
      "                 ^~~~~~~~~~~~~\n",
      "                 curexc_traceback\n",
      "    pyramid/arima/_arima.c: In function ‘__Pyx__GetException’:\n",
      "    pyramid/arima/_arima.c:26198:24: error: ‘PyThreadState {aka struct _ts}’ has no member named ‘exc_type’; did you mean ‘curexc_type’?\n",
      "         tmp_type = tstate->exc_type;\n",
      "                            ^~~~~~~~\n",
      "                            curexc_type\n",
      "    pyramid/arima/_arima.c:26199:25: error: ‘PyThreadState {aka struct _ts}’ has no member named ‘exc_value’; did you mean ‘curexc_value’?\n",
      "         tmp_value = tstate->exc_value;\n",
      "                             ^~~~~~~~~\n",
      "                             curexc_value\n",
      "    pyramid/arima/_arima.c:26200:22: error: ‘PyThreadState {aka struct _ts}’ has no member named ‘exc_traceback’; did you mean ‘curexc_traceback’?\n",
      "         tmp_tb = tstate->exc_traceback;\n",
      "                          ^~~~~~~~~~~~~\n",
      "                          curexc_traceback\n",
      "    pyramid/arima/_arima.c:26201:13: error: ‘PyThreadState {aka struct _ts}’ has no member named ‘exc_type’; did you mean ‘curexc_type’?\n",
      "         tstate->exc_type = local_type;\n",
      "                 ^~~~~~~~\n",
      "                 curexc_type\n",
      "    pyramid/arima/_arima.c:26202:13: error: ‘PyThreadState {aka struct _ts}’ has no member named ‘exc_value’; did you mean ‘curexc_value’?\n",
      "         tstate->exc_value = local_value;\n",
      "                 ^~~~~~~~~\n",
      "                 curexc_value\n",
      "    pyramid/arima/_arima.c:26203:13: error: ‘PyThreadState {aka struct _ts}’ has no member named ‘exc_traceback’; did you mean ‘curexc_traceback’?\n",
      "         tstate->exc_traceback = local_tb;\n",
      "                 ^~~~~~~~~~~~~\n",
      "                 curexc_traceback\n",
      "    pyramid/arima/_arima.c: In function ‘__Pyx__ExceptionSwap’:\n",
      "    pyramid/arima/_arima.c:27811:24: error: ‘PyThreadState {aka struct _ts}’ has no member named ‘exc_type’; did you mean ‘curexc_type’?\n",
      "         tmp_type = tstate->exc_type;\n",
      "                            ^~~~~~~~\n",
      "                            curexc_type\n",
      "    pyramid/arima/_arima.c:27812:25: error: ‘PyThreadState {aka struct _ts}’ has no member named ‘exc_value’; did you mean ‘curexc_value’?\n",
      "         tmp_value = tstate->exc_value;\n",
      "                             ^~~~~~~~~\n",
      "                             curexc_value\n",
      "    pyramid/arima/_arima.c:27813:22: error: ‘PyThreadState {aka struct _ts}’ has no member named ‘exc_traceback’; did you mean ‘curexc_traceback’?\n",
      "         tmp_tb = tstate->exc_traceback;\n",
      "                          ^~~~~~~~~~~~~\n",
      "                          curexc_traceback\n",
      "    pyramid/arima/_arima.c:27814:13: error: ‘PyThreadState {aka struct _ts}’ has no member named ‘exc_type’; did you mean ‘curexc_type’?\n",
      "         tstate->exc_type = *type;\n",
      "                 ^~~~~~~~\n",
      "                 curexc_type\n",
      "    pyramid/arima/_arima.c:27815:13: error: ‘PyThreadState {aka struct _ts}’ has no member named ‘exc_value’; did you mean ‘curexc_value’?\n",
      "         tstate->exc_value = *value;\n",
      "                 ^~~~~~~~~\n",
      "                 curexc_value\n",
      "    pyramid/arima/_arima.c:27816:13: error: ‘PyThreadState {aka struct _ts}’ has no member named ‘exc_traceback’; did you mean ‘curexc_traceback’?\n",
      "         tstate->exc_traceback = *tb;\n",
      "                 ^~~~~~~~~~~~~\n",
      "                 curexc_traceback\n",
      "    error: Command \"gcc -pthread -B /opt/conda/compiler_compat -Wl,--sysroot=/ -Wsign-compare -DNDEBUG -g -fwrapv -O3 -Wall -Wstrict-prototypes -fPIC -DNO_ATLAS_INFO=1 -I/opt/conda/lib/python3.7/site-packages/numpy/core/include -Ipyramid/arima/_arima_fast_helpers.h -I/usr/local/include -I/opt/conda/include -I/opt/conda/lib/python3.7/site-packages/numpy/core/include -Ibuild/src.linux-x86_64-3.7/numpy/distutils/include -I/opt/conda/include/python3.7m -c pyramid/arima/_arima.c -o build/temp.linux-x86_64-3.7/pyramid/arima/_arima.o -MMD -MF build/temp.linux-x86_64-3.7/pyramid/arima/_arima.o.d -msse -msse2 -msse3\" failed with exit status 1\n",
      "    \n",
      "    ########### EXT COMPILER OPTIMIZATION ###########\n",
      "    Platform      :\n",
      "      Architecture: x64\n",
      "      Compiler    : gcc\n",
      "    \n",
      "    CPU baseline  :\n",
      "      Requested   : 'min'\n",
      "      Enabled     : SSE SSE2 SSE3\n",
      "      Flags       : -msse -msse2 -msse3\n",
      "      Extra checks: none\n",
      "    \n",
      "    CPU dispatch  :\n",
      "      Requested   : 'max -xop -fma4'\n",
      "      Enabled     : SSSE3 SSE41 POPCNT SSE42 AVX F16C FMA3 AVX2 AVX512F AVX512CD AVX512_KNL AVX512_KNM AVX512_SKX AVX512_CNL\n",
      "      Generated   : none\n",
      "    CCompilerOpt.cache_flush[809] : write cache to path -> /tmp/pip-install-8hy_2jir/pyramid-arima/build/temp.linux-x86_64-3.7/ccompiler_opt_cache_ext.py\n",
      "    ----------------------------------------\u001b[0m\n",
      "\u001b[31mERROR: Command errored out with exit status 1: /opt/conda/bin/python3.7 -u -c 'import sys, setuptools, tokenize; sys.argv[0] = '\"'\"'/tmp/pip-install-8hy_2jir/pyramid-arima/setup.py'\"'\"'; __file__='\"'\"'/tmp/pip-install-8hy_2jir/pyramid-arima/setup.py'\"'\"';f=getattr(tokenize, '\"'\"'open'\"'\"', open)(__file__);code=f.read().replace('\"'\"'\\r\\n'\"'\"', '\"'\"'\\n'\"'\"');f.close();exec(compile(code, __file__, '\"'\"'exec'\"'\"'))' install --record /tmp/pip-record-bc_sx57j/install-record.txt --single-version-externally-managed --compile --install-headers /opt/conda/include/python3.7m/pyramid-arima Check the logs for full command output.\u001b[0m\n",
      "\u001b[?25hRequirement already satisfied: pmdarima in /opt/conda/lib/python3.7/site-packages (1.8.4)\n",
      "Requirement already satisfied: urllib3 in /opt/conda/lib/python3.7/site-packages (from pmdarima) (1.25.9)\n",
      "Requirement already satisfied: scipy>=1.3.2 in /opt/conda/lib/python3.7/site-packages (from pmdarima) (1.4.1)\n",
      "Requirement already satisfied: Cython!=0.29.18,>=0.29 in /opt/conda/lib/python3.7/site-packages (from pmdarima) (0.29.19)\n",
      "Requirement already satisfied: statsmodels!=0.12.0,>=0.11 in /opt/conda/lib/python3.7/site-packages (from pmdarima) (0.11.1)\n",
      "Requirement already satisfied: pandas>=0.19 in /opt/conda/lib/python3.7/site-packages (from pmdarima) (1.0.3)\n",
      "Requirement already satisfied: setuptools!=50.0.0,>=38.6.0 in /opt/conda/lib/python3.7/site-packages (from pmdarima) (46.1.3.post20200325)\n",
      "Requirement already satisfied: joblib>=0.11 in /opt/conda/lib/python3.7/site-packages (from pmdarima) (0.15.1)\n",
      "Requirement already satisfied: scikit-learn>=0.22 in /opt/conda/lib/python3.7/site-packages (from pmdarima) (0.22.2.post1)\n",
      "Requirement already satisfied: numpy>=1.19.3 in /opt/conda/lib/python3.7/site-packages (from pmdarima) (1.21.4)\n",
      "Requirement already satisfied: patsy>=0.5 in /opt/conda/lib/python3.7/site-packages (from statsmodels!=0.12.0,>=0.11->pmdarima) (0.5.1)\n",
      "Requirement already satisfied: pytz>=2017.2 in /opt/conda/lib/python3.7/site-packages (from pandas>=0.19->pmdarima) (2020.1)\n",
      "Requirement already satisfied: python-dateutil>=2.6.1 in /opt/conda/lib/python3.7/site-packages (from pandas>=0.19->pmdarima) (2.8.1)\n",
      "Requirement already satisfied: six in /opt/conda/lib/python3.7/site-packages (from patsy>=0.5->statsmodels!=0.12.0,>=0.11->pmdarima) (1.14.0)\n",
      "Requirement already satisfied: plotly in /opt/conda/lib/python3.7/site-packages (5.3.1)\n",
      "Requirement already satisfied: six in /opt/conda/lib/python3.7/site-packages (from plotly) (1.14.0)\n",
      "Requirement already satisfied: tenacity>=6.2.0 in /opt/conda/lib/python3.7/site-packages (from plotly) (8.0.1)\n",
      "Requirement already satisfied: cufflinks in /opt/conda/lib/python3.7/site-packages (0.17.3)\n",
      "Requirement already satisfied: plotly>=4.1.1 in /opt/conda/lib/python3.7/site-packages (from cufflinks) (5.3.1)\n",
      "Requirement already satisfied: setuptools>=34.4.1 in /opt/conda/lib/python3.7/site-packages (from cufflinks) (46.1.3.post20200325)\n",
      "Requirement already satisfied: colorlover>=0.2.1 in /opt/conda/lib/python3.7/site-packages (from cufflinks) (0.3.0)\n",
      "Requirement already satisfied: numpy>=1.9.2 in /opt/conda/lib/python3.7/site-packages (from cufflinks) (1.21.4)\n",
      "Requirement already satisfied: ipywidgets>=7.0.0 in /opt/conda/lib/python3.7/site-packages (from cufflinks) (7.5.1)\n",
      "Requirement already satisfied: six>=1.9.0 in /opt/conda/lib/python3.7/site-packages (from cufflinks) (1.14.0)\n",
      "Requirement already satisfied: pandas>=0.19.2 in /opt/conda/lib/python3.7/site-packages (from cufflinks) (1.0.3)\n",
      "Requirement already satisfied: ipython>=5.3.0 in /opt/conda/lib/python3.7/site-packages (from cufflinks) (7.14.0)\n",
      "Requirement already satisfied: tenacity>=6.2.0 in /opt/conda/lib/python3.7/site-packages (from plotly>=4.1.1->cufflinks) (8.0.1)\n",
      "Requirement already satisfied: widgetsnbextension~=3.5.0 in /opt/conda/lib/python3.7/site-packages (from ipywidgets>=7.0.0->cufflinks) (3.5.1)\n",
      "Requirement already satisfied: ipykernel>=4.5.1 in /opt/conda/lib/python3.7/site-packages (from ipywidgets>=7.0.0->cufflinks) (5.3.0)\n",
      "Requirement already satisfied: nbformat>=4.2.0 in /opt/conda/lib/python3.7/site-packages (from ipywidgets>=7.0.0->cufflinks) (5.0.6)\n",
      "Requirement already satisfied: traitlets>=4.3.1 in /opt/conda/lib/python3.7/site-packages (from ipywidgets>=7.0.0->cufflinks) (4.3.3)\n",
      "Requirement already satisfied: pytz>=2017.2 in /opt/conda/lib/python3.7/site-packages (from pandas>=0.19.2->cufflinks) (2020.1)\n",
      "Requirement already satisfied: python-dateutil>=2.6.1 in /opt/conda/lib/python3.7/site-packages (from pandas>=0.19.2->cufflinks) (2.8.1)\n",
      "Requirement already satisfied: pexpect; sys_platform != \"win32\" in /opt/conda/lib/python3.7/site-packages (from ipython>=5.3.0->cufflinks) (4.8.0)\n",
      "Requirement already satisfied: decorator in /opt/conda/lib/python3.7/site-packages (from ipython>=5.3.0->cufflinks) (4.4.2)\n",
      "Requirement already satisfied: pickleshare in /opt/conda/lib/python3.7/site-packages (from ipython>=5.3.0->cufflinks) (0.7.5)\n",
      "Requirement already satisfied: jedi>=0.10 in /opt/conda/lib/python3.7/site-packages (from ipython>=5.3.0->cufflinks) (0.17.0)\n",
      "Requirement already satisfied: pygments in /opt/conda/lib/python3.7/site-packages (from ipython>=5.3.0->cufflinks) (2.6.1)\n",
      "Requirement already satisfied: backcall in /opt/conda/lib/python3.7/site-packages (from ipython>=5.3.0->cufflinks) (0.1.0)\n",
      "Requirement already satisfied: prompt-toolkit!=3.0.0,!=3.0.1,<3.1.0,>=2.0.0 in /opt/conda/lib/python3.7/site-packages (from ipython>=5.3.0->cufflinks) (3.0.5)\n",
      "Requirement already satisfied: notebook>=4.4.1 in /opt/conda/lib/python3.7/site-packages (from widgetsnbextension~=3.5.0->ipywidgets>=7.0.0->cufflinks) (6.0.3)\n",
      "Requirement already satisfied: jupyter-client in /opt/conda/lib/python3.7/site-packages (from ipykernel>=4.5.1->ipywidgets>=7.0.0->cufflinks) (6.1.3)\n",
      "Requirement already satisfied: tornado>=4.2 in /opt/conda/lib/python3.7/site-packages (from ipykernel>=4.5.1->ipywidgets>=7.0.0->cufflinks) (6.0.4)\n",
      "Requirement already satisfied: ipython-genutils in /opt/conda/lib/python3.7/site-packages (from nbformat>=4.2.0->ipywidgets>=7.0.0->cufflinks) (0.2.0)\n",
      "Requirement already satisfied: jupyter-core in /opt/conda/lib/python3.7/site-packages (from nbformat>=4.2.0->ipywidgets>=7.0.0->cufflinks) (4.6.3)\n",
      "Requirement already satisfied: jsonschema!=2.5.0,>=2.4 in /opt/conda/lib/python3.7/site-packages (from nbformat>=4.2.0->ipywidgets>=7.0.0->cufflinks) (3.2.0)\n",
      "Requirement already satisfied: ptyprocess>=0.5 in /opt/conda/lib/python3.7/site-packages (from pexpect; sys_platform != \"win32\"->ipython>=5.3.0->cufflinks) (0.6.0)\n",
      "Requirement already satisfied: parso>=0.7.0 in /opt/conda/lib/python3.7/site-packages (from jedi>=0.10->ipython>=5.3.0->cufflinks) (0.7.0)\n",
      "Requirement already satisfied: wcwidth in /opt/conda/lib/python3.7/site-packages (from prompt-toolkit!=3.0.0,!=3.0.1,<3.1.0,>=2.0.0->ipython>=5.3.0->cufflinks) (0.1.9)\n",
      "Requirement already satisfied: jinja2 in /opt/conda/lib/python3.7/site-packages (from notebook>=4.4.1->widgetsnbextension~=3.5.0->ipywidgets>=7.0.0->cufflinks) (2.11.2)\n",
      "Requirement already satisfied: nbconvert in /opt/conda/lib/python3.7/site-packages (from notebook>=4.4.1->widgetsnbextension~=3.5.0->ipywidgets>=7.0.0->cufflinks) (5.6.1)\n",
      "Requirement already satisfied: terminado>=0.8.1 in /opt/conda/lib/python3.7/site-packages (from notebook>=4.4.1->widgetsnbextension~=3.5.0->ipywidgets>=7.0.0->cufflinks) (0.8.3)\n",
      "Requirement already satisfied: prometheus-client in /opt/conda/lib/python3.7/site-packages (from notebook>=4.4.1->widgetsnbextension~=3.5.0->ipywidgets>=7.0.0->cufflinks) (0.8.0)\n",
      "Requirement already satisfied: Send2Trash in /opt/conda/lib/python3.7/site-packages (from notebook>=4.4.1->widgetsnbextension~=3.5.0->ipywidgets>=7.0.0->cufflinks) (1.5.0)\n",
      "Requirement already satisfied: pyzmq>=17 in /opt/conda/lib/python3.7/site-packages (from notebook>=4.4.1->widgetsnbextension~=3.5.0->ipywidgets>=7.0.0->cufflinks) (19.0.1)\n",
      "Requirement already satisfied: attrs>=17.4.0 in /opt/conda/lib/python3.7/site-packages (from jsonschema!=2.5.0,>=2.4->nbformat>=4.2.0->ipywidgets>=7.0.0->cufflinks) (19.3.0)\n",
      "Requirement already satisfied: pyrsistent>=0.14.0 in /opt/conda/lib/python3.7/site-packages (from jsonschema!=2.5.0,>=2.4->nbformat>=4.2.0->ipywidgets>=7.0.0->cufflinks) (0.16.0)\n",
      "Requirement already satisfied: importlib-metadata; python_version < \"3.8\" in /opt/conda/lib/python3.7/site-packages (from jsonschema!=2.5.0,>=2.4->nbformat>=4.2.0->ipywidgets>=7.0.0->cufflinks) (1.6.0)\n",
      "Requirement already satisfied: MarkupSafe>=0.23 in /opt/conda/lib/python3.7/site-packages (from jinja2->notebook>=4.4.1->widgetsnbextension~=3.5.0->ipywidgets>=7.0.0->cufflinks) (1.1.1)\n",
      "Requirement already satisfied: testpath in /opt/conda/lib/python3.7/site-packages (from nbconvert->notebook>=4.4.1->widgetsnbextension~=3.5.0->ipywidgets>=7.0.0->cufflinks) (0.4.4)\n",
      "Requirement already satisfied: mistune<2,>=0.8.1 in /opt/conda/lib/python3.7/site-packages (from nbconvert->notebook>=4.4.1->widgetsnbextension~=3.5.0->ipywidgets>=7.0.0->cufflinks) (0.8.4)\n",
      "Requirement already satisfied: bleach in /opt/conda/lib/python3.7/site-packages (from nbconvert->notebook>=4.4.1->widgetsnbextension~=3.5.0->ipywidgets>=7.0.0->cufflinks) (3.1.5)\n",
      "Requirement already satisfied: entrypoints>=0.2.2 in /opt/conda/lib/python3.7/site-packages (from nbconvert->notebook>=4.4.1->widgetsnbextension~=3.5.0->ipywidgets>=7.0.0->cufflinks) (0.3)\n",
      "Requirement already satisfied: defusedxml in /opt/conda/lib/python3.7/site-packages (from nbconvert->notebook>=4.4.1->widgetsnbextension~=3.5.0->ipywidgets>=7.0.0->cufflinks) (0.6.0)\n",
      "Requirement already satisfied: pandocfilters>=1.4.1 in /opt/conda/lib/python3.7/site-packages (from nbconvert->notebook>=4.4.1->widgetsnbextension~=3.5.0->ipywidgets>=7.0.0->cufflinks) (1.4.2)\n",
      "Requirement already satisfied: zipp>=0.5 in /opt/conda/lib/python3.7/site-packages (from importlib-metadata; python_version < \"3.8\"->jsonschema!=2.5.0,>=2.4->nbformat>=4.2.0->ipywidgets>=7.0.0->cufflinks) (3.1.0)\n",
      "Requirement already satisfied: packaging in /opt/conda/lib/python3.7/site-packages (from bleach->nbconvert->notebook>=4.4.1->widgetsnbextension~=3.5.0->ipywidgets>=7.0.0->cufflinks) (20.4)\n",
      "Requirement already satisfied: webencodings in /opt/conda/lib/python3.7/site-packages (from bleach->nbconvert->notebook>=4.4.1->widgetsnbextension~=3.5.0->ipywidgets>=7.0.0->cufflinks) (0.5.1)\n",
      "Requirement already satisfied: pyparsing>=2.0.2 in /opt/conda/lib/python3.7/site-packages (from packaging->bleach->nbconvert->notebook>=4.4.1->widgetsnbextension~=3.5.0->ipywidgets>=7.0.0->cufflinks) (2.4.7)\n"
     ]
    }
   ],
   "source": [
    "!pip install pyramid\n",
    "!pip install pyramid-arima\n",
    "!pip install pmdarima\n",
    "!pip install plotly\n",
    "!pip install cufflinks"
   ]
  },
  {
   "cell_type": "code",
   "execution_count": 59,
   "metadata": {},
   "outputs": [
    {
     "data": {
      "text/html": [
       "        <script type=\"text/javascript\">\n",
       "        window.PlotlyConfig = {MathJaxConfig: 'local'};\n",
       "        if (window.MathJax) {MathJax.Hub.Config({SVG: {font: \"STIX-Web\"}});}\n",
       "        if (typeof require !== 'undefined') {\n",
       "        require.undef(\"plotly\");\n",
       "        requirejs.config({\n",
       "            paths: {\n",
       "                'plotly': ['https://cdn.plot.ly/plotly-2.4.2.min']\n",
       "            }\n",
       "        });\n",
       "        require(['plotly'], function(Plotly) {\n",
       "            window._Plotly = Plotly;\n",
       "        });\n",
       "        }\n",
       "        </script>\n",
       "        "
      ]
     },
     "metadata": {},
     "output_type": "display_data"
    }
   ],
   "source": [
    "import pandas as pd #read csv\n",
    "import numpy #Linear algebra\n",
    "import numpy as np\n",
    "from sklearn.preprocessing import StandardScaler\n",
    "from sklearn.preprocessing import MinMaxScaler\n",
    "import time #helper libraries\n",
    "import datetime\n",
    "from datetime import datetime, timedelta\n",
    "from decimal import Decimal\n",
    "import matplotlib.pyplot as plt\n",
    "%matplotlib inline\n",
    "import seaborn as sn\n",
    "import os\n",
    "import plotly.graph_objs as go\n",
    "import plotly.offline as py\n",
    "py.init_notebook_mode(connected=True)\n",
    "pd.options.mode.chained_assignment = None\n",
    "pd.options.display.max_columns = 9999\n",
    "pd.options.display.float_format = '{:20,.2f}'.format\n",
    "\n",
    "from pylab import rcParams\n",
    "\n",
    "import statsmodels.api as sm\n",
    "from statsmodels.graphics.tsaplots import plot_acf\n",
    "from statsmodels.graphics.tsaplots import plot_pacf\n",
    "import statsmodels.graphics.tsaplots as sgt\n",
    "\n",
    "from statsmodels.tsa.stattools import adfuller\n",
    "\n",
    "from statsmodels.tsa.seasonal import seasonal_decompose\n",
    "import statsmodels.tsa.arima.model as stats\n",
    "\n",
    "from statsmodels.tsa.ar_model import AR\n",
    "from statsmodels.tsa.arima_model import ARMA, ARIMA\n",
    "from statsmodels.tsa.arima_model import ARIMA\n",
    "from sklearn.metrics import mean_squared_error\n",
    "from math import sqrt\n",
    "from pmdarima import auto_arima\n",
    "#from pyramid.arima import auto_arima\n",
    "from statsmodels.tsa.statespace.sarimax import SARIMAX\n",
    "\n",
    "from pandas import Series\n",
    "\n",
    "import matplotlib\n",
    "matplotlib.rcParams['axes.labelsize'] = 14\n",
    "matplotlib.rcParams['xtick.labelsize'] = 12\n",
    "matplotlib.rcParams['ytick.labelsize'] = 12\n",
    "matplotlib.rcParams['text.color'] = 'k'\n",
    "from matplotlib import pyplot\n",
    "from matplotlib.pylab import rcParams\n",
    "\n",
    "import seaborn as sns\n",
    "\n",
    "from random import random\n",
    "\n",
    "from sklearn.metrics import mean_squared_error, r2_score, mean_absolute_error, median_absolute_error, mean_squared_log_error\n"
   ]
  },
  {
   "cell_type": "code",
   "execution_count": 60,
   "metadata": {},
   "outputs": [],
   "source": [
    "df = pd.read_csv('https://data.usaid.gov/api/views/a3rc-nmf6/rows.csv?accessType=DOWNLOAD',index_col='scheduled delivery date',parse_dates=True)"
   ]
  },
  {
   "cell_type": "code",
   "execution_count": 61,
   "metadata": {},
   "outputs": [
    {
     "name": "stdout",
     "output_type": "stream",
     "text": [
      "shape pf data (10324, 32)\n"
     ]
    },
    {
     "data": {
      "text/html": [
       "<div>\n",
       "<style scoped>\n",
       "    .dataframe tbody tr th:only-of-type {\n",
       "        vertical-align: middle;\n",
       "    }\n",
       "\n",
       "    .dataframe tbody tr th {\n",
       "        vertical-align: top;\n",
       "    }\n",
       "\n",
       "    .dataframe thead th {\n",
       "        text-align: right;\n",
       "    }\n",
       "</style>\n",
       "<table border=\"1\" class=\"dataframe\">\n",
       "  <thead>\n",
       "    <tr style=\"text-align: right;\">\n",
       "      <th></th>\n",
       "      <th>id</th>\n",
       "      <th>project code</th>\n",
       "      <th>pq #</th>\n",
       "      <th>po / so #</th>\n",
       "      <th>asn/dn #</th>\n",
       "      <th>country</th>\n",
       "      <th>managed by</th>\n",
       "      <th>fulfill via</th>\n",
       "      <th>vendor inco term</th>\n",
       "      <th>shipment mode</th>\n",
       "      <th>pq first sent to client date</th>\n",
       "      <th>po sent to vendor date</th>\n",
       "      <th>delivered to client date</th>\n",
       "      <th>delivery recorded date</th>\n",
       "      <th>product group</th>\n",
       "      <th>sub classification</th>\n",
       "      <th>vendor</th>\n",
       "      <th>item description</th>\n",
       "      <th>molecule/test type</th>\n",
       "      <th>brand</th>\n",
       "      <th>dosage</th>\n",
       "      <th>dosage form</th>\n",
       "      <th>unit of measure (per pack)</th>\n",
       "      <th>line item quantity</th>\n",
       "      <th>line item value</th>\n",
       "      <th>pack price</th>\n",
       "      <th>unit price</th>\n",
       "      <th>manufacturing site</th>\n",
       "      <th>first line designation</th>\n",
       "      <th>weight (kilograms)</th>\n",
       "      <th>freight cost (usd)</th>\n",
       "      <th>line item insurance (usd)</th>\n",
       "    </tr>\n",
       "    <tr>\n",
       "      <th>scheduled delivery date</th>\n",
       "      <th></th>\n",
       "      <th></th>\n",
       "      <th></th>\n",
       "      <th></th>\n",
       "      <th></th>\n",
       "      <th></th>\n",
       "      <th></th>\n",
       "      <th></th>\n",
       "      <th></th>\n",
       "      <th></th>\n",
       "      <th></th>\n",
       "      <th></th>\n",
       "      <th></th>\n",
       "      <th></th>\n",
       "      <th></th>\n",
       "      <th></th>\n",
       "      <th></th>\n",
       "      <th></th>\n",
       "      <th></th>\n",
       "      <th></th>\n",
       "      <th></th>\n",
       "      <th></th>\n",
       "      <th></th>\n",
       "      <th></th>\n",
       "      <th></th>\n",
       "      <th></th>\n",
       "      <th></th>\n",
       "      <th></th>\n",
       "      <th></th>\n",
       "      <th></th>\n",
       "      <th></th>\n",
       "      <th></th>\n",
       "    </tr>\n",
       "  </thead>\n",
       "  <tbody>\n",
       "    <tr>\n",
       "      <th>2006-06-02</th>\n",
       "      <td>1</td>\n",
       "      <td>100-CI-T01</td>\n",
       "      <td>Pre-PQ Process</td>\n",
       "      <td>SCMS-4</td>\n",
       "      <td>ASN-8</td>\n",
       "      <td>Côte d'Ivoire</td>\n",
       "      <td>PMO - US</td>\n",
       "      <td>Direct Drop</td>\n",
       "      <td>EXW</td>\n",
       "      <td>Air</td>\n",
       "      <td>Pre-PQ Process</td>\n",
       "      <td>Date Not Captured</td>\n",
       "      <td>2-Jun-06</td>\n",
       "      <td>2-Jun-06</td>\n",
       "      <td>HRDT</td>\n",
       "      <td>HIV test</td>\n",
       "      <td>RANBAXY Fine Chemicals LTD.</td>\n",
       "      <td>HIV, Reveal G3 Rapid HIV-1 Antibody Test, 30 T...</td>\n",
       "      <td>HIV, Reveal G3 Rapid HIV-1 Antibody Test</td>\n",
       "      <td>Reveal</td>\n",
       "      <td>NaN</td>\n",
       "      <td>Test kit</td>\n",
       "      <td>30</td>\n",
       "      <td>19</td>\n",
       "      <td>551.00</td>\n",
       "      <td>29.00</td>\n",
       "      <td>0.97</td>\n",
       "      <td>Ranbaxy Fine Chemicals LTD</td>\n",
       "      <td>True</td>\n",
       "      <td>13</td>\n",
       "      <td>780.34</td>\n",
       "      <td>nan</td>\n",
       "    </tr>\n",
       "    <tr>\n",
       "      <th>2006-11-14</th>\n",
       "      <td>3</td>\n",
       "      <td>108-VN-T01</td>\n",
       "      <td>Pre-PQ Process</td>\n",
       "      <td>SCMS-13</td>\n",
       "      <td>ASN-85</td>\n",
       "      <td>Vietnam</td>\n",
       "      <td>PMO - US</td>\n",
       "      <td>Direct Drop</td>\n",
       "      <td>EXW</td>\n",
       "      <td>Air</td>\n",
       "      <td>Pre-PQ Process</td>\n",
       "      <td>Date Not Captured</td>\n",
       "      <td>14-Nov-06</td>\n",
       "      <td>14-Nov-06</td>\n",
       "      <td>ARV</td>\n",
       "      <td>Pediatric</td>\n",
       "      <td>Aurobindo Pharma Limited</td>\n",
       "      <td>Nevirapine 10mg/ml, oral suspension, Bottle, 2...</td>\n",
       "      <td>Nevirapine</td>\n",
       "      <td>Generic</td>\n",
       "      <td>10mg/ml</td>\n",
       "      <td>Oral suspension</td>\n",
       "      <td>240</td>\n",
       "      <td>1000</td>\n",
       "      <td>6,200.00</td>\n",
       "      <td>6.20</td>\n",
       "      <td>0.03</td>\n",
       "      <td>Aurobindo Unit III, India</td>\n",
       "      <td>True</td>\n",
       "      <td>358</td>\n",
       "      <td>4521.5</td>\n",
       "      <td>nan</td>\n",
       "    </tr>\n",
       "    <tr>\n",
       "      <th>2006-08-27</th>\n",
       "      <td>4</td>\n",
       "      <td>100-CI-T01</td>\n",
       "      <td>Pre-PQ Process</td>\n",
       "      <td>SCMS-20</td>\n",
       "      <td>ASN-14</td>\n",
       "      <td>Côte d'Ivoire</td>\n",
       "      <td>PMO - US</td>\n",
       "      <td>Direct Drop</td>\n",
       "      <td>FCA</td>\n",
       "      <td>Air</td>\n",
       "      <td>Pre-PQ Process</td>\n",
       "      <td>Date Not Captured</td>\n",
       "      <td>27-Aug-06</td>\n",
       "      <td>27-Aug-06</td>\n",
       "      <td>HRDT</td>\n",
       "      <td>HIV test</td>\n",
       "      <td>Abbott GmbH &amp; Co. KG</td>\n",
       "      <td>HIV 1/2, Determine Complete HIV Kit, 100 Tests</td>\n",
       "      <td>HIV 1/2, Determine Complete HIV Kit</td>\n",
       "      <td>Determine</td>\n",
       "      <td>NaN</td>\n",
       "      <td>Test kit</td>\n",
       "      <td>100</td>\n",
       "      <td>500</td>\n",
       "      <td>40,000.00</td>\n",
       "      <td>80.00</td>\n",
       "      <td>0.80</td>\n",
       "      <td>ABBVIE GmbH &amp; Co.KG Wiesbaden</td>\n",
       "      <td>True</td>\n",
       "      <td>171</td>\n",
       "      <td>1653.78</td>\n",
       "      <td>nan</td>\n",
       "    </tr>\n",
       "    <tr>\n",
       "      <th>2006-09-01</th>\n",
       "      <td>15</td>\n",
       "      <td>108-VN-T01</td>\n",
       "      <td>Pre-PQ Process</td>\n",
       "      <td>SCMS-78</td>\n",
       "      <td>ASN-50</td>\n",
       "      <td>Vietnam</td>\n",
       "      <td>PMO - US</td>\n",
       "      <td>Direct Drop</td>\n",
       "      <td>EXW</td>\n",
       "      <td>Air</td>\n",
       "      <td>Pre-PQ Process</td>\n",
       "      <td>Date Not Captured</td>\n",
       "      <td>1-Sep-06</td>\n",
       "      <td>1-Sep-06</td>\n",
       "      <td>ARV</td>\n",
       "      <td>Adult</td>\n",
       "      <td>SUN PHARMACEUTICAL INDUSTRIES LTD (RANBAXY LAB...</td>\n",
       "      <td>Lamivudine 150mg, tablets, 60 Tabs</td>\n",
       "      <td>Lamivudine</td>\n",
       "      <td>Generic</td>\n",
       "      <td>150mg</td>\n",
       "      <td>Tablet</td>\n",
       "      <td>60</td>\n",
       "      <td>31920</td>\n",
       "      <td>127,360.80</td>\n",
       "      <td>3.99</td>\n",
       "      <td>0.07</td>\n",
       "      <td>Ranbaxy, Paonta Shahib, India</td>\n",
       "      <td>True</td>\n",
       "      <td>1855</td>\n",
       "      <td>16007.06</td>\n",
       "      <td>nan</td>\n",
       "    </tr>\n",
       "    <tr>\n",
       "      <th>2006-08-11</th>\n",
       "      <td>16</td>\n",
       "      <td>108-VN-T01</td>\n",
       "      <td>Pre-PQ Process</td>\n",
       "      <td>SCMS-81</td>\n",
       "      <td>ASN-55</td>\n",
       "      <td>Vietnam</td>\n",
       "      <td>PMO - US</td>\n",
       "      <td>Direct Drop</td>\n",
       "      <td>EXW</td>\n",
       "      <td>Air</td>\n",
       "      <td>Pre-PQ Process</td>\n",
       "      <td>Date Not Captured</td>\n",
       "      <td>11-Aug-06</td>\n",
       "      <td>11-Aug-06</td>\n",
       "      <td>ARV</td>\n",
       "      <td>Adult</td>\n",
       "      <td>Aurobindo Pharma Limited</td>\n",
       "      <td>Stavudine 30mg, capsules, 60 Caps</td>\n",
       "      <td>Stavudine</td>\n",
       "      <td>Generic</td>\n",
       "      <td>30mg</td>\n",
       "      <td>Capsule</td>\n",
       "      <td>60</td>\n",
       "      <td>38000</td>\n",
       "      <td>121,600.00</td>\n",
       "      <td>3.20</td>\n",
       "      <td>0.05</td>\n",
       "      <td>Aurobindo Unit III, India</td>\n",
       "      <td>True</td>\n",
       "      <td>7590</td>\n",
       "      <td>45450.08</td>\n",
       "      <td>nan</td>\n",
       "    </tr>\n",
       "  </tbody>\n",
       "</table>\n",
       "</div>"
      ],
      "text/plain": [
       "                         id project code            pq # po / so # asn/dn #  \\\n",
       "scheduled delivery date                                                       \n",
       "2006-06-02                1   100-CI-T01  Pre-PQ Process    SCMS-4    ASN-8   \n",
       "2006-11-14                3   108-VN-T01  Pre-PQ Process   SCMS-13   ASN-85   \n",
       "2006-08-27                4   100-CI-T01  Pre-PQ Process   SCMS-20   ASN-14   \n",
       "2006-09-01               15   108-VN-T01  Pre-PQ Process   SCMS-78   ASN-50   \n",
       "2006-08-11               16   108-VN-T01  Pre-PQ Process   SCMS-81   ASN-55   \n",
       "\n",
       "                               country managed by  fulfill via  \\\n",
       "scheduled delivery date                                          \n",
       "2006-06-02               Côte d'Ivoire   PMO - US  Direct Drop   \n",
       "2006-11-14                     Vietnam   PMO - US  Direct Drop   \n",
       "2006-08-27               Côte d'Ivoire   PMO - US  Direct Drop   \n",
       "2006-09-01                     Vietnam   PMO - US  Direct Drop   \n",
       "2006-08-11                     Vietnam   PMO - US  Direct Drop   \n",
       "\n",
       "                        vendor inco term shipment mode  \\\n",
       "scheduled delivery date                                  \n",
       "2006-06-02                           EXW           Air   \n",
       "2006-11-14                           EXW           Air   \n",
       "2006-08-27                           FCA           Air   \n",
       "2006-09-01                           EXW           Air   \n",
       "2006-08-11                           EXW           Air   \n",
       "\n",
       "                        pq first sent to client date po sent to vendor date  \\\n",
       "scheduled delivery date                                                       \n",
       "2006-06-02                            Pre-PQ Process      Date Not Captured   \n",
       "2006-11-14                            Pre-PQ Process      Date Not Captured   \n",
       "2006-08-27                            Pre-PQ Process      Date Not Captured   \n",
       "2006-09-01                            Pre-PQ Process      Date Not Captured   \n",
       "2006-08-11                            Pre-PQ Process      Date Not Captured   \n",
       "\n",
       "                        delivered to client date delivery recorded date  \\\n",
       "scheduled delivery date                                                   \n",
       "2006-06-02                              2-Jun-06               2-Jun-06   \n",
       "2006-11-14                             14-Nov-06              14-Nov-06   \n",
       "2006-08-27                             27-Aug-06              27-Aug-06   \n",
       "2006-09-01                              1-Sep-06               1-Sep-06   \n",
       "2006-08-11                             11-Aug-06              11-Aug-06   \n",
       "\n",
       "                        product group sub classification  \\\n",
       "scheduled delivery date                                    \n",
       "2006-06-02                       HRDT           HIV test   \n",
       "2006-11-14                        ARV          Pediatric   \n",
       "2006-08-27                       HRDT           HIV test   \n",
       "2006-09-01                        ARV              Adult   \n",
       "2006-08-11                        ARV              Adult   \n",
       "\n",
       "                                                                    vendor  \\\n",
       "scheduled delivery date                                                      \n",
       "2006-06-02                                     RANBAXY Fine Chemicals LTD.   \n",
       "2006-11-14                                        Aurobindo Pharma Limited   \n",
       "2006-08-27                                            Abbott GmbH & Co. KG   \n",
       "2006-09-01               SUN PHARMACEUTICAL INDUSTRIES LTD (RANBAXY LAB...   \n",
       "2006-08-11                                        Aurobindo Pharma Limited   \n",
       "\n",
       "                                                          item description  \\\n",
       "scheduled delivery date                                                      \n",
       "2006-06-02               HIV, Reveal G3 Rapid HIV-1 Antibody Test, 30 T...   \n",
       "2006-11-14               Nevirapine 10mg/ml, oral suspension, Bottle, 2...   \n",
       "2006-08-27                  HIV 1/2, Determine Complete HIV Kit, 100 Tests   \n",
       "2006-09-01                              Lamivudine 150mg, tablets, 60 Tabs   \n",
       "2006-08-11                               Stavudine 30mg, capsules, 60 Caps   \n",
       "\n",
       "                                               molecule/test type      brand  \\\n",
       "scheduled delivery date                                                        \n",
       "2006-06-02               HIV, Reveal G3 Rapid HIV-1 Antibody Test     Reveal   \n",
       "2006-11-14                                             Nevirapine    Generic   \n",
       "2006-08-27                    HIV 1/2, Determine Complete HIV Kit  Determine   \n",
       "2006-09-01                                             Lamivudine    Generic   \n",
       "2006-08-11                                              Stavudine    Generic   \n",
       "\n",
       "                          dosage      dosage form  unit of measure (per pack)  \\\n",
       "scheduled delivery date                                                         \n",
       "2006-06-02                   NaN         Test kit                          30   \n",
       "2006-11-14               10mg/ml  Oral suspension                         240   \n",
       "2006-08-27                   NaN         Test kit                         100   \n",
       "2006-09-01                 150mg           Tablet                          60   \n",
       "2006-08-11                  30mg          Capsule                          60   \n",
       "\n",
       "                         line item quantity      line item value  \\\n",
       "scheduled delivery date                                            \n",
       "2006-06-02                               19               551.00   \n",
       "2006-11-14                             1000             6,200.00   \n",
       "2006-08-27                              500            40,000.00   \n",
       "2006-09-01                            31920           127,360.80   \n",
       "2006-08-11                            38000           121,600.00   \n",
       "\n",
       "                                  pack price           unit price  \\\n",
       "scheduled delivery date                                             \n",
       "2006-06-02                             29.00                 0.97   \n",
       "2006-11-14                              6.20                 0.03   \n",
       "2006-08-27                             80.00                 0.80   \n",
       "2006-09-01                              3.99                 0.07   \n",
       "2006-08-11                              3.20                 0.05   \n",
       "\n",
       "                                    manufacturing site  \\\n",
       "scheduled delivery date                                  \n",
       "2006-06-02                  Ranbaxy Fine Chemicals LTD   \n",
       "2006-11-14                   Aurobindo Unit III, India   \n",
       "2006-08-27               ABBVIE GmbH & Co.KG Wiesbaden   \n",
       "2006-09-01               Ranbaxy, Paonta Shahib, India   \n",
       "2006-08-11                   Aurobindo Unit III, India   \n",
       "\n",
       "                         first line designation weight (kilograms)  \\\n",
       "scheduled delivery date                                              \n",
       "2006-06-02                                 True                 13   \n",
       "2006-11-14                                 True                358   \n",
       "2006-08-27                                 True                171   \n",
       "2006-09-01                                 True               1855   \n",
       "2006-08-11                                 True               7590   \n",
       "\n",
       "                        freight cost (usd)  line item insurance (usd)  \n",
       "scheduled delivery date                                                \n",
       "2006-06-02                          780.34                        nan  \n",
       "2006-11-14                          4521.5                        nan  \n",
       "2006-08-27                         1653.78                        nan  \n",
       "2006-09-01                        16007.06                        nan  \n",
       "2006-08-11                        45450.08                        nan  "
      ]
     },
     "execution_count": 61,
     "metadata": {},
     "output_type": "execute_result"
    }
   ],
   "source": [
    "print('shape pf data', df.shape)\n",
    "df.head()"
   ]
  },
  {
   "cell_type": "code",
   "execution_count": null,
   "metadata": {},
   "outputs": [],
   "source": []
  },
  {
   "cell_type": "code",
   "execution_count": 62,
   "metadata": {},
   "outputs": [
    {
     "data": {
      "text/html": [
       "<div>\n",
       "<style scoped>\n",
       "    .dataframe tbody tr th:only-of-type {\n",
       "        vertical-align: middle;\n",
       "    }\n",
       "\n",
       "    .dataframe tbody tr th {\n",
       "        vertical-align: top;\n",
       "    }\n",
       "\n",
       "    .dataframe thead th {\n",
       "        text-align: right;\n",
       "    }\n",
       "</style>\n",
       "<table border=\"1\" class=\"dataframe\">\n",
       "  <thead>\n",
       "    <tr style=\"text-align: right;\">\n",
       "      <th></th>\n",
       "      <th>id</th>\n",
       "      <th>project code</th>\n",
       "      <th>pq #</th>\n",
       "      <th>po / so #</th>\n",
       "      <th>asn/dn #</th>\n",
       "      <th>country</th>\n",
       "      <th>managed by</th>\n",
       "      <th>fulfill via</th>\n",
       "      <th>vendor inco term</th>\n",
       "      <th>shipment mode</th>\n",
       "      <th>pq first sent to client date</th>\n",
       "      <th>po sent to vendor date</th>\n",
       "      <th>delivered to client date</th>\n",
       "      <th>delivery recorded date</th>\n",
       "      <th>product group</th>\n",
       "      <th>sub classification</th>\n",
       "      <th>vendor</th>\n",
       "      <th>item description</th>\n",
       "      <th>molecule/test type</th>\n",
       "      <th>brand</th>\n",
       "      <th>dosage</th>\n",
       "      <th>dosage form</th>\n",
       "      <th>unit of measure (per pack)</th>\n",
       "      <th>line item quantity</th>\n",
       "      <th>line item value</th>\n",
       "      <th>pack price</th>\n",
       "      <th>unit price</th>\n",
       "      <th>manufacturing site</th>\n",
       "      <th>first line designation</th>\n",
       "      <th>weight (kilograms)</th>\n",
       "      <th>freight cost (usd)</th>\n",
       "      <th>line item insurance (usd)</th>\n",
       "    </tr>\n",
       "    <tr>\n",
       "      <th>scheduled delivery date</th>\n",
       "      <th></th>\n",
       "      <th></th>\n",
       "      <th></th>\n",
       "      <th></th>\n",
       "      <th></th>\n",
       "      <th></th>\n",
       "      <th></th>\n",
       "      <th></th>\n",
       "      <th></th>\n",
       "      <th></th>\n",
       "      <th></th>\n",
       "      <th></th>\n",
       "      <th></th>\n",
       "      <th></th>\n",
       "      <th></th>\n",
       "      <th></th>\n",
       "      <th></th>\n",
       "      <th></th>\n",
       "      <th></th>\n",
       "      <th></th>\n",
       "      <th></th>\n",
       "      <th></th>\n",
       "      <th></th>\n",
       "      <th></th>\n",
       "      <th></th>\n",
       "      <th></th>\n",
       "      <th></th>\n",
       "      <th></th>\n",
       "      <th></th>\n",
       "      <th></th>\n",
       "      <th></th>\n",
       "      <th></th>\n",
       "    </tr>\n",
       "  </thead>\n",
       "  <tbody>\n",
       "    <tr>\n",
       "      <th>2015-07-31</th>\n",
       "      <td>86818</td>\n",
       "      <td>103-ZW-T30</td>\n",
       "      <td>FPQ-15197</td>\n",
       "      <td>SO-50020</td>\n",
       "      <td>DN-4307</td>\n",
       "      <td>Zimbabwe</td>\n",
       "      <td>PMO - US</td>\n",
       "      <td>From RDC</td>\n",
       "      <td>N/A - From RDC</td>\n",
       "      <td>Truck</td>\n",
       "      <td>10/16/2014</td>\n",
       "      <td>N/A - From RDC</td>\n",
       "      <td>15-Jul-15</td>\n",
       "      <td>20-Jul-15</td>\n",
       "      <td>ARV</td>\n",
       "      <td>Pediatric</td>\n",
       "      <td>SCMS from RDC</td>\n",
       "      <td>Lamivudine/Nevirapine/Zidovudine 30/50/60mg, d...</td>\n",
       "      <td>Lamivudine/Nevirapine/Zidovudine</td>\n",
       "      <td>Generic</td>\n",
       "      <td>30/50/60mg</td>\n",
       "      <td>Chewable/dispersible tablet - FDC</td>\n",
       "      <td>60</td>\n",
       "      <td>166571</td>\n",
       "      <td>599,655.60</td>\n",
       "      <td>3.60</td>\n",
       "      <td>0.06</td>\n",
       "      <td>Mylan,  H-12 &amp; H-13, India</td>\n",
       "      <td>False</td>\n",
       "      <td>See DN-4307 (ID#:83920)</td>\n",
       "      <td>See DN-4307 (ID#:83920)</td>\n",
       "      <td>705.79</td>\n",
       "    </tr>\n",
       "    <tr>\n",
       "      <th>2015-07-31</th>\n",
       "      <td>86819</td>\n",
       "      <td>104-CI-T30</td>\n",
       "      <td>FPQ-15259</td>\n",
       "      <td>SO-50102</td>\n",
       "      <td>DN-4313</td>\n",
       "      <td>Côte d'Ivoire</td>\n",
       "      <td>PMO - US</td>\n",
       "      <td>From RDC</td>\n",
       "      <td>N/A - From RDC</td>\n",
       "      <td>Truck</td>\n",
       "      <td>10/24/2014</td>\n",
       "      <td>N/A - From RDC</td>\n",
       "      <td>6-Aug-15</td>\n",
       "      <td>7-Aug-15</td>\n",
       "      <td>ARV</td>\n",
       "      <td>Adult</td>\n",
       "      <td>SCMS from RDC</td>\n",
       "      <td>Lamivudine/Zidovudine 150/300mg, tablets, 60 Tabs</td>\n",
       "      <td>Lamivudine/Zidovudine</td>\n",
       "      <td>Generic</td>\n",
       "      <td>150/300mg</td>\n",
       "      <td>Tablet - FDC</td>\n",
       "      <td>60</td>\n",
       "      <td>21072</td>\n",
       "      <td>137,389.44</td>\n",
       "      <td>6.52</td>\n",
       "      <td>0.11</td>\n",
       "      <td>Hetero Unit III Hyderabad IN</td>\n",
       "      <td>False</td>\n",
       "      <td>See DN-4313 (ID#:83921)</td>\n",
       "      <td>See DN-4313 (ID#:83921)</td>\n",
       "      <td>161.71</td>\n",
       "    </tr>\n",
       "    <tr>\n",
       "      <th>2015-08-31</th>\n",
       "      <td>86821</td>\n",
       "      <td>110-ZM-T30</td>\n",
       "      <td>FPQ-14784</td>\n",
       "      <td>SO-49600</td>\n",
       "      <td>DN-4316</td>\n",
       "      <td>Zambia</td>\n",
       "      <td>PMO - US</td>\n",
       "      <td>From RDC</td>\n",
       "      <td>N/A - From RDC</td>\n",
       "      <td>Truck</td>\n",
       "      <td>8/12/2014</td>\n",
       "      <td>N/A - From RDC</td>\n",
       "      <td>25-Aug-15</td>\n",
       "      <td>3-Sep-15</td>\n",
       "      <td>ARV</td>\n",
       "      <td>Adult</td>\n",
       "      <td>SCMS from RDC</td>\n",
       "      <td>Efavirenz/Lamivudine/Tenofovir Disoproxil Fuma...</td>\n",
       "      <td>Efavirenz/Lamivudine/Tenofovir Disoproxil Fuma...</td>\n",
       "      <td>Generic</td>\n",
       "      <td>600/300/300mg</td>\n",
       "      <td>Tablet - FDC</td>\n",
       "      <td>30</td>\n",
       "      <td>514526</td>\n",
       "      <td>5,140,114.74</td>\n",
       "      <td>9.99</td>\n",
       "      <td>0.33</td>\n",
       "      <td>Cipla Ltd A-42 MIDC Mahar. IN</td>\n",
       "      <td>False</td>\n",
       "      <td>Weight Captured Separately</td>\n",
       "      <td>Freight Included in Commodity Cost</td>\n",
       "      <td>5,284.04</td>\n",
       "    </tr>\n",
       "    <tr>\n",
       "      <th>2015-09-09</th>\n",
       "      <td>86822</td>\n",
       "      <td>200-ZW-T30</td>\n",
       "      <td>FPQ-16523</td>\n",
       "      <td>SO-51680</td>\n",
       "      <td>DN-4334</td>\n",
       "      <td>Zimbabwe</td>\n",
       "      <td>PMO - US</td>\n",
       "      <td>From RDC</td>\n",
       "      <td>N/A - From RDC</td>\n",
       "      <td>Truck</td>\n",
       "      <td>7/1/2015</td>\n",
       "      <td>N/A - From RDC</td>\n",
       "      <td>4-Aug-15</td>\n",
       "      <td>11-Aug-15</td>\n",
       "      <td>ARV</td>\n",
       "      <td>Adult</td>\n",
       "      <td>SCMS from RDC</td>\n",
       "      <td>Lamivudine/Zidovudine 150/300mg, tablets, 60 Tabs</td>\n",
       "      <td>Lamivudine/Zidovudine</td>\n",
       "      <td>Generic</td>\n",
       "      <td>150/300mg</td>\n",
       "      <td>Tablet - FDC</td>\n",
       "      <td>60</td>\n",
       "      <td>17465</td>\n",
       "      <td>113,871.80</td>\n",
       "      <td>6.52</td>\n",
       "      <td>0.11</td>\n",
       "      <td>Mylan (formerly Matrix) Nashik</td>\n",
       "      <td>True</td>\n",
       "      <td>1392</td>\n",
       "      <td>Freight Included in Commodity Cost</td>\n",
       "      <td>134.03</td>\n",
       "    </tr>\n",
       "    <tr>\n",
       "      <th>2015-08-31</th>\n",
       "      <td>86823</td>\n",
       "      <td>103-ZW-T30</td>\n",
       "      <td>FPQ-15197</td>\n",
       "      <td>SO-50022</td>\n",
       "      <td>DN-4336</td>\n",
       "      <td>Zimbabwe</td>\n",
       "      <td>PMO - US</td>\n",
       "      <td>From RDC</td>\n",
       "      <td>N/A - From RDC</td>\n",
       "      <td>Truck</td>\n",
       "      <td>10/16/2014</td>\n",
       "      <td>N/A - From RDC</td>\n",
       "      <td>4-Aug-15</td>\n",
       "      <td>11-Aug-15</td>\n",
       "      <td>ARV</td>\n",
       "      <td>Pediatric</td>\n",
       "      <td>SCMS from RDC</td>\n",
       "      <td>Lamivudine/Zidovudine 30/60mg, dispersible tab...</td>\n",
       "      <td>Lamivudine/Zidovudine</td>\n",
       "      <td>Generic</td>\n",
       "      <td>30/60mg</td>\n",
       "      <td>Chewable/dispersible tablet - FDC</td>\n",
       "      <td>60</td>\n",
       "      <td>36639</td>\n",
       "      <td>72,911.61</td>\n",
       "      <td>1.99</td>\n",
       "      <td>0.03</td>\n",
       "      <td>Cipla, Goa, India</td>\n",
       "      <td>False</td>\n",
       "      <td>Weight Captured Separately</td>\n",
       "      <td>Freight Included in Commodity Cost</td>\n",
       "      <td>85.82</td>\n",
       "    </tr>\n",
       "  </tbody>\n",
       "</table>\n",
       "</div>"
      ],
      "text/plain": [
       "                            id project code       pq # po / so # asn/dn #  \\\n",
       "scheduled delivery date                                                     \n",
       "2015-07-31               86818   103-ZW-T30  FPQ-15197  SO-50020  DN-4307   \n",
       "2015-07-31               86819   104-CI-T30  FPQ-15259  SO-50102  DN-4313   \n",
       "2015-08-31               86821   110-ZM-T30  FPQ-14784  SO-49600  DN-4316   \n",
       "2015-09-09               86822   200-ZW-T30  FPQ-16523  SO-51680  DN-4334   \n",
       "2015-08-31               86823   103-ZW-T30  FPQ-15197  SO-50022  DN-4336   \n",
       "\n",
       "                               country managed by fulfill via  \\\n",
       "scheduled delivery date                                         \n",
       "2015-07-31                    Zimbabwe   PMO - US    From RDC   \n",
       "2015-07-31               Côte d'Ivoire   PMO - US    From RDC   \n",
       "2015-08-31                      Zambia   PMO - US    From RDC   \n",
       "2015-09-09                    Zimbabwe   PMO - US    From RDC   \n",
       "2015-08-31                    Zimbabwe   PMO - US    From RDC   \n",
       "\n",
       "                        vendor inco term shipment mode  \\\n",
       "scheduled delivery date                                  \n",
       "2015-07-31                N/A - From RDC         Truck   \n",
       "2015-07-31                N/A - From RDC         Truck   \n",
       "2015-08-31                N/A - From RDC         Truck   \n",
       "2015-09-09                N/A - From RDC         Truck   \n",
       "2015-08-31                N/A - From RDC         Truck   \n",
       "\n",
       "                        pq first sent to client date po sent to vendor date  \\\n",
       "scheduled delivery date                                                       \n",
       "2015-07-31                                10/16/2014         N/A - From RDC   \n",
       "2015-07-31                                10/24/2014         N/A - From RDC   \n",
       "2015-08-31                                 8/12/2014         N/A - From RDC   \n",
       "2015-09-09                                  7/1/2015         N/A - From RDC   \n",
       "2015-08-31                                10/16/2014         N/A - From RDC   \n",
       "\n",
       "                        delivered to client date delivery recorded date  \\\n",
       "scheduled delivery date                                                   \n",
       "2015-07-31                             15-Jul-15              20-Jul-15   \n",
       "2015-07-31                              6-Aug-15               7-Aug-15   \n",
       "2015-08-31                             25-Aug-15               3-Sep-15   \n",
       "2015-09-09                              4-Aug-15              11-Aug-15   \n",
       "2015-08-31                              4-Aug-15              11-Aug-15   \n",
       "\n",
       "                        product group sub classification         vendor  \\\n",
       "scheduled delivery date                                                   \n",
       "2015-07-31                        ARV          Pediatric  SCMS from RDC   \n",
       "2015-07-31                        ARV              Adult  SCMS from RDC   \n",
       "2015-08-31                        ARV              Adult  SCMS from RDC   \n",
       "2015-09-09                        ARV              Adult  SCMS from RDC   \n",
       "2015-08-31                        ARV          Pediatric  SCMS from RDC   \n",
       "\n",
       "                                                          item description  \\\n",
       "scheduled delivery date                                                      \n",
       "2015-07-31               Lamivudine/Nevirapine/Zidovudine 30/50/60mg, d...   \n",
       "2015-07-31               Lamivudine/Zidovudine 150/300mg, tablets, 60 Tabs   \n",
       "2015-08-31               Efavirenz/Lamivudine/Tenofovir Disoproxil Fuma...   \n",
       "2015-09-09               Lamivudine/Zidovudine 150/300mg, tablets, 60 Tabs   \n",
       "2015-08-31               Lamivudine/Zidovudine 30/60mg, dispersible tab...   \n",
       "\n",
       "                                                        molecule/test type  \\\n",
       "scheduled delivery date                                                      \n",
       "2015-07-31                                Lamivudine/Nevirapine/Zidovudine   \n",
       "2015-07-31                                           Lamivudine/Zidovudine   \n",
       "2015-08-31               Efavirenz/Lamivudine/Tenofovir Disoproxil Fuma...   \n",
       "2015-09-09                                           Lamivudine/Zidovudine   \n",
       "2015-08-31                                           Lamivudine/Zidovudine   \n",
       "\n",
       "                           brand         dosage  \\\n",
       "scheduled delivery date                           \n",
       "2015-07-31               Generic     30/50/60mg   \n",
       "2015-07-31               Generic      150/300mg   \n",
       "2015-08-31               Generic  600/300/300mg   \n",
       "2015-09-09               Generic      150/300mg   \n",
       "2015-08-31               Generic        30/60mg   \n",
       "\n",
       "                                               dosage form  \\\n",
       "scheduled delivery date                                      \n",
       "2015-07-31               Chewable/dispersible tablet - FDC   \n",
       "2015-07-31                                    Tablet - FDC   \n",
       "2015-08-31                                    Tablet - FDC   \n",
       "2015-09-09                                    Tablet - FDC   \n",
       "2015-08-31               Chewable/dispersible tablet - FDC   \n",
       "\n",
       "                         unit of measure (per pack)  line item quantity  \\\n",
       "scheduled delivery date                                                   \n",
       "2015-07-31                                       60              166571   \n",
       "2015-07-31                                       60               21072   \n",
       "2015-08-31                                       30              514526   \n",
       "2015-09-09                                       60               17465   \n",
       "2015-08-31                                       60               36639   \n",
       "\n",
       "                             line item value           pack price  \\\n",
       "scheduled delivery date                                             \n",
       "2015-07-31                        599,655.60                 3.60   \n",
       "2015-07-31                        137,389.44                 6.52   \n",
       "2015-08-31                      5,140,114.74                 9.99   \n",
       "2015-09-09                        113,871.80                 6.52   \n",
       "2015-08-31                         72,911.61                 1.99   \n",
       "\n",
       "                                  unit price              manufacturing site  \\\n",
       "scheduled delivery date                                                        \n",
       "2015-07-31                              0.06      Mylan,  H-12 & H-13, India   \n",
       "2015-07-31                              0.11    Hetero Unit III Hyderabad IN   \n",
       "2015-08-31                              0.33   Cipla Ltd A-42 MIDC Mahar. IN   \n",
       "2015-09-09                              0.11  Mylan (formerly Matrix) Nashik   \n",
       "2015-08-31                              0.03               Cipla, Goa, India   \n",
       "\n",
       "                         first line designation          weight (kilograms)  \\\n",
       "scheduled delivery date                                                       \n",
       "2015-07-31                                False     See DN-4307 (ID#:83920)   \n",
       "2015-07-31                                False     See DN-4313 (ID#:83921)   \n",
       "2015-08-31                                False  Weight Captured Separately   \n",
       "2015-09-09                                 True                        1392   \n",
       "2015-08-31                                False  Weight Captured Separately   \n",
       "\n",
       "                                         freight cost (usd)  \\\n",
       "scheduled delivery date                                       \n",
       "2015-07-31                          See DN-4307 (ID#:83920)   \n",
       "2015-07-31                          See DN-4313 (ID#:83921)   \n",
       "2015-08-31               Freight Included in Commodity Cost   \n",
       "2015-09-09               Freight Included in Commodity Cost   \n",
       "2015-08-31               Freight Included in Commodity Cost   \n",
       "\n",
       "                         line item insurance (usd)  \n",
       "scheduled delivery date                             \n",
       "2015-07-31                                  705.79  \n",
       "2015-07-31                                  161.71  \n",
       "2015-08-31                                5,284.04  \n",
       "2015-09-09                                  134.03  \n",
       "2015-08-31                                   85.82  "
      ]
     },
     "execution_count": 62,
     "metadata": {},
     "output_type": "execute_result"
    }
   ],
   "source": [
    "df.tail()"
   ]
  },
  {
   "cell_type": "code",
   "execution_count": 63,
   "metadata": {},
   "outputs": [
    {
     "name": "stdout",
     "output_type": "stream",
     "text": [
      "Country Wise Count \n",
      "\n",
      "South Africa          1406\n",
      "Nigeria               1194\n",
      "Côte d'Ivoire         1083\n",
      "Uganda                 779\n",
      "Vietnam                688\n",
      "Zambia                 683\n",
      "Haiti                  655\n",
      "Mozambique             631\n",
      "Zimbabwe               538\n",
      "Tanzania               519\n",
      "Rwanda                 430\n",
      "Congo, DRC             333\n",
      "Guyana                 237\n",
      "Ethiopia               216\n",
      "South Sudan            164\n",
      "Kenya                  111\n",
      "Burundi                 98\n",
      "Namibia                 95\n",
      "Cameroon                75\n",
      "Botswana                70\n",
      "Ghana                   58\n",
      "Dominican Republic      52\n",
      "Sudan                   46\n",
      "Swaziland               35\n",
      "Mali                    17\n",
      "Pakistan                15\n",
      "Guatemala               15\n",
      "Malawi                  14\n",
      "Benin                   13\n",
      "Lebanon                  8\n",
      "Libya                    8\n",
      "Angola                   7\n",
      "Liberia                  6\n",
      "Lesotho                  4\n",
      "Sierra Leone             4\n",
      "Senegal                  3\n",
      "Afghanistan              3\n",
      "Togo                     3\n",
      "Burkina Faso             2\n",
      "Kazakhstan               2\n",
      "Kyrgyzstan               2\n",
      "Belize                   1\n",
      "Guinea                   1\n",
      "Name: country, dtype: int64\n"
     ]
    },
    {
     "data": {
      "text/plain": [
       "Text(0.5, 0, 'Country Name')"
      ]
     },
     "execution_count": 63,
     "metadata": {},
     "output_type": "execute_result"
    },
    {
     "data": {
      "image/png": "[encoded data removed]",
      "text/plain": [
       "<Figure size 7200x2880 with 1 Axes>"
      ]
     },
     "metadata": {
      "needs_background": "light"
     },
     "output_type": "display_data"
    }
   ],
   "source": [
    "#Exploratory Analysis\n",
    "#Country wise count with graph\n",
    "ItemCount = df[\"country\"].value_counts().nlargest(50)\n",
    "print(\"Country Wise Count \\n\")\n",
    "print(ItemCount) \n",
    "sn.set_context(\"talk\", font_scale = 1)\n",
    "plt.figure(figsize=(100, 40))\n",
    "sn.countplot(df[\"country\"],order = df[\"country\"].value_counts().nlargest(50).index)\n",
    "plt.title('Country Wise Count \\n')\n",
    "plt.ylabel('Total Count')\n",
    "plt.xlabel('Country Name')\n"
   ]
  },
  {
   "cell_type": "code",
   "execution_count": 64,
   "metadata": {},
   "outputs": [
    {
     "name": "stdout",
     "output_type": "stream",
     "text": [
      "manufacturing site\n",
      "Aurobindo Unit III, India         3172\n",
      "Mylan (formerly Matrix) Nashik    1415\n",
      "Hetero Unit III Hyderabad IN       869\n",
      "Cipla, Goa, India                  665\n",
      "Strides, Bangalore, India.         540\n",
      "dtype: int64\n"
     ]
    },
    {
     "data": {
      "text/plain": [
       "Text(0.5, 0, 'Manufacturing Location')"
      ]
     },
     "execution_count": 64,
     "metadata": {},
     "output_type": "execute_result"
    },
    {
     "data": {
      "image/png": "[encoded data removed]",
      "text/plain": [
       "<Figure size 1440x360 with 1 Axes>"
      ]
     },
     "metadata": {
      "needs_background": "light"
     },
     "output_type": "display_data"
    }
   ],
   "source": [
    "#Top 5 manufacturing sites for all shipment modes\n",
    "plt.figure(figsize=(20,5))\n",
    "Top5ManufacuringLocations = df.groupby('manufacturing site').size().nlargest(5)\n",
    "print(Top5ManufacuringLocations)\n",
    "Top5ManufacuringLocations.plot(kind='bar')\n",
    "plt.title('Top 5 Manufacuring Locations')\n",
    "plt.ylabel('Total Count')\n",
    "plt.xlabel('Manufacturing Location')"
   ]
  },
  {
   "cell_type": "code",
   "execution_count": 78,
   "metadata": {},
   "outputs": [
    {
     "data": {
      "application/vnd.plotly.v1+json": {
       "config": {
        "linkText": "Export to plot.ly",
        "plotlyServerURL": "https://plot.ly",
        "showLink": false
       },
       "data": [
        {
         "labels": [
          "Air",
          "Truck",
          "Air Charter",
          "Ocean"
         ],
         "type": "pie",
         "values": [
          61.35086310718587,
          28.402248093135285,
          6.523484544359695,
          3.723404255319149
         ]
        }
       ],
       "layout": {
        "template": {
         "data": {
          "bar": [
           {
            "error_x": {
             "color": "#2a3f5f"
            },
            "error_y": {
             "color": "#2a3f5f"
            },
            "marker": {
             "line": {
              "color": "#E5ECF6",
              "width": 0.5
             },
             "pattern": {
              "fillmode": "overlay",
              "size": 10,
              "solidity": 0.2
             }
            },
            "type": "bar"
           }
          ],
          "barpolar": [
           {
            "marker": {
             "line": {
              "color": "#E5ECF6",
              "width": 0.5
             },
             "pattern": {
              "fillmode": "overlay",
              "size": 10,
              "solidity": 0.2
             }
            },
            "type": "barpolar"
           }
          ],
          "carpet": [
           {
            "aaxis": {
             "endlinecolor": "#2a3f5f",
             "gridcolor": "white",
             "linecolor": "white",
             "minorgridcolor": "white",
             "startlinecolor": "#2a3f5f"
            },
            "baxis": {
             "endlinecolor": "#2a3f5f",
             "gridcolor": "white",
             "linecolor": "white",
             "minorgridcolor": "white",
             "startlinecolor": "#2a3f5f"
            },
            "type": "carpet"
           }
          ],
          "choropleth": [
           {
            "colorbar": {
             "outlinewidth": 0,
             "ticks": ""
            },
            "type": "choropleth"
           }
          ],
          "contour": [
           {
            "colorbar": {
             "outlinewidth": 0,
             "ticks": ""
            },
            "colorscale": [
             [
              0,
              "#0d0887"
             ],
             [
              0.1111111111111111,
              "#46039f"
             ],
             [
              0.2222222222222222,
              "#7201a8"
             ],
             [
              0.3333333333333333,
              "#9c179e"
             ],
             [
              0.4444444444444444,
              "#bd3786"
             ],
             [
              0.5555555555555556,
              "#d8576b"
             ],
             [
              0.6666666666666666,
              "#ed7953"
             ],
             [
              0.7777777777777778,
              "#fb9f3a"
             ],
             [
              0.8888888888888888,
              "#fdca26"
             ],
             [
              1,
              "#f0f921"
             ]
            ],
            "type": "contour"
           }
          ],
          "contourcarpet": [
           {
            "colorbar": {
             "outlinewidth": 0,
             "ticks": ""
            },
            "type": "contourcarpet"
           }
          ],
          "heatmap": [
           {
            "colorbar": {
             "outlinewidth": 0,
             "ticks": ""
            },
            "colorscale": [
             [
              0,
              "#0d0887"
             ],
             [
              0.1111111111111111,
              "#46039f"
             ],
             [
              0.2222222222222222,
              "#7201a8"
             ],
             [
              0.3333333333333333,
              "#9c179e"
             ],
             [
              0.4444444444444444,
              "#bd3786"
             ],
             [
              0.5555555555555556,
              "#d8576b"
             ],
             [
              0.6666666666666666,
              "#ed7953"
             ],
             [
              0.7777777777777778,
              "#fb9f3a"
             ],
             [
              0.8888888888888888,
              "#fdca26"
             ],
             [
              1,
              "#f0f921"
             ]
            ],
            "type": "heatmap"
           }
          ],
          "heatmapgl": [
           {
            "colorbar": {
             "outlinewidth": 0,
             "ticks": ""
            },
            "colorscale": [
             [
              0,
              "#0d0887"
             ],
             [
              0.1111111111111111,
              "#46039f"
             ],
             [
              0.2222222222222222,
              "#7201a8"
             ],
             [
              0.3333333333333333,
              "#9c179e"
             ],
             [
              0.4444444444444444,
              "#bd3786"
             ],
             [
              0.5555555555555556,
              "#d8576b"
             ],
             [
              0.6666666666666666,
              "#ed7953"
             ],
             [
              0.7777777777777778,
              "#fb9f3a"
             ],
             [
              0.8888888888888888,
              "#fdca26"
             ],
             [
              1,
              "#f0f921"
             ]
            ],
            "type": "heatmapgl"
           }
          ],
          "histogram": [
           {
            "marker": {
             "pattern": {
              "fillmode": "overlay",
              "size": 10,
              "solidity": 0.2
             }
            },
            "type": "histogram"
           }
          ],
          "histogram2d": [
           {
            "colorbar": {
             "outlinewidth": 0,
             "ticks": ""
            },
            "colorscale": [
             [
              0,
              "#0d0887"
             ],
             [
              0.1111111111111111,
              "#46039f"
             ],
             [
              0.2222222222222222,
              "#7201a8"
             ],
             [
              0.3333333333333333,
              "#9c179e"
             ],
             [
              0.4444444444444444,
              "#bd3786"
             ],
             [
              0.5555555555555556,
              "#d8576b"
             ],
             [
              0.6666666666666666,
              "#ed7953"
             ],
             [
              0.7777777777777778,
              "#fb9f3a"
             ],
             [
              0.8888888888888888,
              "#fdca26"
             ],
             [
              1,
              "#f0f921"
             ]
            ],
            "type": "histogram2d"
           }
          ],
          "histogram2dcontour": [
           {
            "colorbar": {
             "outlinewidth": 0,
             "ticks": ""
            },
            "colorscale": [
             [
              0,
              "#0d0887"
             ],
             [
              0.1111111111111111,
              "#46039f"
             ],
             [
              0.2222222222222222,
              "#7201a8"
             ],
             [
              0.3333333333333333,
              "#9c179e"
             ],
             [
              0.4444444444444444,
              "#bd3786"
             ],
             [
              0.5555555555555556,
              "#d8576b"
             ],
             [
              0.6666666666666666,
              "#ed7953"
             ],
             [
              0.7777777777777778,
              "#fb9f3a"
             ],
             [
              0.8888888888888888,
              "#fdca26"
             ],
             [
              1,
              "#f0f921"
             ]
            ],
            "type": "histogram2dcontour"
           }
          ],
          "mesh3d": [
           {
            "colorbar": {
             "outlinewidth": 0,
             "ticks": ""
            },
            "type": "mesh3d"
           }
          ],
          "parcoords": [
           {
            "line": {
             "colorbar": {
              "outlinewidth": 0,
              "ticks": ""
             }
            },
            "type": "parcoords"
           }
          ],
          "pie": [
           {
            "automargin": true,
            "type": "pie"
           }
          ],
          "scatter": [
           {
            "marker": {
             "colorbar": {
              "outlinewidth": 0,
              "ticks": ""
             }
            },
            "type": "scatter"
           }
          ],
          "scatter3d": [
           {
            "line": {
             "colorbar": {
              "outlinewidth": 0,
              "ticks": ""
             }
            },
            "marker": {
             "colorbar": {
              "outlinewidth": 0,
              "ticks": ""
             }
            },
            "type": "scatter3d"
           }
          ],
          "scattercarpet": [
           {
            "marker": {
             "colorbar": {
              "outlinewidth": 0,
              "ticks": ""
             }
            },
            "type": "scattercarpet"
           }
          ],
          "scattergeo": [
           {
            "marker": {
             "colorbar": {
              "outlinewidth": 0,
              "ticks": ""
             }
            },
            "type": "scattergeo"
           }
          ],
          "scattergl": [
           {
            "marker": {
             "colorbar": {
              "outlinewidth": 0,
              "ticks": ""
             }
            },
            "type": "scattergl"
           }
          ],
          "scattermapbox": [
           {
            "marker": {
             "colorbar": {
              "outlinewidth": 0,
              "ticks": ""
             }
            },
            "type": "scattermapbox"
           }
          ],
          "scatterpolar": [
           {
            "marker": {
             "colorbar": {
              "outlinewidth": 0,
              "ticks": ""
             }
            },
            "type": "scatterpolar"
           }
          ],
          "scatterpolargl": [
           {
            "marker": {
             "colorbar": {
              "outlinewidth": 0,
              "ticks": ""
             }
            },
            "type": "scatterpolargl"
           }
          ],
          "scatterternary": [
           {
            "marker": {
             "colorbar": {
              "outlinewidth": 0,
              "ticks": ""
             }
            },
            "type": "scatterternary"
           }
          ],
          "surface": [
           {
            "colorbar": {
             "outlinewidth": 0,
             "ticks": ""
            },
            "colorscale": [
             [
              0,
              "#0d0887"
             ],
             [
              0.1111111111111111,
              "#46039f"
             ],
             [
              0.2222222222222222,
              "#7201a8"
             ],
             [
              0.3333333333333333,
              "#9c179e"
             ],
             [
              0.4444444444444444,
              "#bd3786"
             ],
             [
              0.5555555555555556,
              "#d8576b"
             ],
             [
              0.6666666666666666,
              "#ed7953"
             ],
             [
              0.7777777777777778,
              "#fb9f3a"
             ],
             [
              0.8888888888888888,
              "#fdca26"
             ],
             [
              1,
              "#f0f921"
             ]
            ],
            "type": "surface"
           }
          ],
          "table": [
           {
            "cells": {
             "fill": {
              "color": "#EBF0F8"
             },
             "line": {
              "color": "white"
             }
            },
            "header": {
             "fill": {
              "color": "#C8D4E3"
             },
             "line": {
              "color": "white"
             }
            },
            "type": "table"
           }
          ]
         },
         "layout": {
          "annotationdefaults": {
           "arrowcolor": "#2a3f5f",
           "arrowhead": 0,
           "arrowwidth": 1
          },
          "autotypenumbers": "strict",
          "coloraxis": {
           "colorbar": {
            "outlinewidth": 0,
            "ticks": ""
           }
          },
          "colorscale": {
           "diverging": [
            [
             0,
             "#8e0152"
            ],
            [
             0.1,
             "#c51b7d"
            ],
            [
             0.2,
             "#de77ae"
            ],
            [
             0.3,
             "#f1b6da"
            ],
            [
             0.4,
             "#fde0ef"
            ],
            [
             0.5,
             "#f7f7f7"
            ],
            [
             0.6,
             "#e6f5d0"
            ],
            [
             0.7,
             "#b8e186"
            ],
            [
             0.8,
             "#7fbc41"
            ],
            [
             0.9,
             "#4d9221"
            ],
            [
             1,
             "#276419"
            ]
           ],
           "sequential": [
            [
             0,
             "#0d0887"
            ],
            [
             0.1111111111111111,
             "#46039f"
            ],
            [
             0.2222222222222222,
             "#7201a8"
            ],
            [
             0.3333333333333333,
             "#9c179e"
            ],
            [
             0.4444444444444444,
             "#bd3786"
            ],
            [
             0.5555555555555556,
             "#d8576b"
            ],
            [
             0.6666666666666666,
             "#ed7953"
            ],
            [
             0.7777777777777778,
             "#fb9f3a"
            ],
            [
             0.8888888888888888,
             "#fdca26"
            ],
            [
             1,
             "#f0f921"
            ]
           ],
           "sequentialminus": [
            [
             0,
             "#0d0887"
            ],
            [
             0.1111111111111111,
             "#46039f"
            ],
            [
             0.2222222222222222,
             "#7201a8"
            ],
            [
             0.3333333333333333,
             "#9c179e"
            ],
            [
             0.4444444444444444,
             "#bd3786"
            ],
            [
             0.5555555555555556,
             "#d8576b"
            ],
            [
             0.6666666666666666,
             "#ed7953"
            ],
            [
             0.7777777777777778,
             "#fb9f3a"
            ],
            [
             0.8888888888888888,
             "#fdca26"
            ],
            [
             1,
             "#f0f921"
            ]
           ]
          },
          "colorway": [
           "#636efa",
           "#EF553B",
           "#00cc96",
           "#ab63fa",
           "#FFA15A",
           "#19d3f3",
           "#FF6692",
           "#B6E880",
           "#FF97FF",
           "#FECB52"
          ],
          "font": {
           "color": "#2a3f5f"
          },
          "geo": {
           "bgcolor": "white",
           "lakecolor": "white",
           "landcolor": "#E5ECF6",
           "showlakes": true,
           "showland": true,
           "subunitcolor": "white"
          },
          "hoverlabel": {
           "align": "left"
          },
          "hovermode": "closest",
          "mapbox": {
           "style": "light"
          },
          "paper_bgcolor": "white",
          "plot_bgcolor": "#E5ECF6",
          "polar": {
           "angularaxis": {
            "gridcolor": "white",
            "linecolor": "white",
            "ticks": ""
           },
           "bgcolor": "#E5ECF6",
           "radialaxis": {
            "gridcolor": "white",
            "linecolor": "white",
            "ticks": ""
           }
          },
          "scene": {
           "xaxis": {
            "backgroundcolor": "#E5ECF6",
            "gridcolor": "white",
            "gridwidth": 2,
            "linecolor": "white",
            "showbackground": true,
            "ticks": "",
            "zerolinecolor": "white"
           },
           "yaxis": {
            "backgroundcolor": "#E5ECF6",
            "gridcolor": "white",
            "gridwidth": 2,
            "linecolor": "white",
            "showbackground": true,
            "ticks": "",
            "zerolinecolor": "white"
           },
           "zaxis": {
            "backgroundcolor": "#E5ECF6",
            "gridcolor": "white",
            "gridwidth": 2,
            "linecolor": "white",
            "showbackground": true,
            "ticks": "",
            "zerolinecolor": "white"
           }
          },
          "shapedefaults": {
           "line": {
            "color": "#2a3f5f"
           }
          },
          "ternary": {
           "aaxis": {
            "gridcolor": "white",
            "linecolor": "white",
            "ticks": ""
           },
           "baxis": {
            "gridcolor": "white",
            "linecolor": "white",
            "ticks": ""
           },
           "bgcolor": "#E5ECF6",
           "caxis": {
            "gridcolor": "white",
            "linecolor": "white",
            "ticks": ""
           }
          },
          "title": {
           "x": 0.05
          },
          "xaxis": {
           "automargin": true,
           "gridcolor": "white",
           "linecolor": "white",
           "ticks": "",
           "title": {
            "standoff": 15
           },
           "zerolinecolor": "white",
           "zerolinewidth": 2
          },
          "yaxis": {
           "automargin": true,
           "gridcolor": "white",
           "linecolor": "white",
           "ticks": "",
           "title": {
            "standoff": 15
           },
           "zerolinecolor": "white",
           "zerolinewidth": 2
          }
         }
        },
        "title": {
         "text": "shipment mode"
        }
       }
      },
      "text/html": [
       "<div>                            <div id=\"3ff762ba-cad9-4cfa-9ceb-9cdf5d28789b\" class=\"plotly-graph-div\" style=\"height:525px; width:100%;\"></div>            <script type=\"text/javascript\">                require([\"plotly\"], function(Plotly) {                    window.PLOTLYENV=window.PLOTLYENV || {};                                    if (document.getElementById(\"3ff762ba-cad9-4cfa-9ceb-9cdf5d28789b\")) {                    Plotly.newPlot(                        \"3ff762ba-cad9-4cfa-9ceb-9cdf5d28789b\",                        [{\"labels\":[\"Air\",\"Truck\",\"Air Charter\",\"Ocean\"],\"type\":\"pie\",\"values\":[61.35086310718587,28.402248093135285,6.523484544359695,3.723404255319149]}],                        {\"template\":{\"data\":{\"bar\":[{\"error_x\":{\"color\":\"#2a3f5f\"},\"error_y\":{\"color\":\"#2a3f5f\"},\"marker\":{\"line\":{\"color\":\"#E5ECF6\",\"width\":0.5},\"pattern\":{\"fillmode\":\"overlay\",\"size\":10,\"solidity\":0.2}},\"type\":\"bar\"}],\"barpolar\":[{\"marker\":{\"line\":{\"color\":\"#E5ECF6\",\"width\":0.5},\"pattern\":{\"fillmode\":\"overlay\",\"size\":10,\"solidity\":0.2}},\"type\":\"barpolar\"}],\"carpet\":[{\"aaxis\":{\"endlinecolor\":\"#2a3f5f\",\"gridcolor\":\"white\",\"linecolor\":\"white\",\"minorgridcolor\":\"white\",\"startlinecolor\":\"#2a3f5f\"},\"baxis\":{\"endlinecolor\":\"#2a3f5f\",\"gridcolor\":\"white\",\"linecolor\":\"white\",\"minorgridcolor\":\"white\",\"startlinecolor\":\"#2a3f5f\"},\"type\":\"carpet\"}],\"choropleth\":[{\"colorbar\":{\"outlinewidth\":0,\"ticks\":\"\"},\"type\":\"choropleth\"}],\"contour\":[{\"colorbar\":{\"outlinewidth\":0,\"ticks\":\"\"},\"colorscale\":[[0.0,\"#0d0887\"],[0.1111111111111111,\"#46039f\"],[0.2222222222222222,\"#7201a8\"],[0.3333333333333333,\"#9c179e\"],[0.4444444444444444,\"#bd3786\"],[0.5555555555555556,\"#d8576b\"],[0.6666666666666666,\"#ed7953\"],[0.7777777777777778,\"#fb9f3a\"],[0.8888888888888888,\"#fdca26\"],[1.0,\"#f0f921\"]],\"type\":\"contour\"}],\"contourcarpet\":[{\"colorbar\":{\"outlinewidth\":0,\"ticks\":\"\"},\"type\":\"contourcarpet\"}],\"heatmap\":[{\"colorbar\":{\"outlinewidth\":0,\"ticks\":\"\"},\"colorscale\":[[0.0,\"#0d0887\"],[0.1111111111111111,\"#46039f\"],[0.2222222222222222,\"#7201a8\"],[0.3333333333333333,\"#9c179e\"],[0.4444444444444444,\"#bd3786\"],[0.5555555555555556,\"#d8576b\"],[0.6666666666666666,\"#ed7953\"],[0.7777777777777778,\"#fb9f3a\"],[0.8888888888888888,\"#fdca26\"],[1.0,\"#f0f921\"]],\"type\":\"heatmap\"}],\"heatmapgl\":[{\"colorbar\":{\"outlinewidth\":0,\"ticks\":\"\"},\"colorscale\":[[0.0,\"#0d0887\"],[0.1111111111111111,\"#46039f\"],[0.2222222222222222,\"#7201a8\"],[0.3333333333333333,\"#9c179e\"],[0.4444444444444444,\"#bd3786\"],[0.5555555555555556,\"#d8576b\"],[0.6666666666666666,\"#ed7953\"],[0.7777777777777778,\"#fb9f3a\"],[0.8888888888888888,\"#fdca26\"],[1.0,\"#f0f921\"]],\"type\":\"heatmapgl\"}],\"histogram\":[{\"marker\":{\"pattern\":{\"fillmode\":\"overlay\",\"size\":10,\"solidity\":0.2}},\"type\":\"histogram\"}],\"histogram2d\":[{\"colorbar\":{\"outlinewidth\":0,\"ticks\":\"\"},\"colorscale\":[[0.0,\"#0d0887\"],[0.1111111111111111,\"#46039f\"],[0.2222222222222222,\"#7201a8\"],[0.3333333333333333,\"#9c179e\"],[0.4444444444444444,\"#bd3786\"],[0.5555555555555556,\"#d8576b\"],[0.6666666666666666,\"#ed7953\"],[0.7777777777777778,\"#fb9f3a\"],[0.8888888888888888,\"#fdca26\"],[1.0,\"#f0f921\"]],\"type\":\"histogram2d\"}],\"histogram2dcontour\":[{\"colorbar\":{\"outlinewidth\":0,\"ticks\":\"\"},\"colorscale\":[[0.0,\"#0d0887\"],[0.1111111111111111,\"#46039f\"],[0.2222222222222222,\"#7201a8\"],[0.3333333333333333,\"#9c179e\"],[0.4444444444444444,\"#bd3786\"],[0.5555555555555556,\"#d8576b\"],[0.6666666666666666,\"#ed7953\"],[0.7777777777777778,\"#fb9f3a\"],[0.8888888888888888,\"#fdca26\"],[1.0,\"#f0f921\"]],\"type\":\"histogram2dcontour\"}],\"mesh3d\":[{\"colorbar\":{\"outlinewidth\":0,\"ticks\":\"\"},\"type\":\"mesh3d\"}],\"parcoords\":[{\"line\":{\"colorbar\":{\"outlinewidth\":0,\"ticks\":\"\"}},\"type\":\"parcoords\"}],\"pie\":[{\"automargin\":true,\"type\":\"pie\"}],\"scatter\":[{\"marker\":{\"colorbar\":{\"outlinewidth\":0,\"ticks\":\"\"}},\"type\":\"scatter\"}],\"scatter3d\":[{\"line\":{\"colorbar\":{\"outlinewidth\":0,\"ticks\":\"\"}},\"marker\":{\"colorbar\":{\"outlinewidth\":0,\"ticks\":\"\"}},\"type\":\"scatter3d\"}],\"scattercarpet\":[{\"marker\":{\"colorbar\":{\"outlinewidth\":0,\"ticks\":\"\"}},\"type\":\"scattercarpet\"}],\"scattergeo\":[{\"marker\":{\"colorbar\":{\"outlinewidth\":0,\"ticks\":\"\"}},\"type\":\"scattergeo\"}],\"scattergl\":[{\"marker\":{\"colorbar\":{\"outlinewidth\":0,\"ticks\":\"\"}},\"type\":\"scattergl\"}],\"scattermapbox\":[{\"marker\":{\"colorbar\":{\"outlinewidth\":0,\"ticks\":\"\"}},\"type\":\"scattermapbox\"}],\"scatterpolar\":[{\"marker\":{\"colorbar\":{\"outlinewidth\":0,\"ticks\":\"\"}},\"type\":\"scatterpolar\"}],\"scatterpolargl\":[{\"marker\":{\"colorbar\":{\"outlinewidth\":0,\"ticks\":\"\"}},\"type\":\"scatterpolargl\"}],\"scatterternary\":[{\"marker\":{\"colorbar\":{\"outlinewidth\":0,\"ticks\":\"\"}},\"type\":\"scatterternary\"}],\"surface\":[{\"colorbar\":{\"outlinewidth\":0,\"ticks\":\"\"},\"colorscale\":[[0.0,\"#0d0887\"],[0.1111111111111111,\"#46039f\"],[0.2222222222222222,\"#7201a8\"],[0.3333333333333333,\"#9c179e\"],[0.4444444444444444,\"#bd3786\"],[0.5555555555555556,\"#d8576b\"],[0.6666666666666666,\"#ed7953\"],[0.7777777777777778,\"#fb9f3a\"],[0.8888888888888888,\"#fdca26\"],[1.0,\"#f0f921\"]],\"type\":\"surface\"}],\"table\":[{\"cells\":{\"fill\":{\"color\":\"#EBF0F8\"},\"line\":{\"color\":\"white\"}},\"header\":{\"fill\":{\"color\":\"#C8D4E3\"},\"line\":{\"color\":\"white\"}},\"type\":\"table\"}]},\"layout\":{\"annotationdefaults\":{\"arrowcolor\":\"#2a3f5f\",\"arrowhead\":0,\"arrowwidth\":1},\"autotypenumbers\":\"strict\",\"coloraxis\":{\"colorbar\":{\"outlinewidth\":0,\"ticks\":\"\"}},\"colorscale\":{\"diverging\":[[0,\"#8e0152\"],[0.1,\"#c51b7d\"],[0.2,\"#de77ae\"],[0.3,\"#f1b6da\"],[0.4,\"#fde0ef\"],[0.5,\"#f7f7f7\"],[0.6,\"#e6f5d0\"],[0.7,\"#b8e186\"],[0.8,\"#7fbc41\"],[0.9,\"#4d9221\"],[1,\"#276419\"]],\"sequential\":[[0.0,\"#0d0887\"],[0.1111111111111111,\"#46039f\"],[0.2222222222222222,\"#7201a8\"],[0.3333333333333333,\"#9c179e\"],[0.4444444444444444,\"#bd3786\"],[0.5555555555555556,\"#d8576b\"],[0.6666666666666666,\"#ed7953\"],[0.7777777777777778,\"#fb9f3a\"],[0.8888888888888888,\"#fdca26\"],[1.0,\"#f0f921\"]],\"sequentialminus\":[[0.0,\"#0d0887\"],[0.1111111111111111,\"#46039f\"],[0.2222222222222222,\"#7201a8\"],[0.3333333333333333,\"#9c179e\"],[0.4444444444444444,\"#bd3786\"],[0.5555555555555556,\"#d8576b\"],[0.6666666666666666,\"#ed7953\"],[0.7777777777777778,\"#fb9f3a\"],[0.8888888888888888,\"#fdca26\"],[1.0,\"#f0f921\"]]},\"colorway\":[\"#636efa\",\"#EF553B\",\"#00cc96\",\"#ab63fa\",\"#FFA15A\",\"#19d3f3\",\"#FF6692\",\"#B6E880\",\"#FF97FF\",\"#FECB52\"],\"font\":{\"color\":\"#2a3f5f\"},\"geo\":{\"bgcolor\":\"white\",\"lakecolor\":\"white\",\"landcolor\":\"#E5ECF6\",\"showlakes\":true,\"showland\":true,\"subunitcolor\":\"white\"},\"hoverlabel\":{\"align\":\"left\"},\"hovermode\":\"closest\",\"mapbox\":{\"style\":\"light\"},\"paper_bgcolor\":\"white\",\"plot_bgcolor\":\"#E5ECF6\",\"polar\":{\"angularaxis\":{\"gridcolor\":\"white\",\"linecolor\":\"white\",\"ticks\":\"\"},\"bgcolor\":\"#E5ECF6\",\"radialaxis\":{\"gridcolor\":\"white\",\"linecolor\":\"white\",\"ticks\":\"\"}},\"scene\":{\"xaxis\":{\"backgroundcolor\":\"#E5ECF6\",\"gridcolor\":\"white\",\"gridwidth\":2,\"linecolor\":\"white\",\"showbackground\":true,\"ticks\":\"\",\"zerolinecolor\":\"white\"},\"yaxis\":{\"backgroundcolor\":\"#E5ECF6\",\"gridcolor\":\"white\",\"gridwidth\":2,\"linecolor\":\"white\",\"showbackground\":true,\"ticks\":\"\",\"zerolinecolor\":\"white\"},\"zaxis\":{\"backgroundcolor\":\"#E5ECF6\",\"gridcolor\":\"white\",\"gridwidth\":2,\"linecolor\":\"white\",\"showbackground\":true,\"ticks\":\"\",\"zerolinecolor\":\"white\"}},\"shapedefaults\":{\"line\":{\"color\":\"#2a3f5f\"}},\"ternary\":{\"aaxis\":{\"gridcolor\":\"white\",\"linecolor\":\"white\",\"ticks\":\"\"},\"baxis\":{\"gridcolor\":\"white\",\"linecolor\":\"white\",\"ticks\":\"\"},\"bgcolor\":\"#E5ECF6\",\"caxis\":{\"gridcolor\":\"white\",\"linecolor\":\"white\",\"ticks\":\"\"}},\"title\":{\"x\":0.05},\"xaxis\":{\"automargin\":true,\"gridcolor\":\"white\",\"linecolor\":\"white\",\"ticks\":\"\",\"title\":{\"standoff\":15},\"zerolinecolor\":\"white\",\"zerolinewidth\":2},\"yaxis\":{\"automargin\":true,\"gridcolor\":\"white\",\"linecolor\":\"white\",\"ticks\":\"\",\"title\":{\"standoff\":15},\"zerolinecolor\":\"white\",\"zerolinewidth\":2}}},\"title\":{\"text\":\"shipment mode\"}},                        {\"responsive\": true}                    ).then(function(){\n",
       "                            \n",
       "var gd = document.getElementById('3ff762ba-cad9-4cfa-9ceb-9cdf5d28789b');\n",
       "var x = new MutationObserver(function (mutations, observer) {{\n",
       "        var display = window.getComputedStyle(gd).display;\n",
       "        if (!display || display === 'none') {{\n",
       "            console.log([gd, 'removed!']);\n",
       "            Plotly.purge(gd);\n",
       "            observer.disconnect();\n",
       "        }}\n",
       "}});\n",
       "\n",
       "// Listen for the removal of the full notebook cells\n",
       "var notebookContainer = gd.closest('#notebook-container');\n",
       "if (notebookContainer) {{\n",
       "    x.observe(notebookContainer, {childList: true});\n",
       "}}\n",
       "\n",
       "// Listen for the clearing of the current output cell\n",
       "var outputEl = gd.closest('.output');\n",
       "if (outputEl) {{\n",
       "    x.observe(outputEl, {childList: true});\n",
       "}}\n",
       "\n",
       "                        })                };                });            </script>        </div>"
      ]
     },
     "metadata": {},
     "output_type": "display_data"
    },
    {
     "data": {
      "image/png": "[encoded data removed]",
      "text/plain": [
       "<Figure size 1296x432 with 1 Axes>"
      ]
     },
     "metadata": {
      "needs_background": "light"
     },
     "output_type": "display_data"
    },
    {
     "data": {
      "image/png": "[encoded data removed]",
      "text/plain": [
       "<Figure size 1296x432 with 1 Axes>"
      ]
     },
     "metadata": {
      "needs_background": "light"
     },
     "output_type": "display_data"
    }
   ],
   "source": [
    "#Percentage Split of shipment mode\n",
    "ShippingMode = df[\"shipment mode\"].value_counts()\n",
    "labels = (np.array(ShippingMode.index))\n",
    "sizes = (np.array((ShippingMode / ShippingMode.sum())*100))\n",
    "\n",
    "trace = go.Pie(labels=labels, values=sizes)\n",
    "layout = go.Layout(title=\"shipment mode\")\n",
    "dat = [trace]\n",
    "fig = go.Figure(data=dat, layout=layout)\n",
    "py.iplot(fig, filename=\"shipment mode\")\n",
    "\n",
    "#Shipment mode and price pack realtionship\n",
    "plt.subplots(figsize = (18,6))\n",
    "plt.xticks(rotation = 90)\n",
    "sn.barplot('shipment mode','pack price', data = df)\n",
    "plt.show()\n",
    "\n",
    "#Country and price pack \n",
    "plt.subplots(figsize = (18,6))\n",
    "plt.xticks(rotation = 90)\n",
    "sn.barplot('country','pack price', data = df)\n",
    "plt.show()"
   ]
  },
  {
   "cell_type": "code",
   "execution_count": 66,
   "metadata": {},
   "outputs": [
    {
     "data": {
      "text/html": [
       "<div>\n",
       "<style scoped>\n",
       "    .dataframe tbody tr th:only-of-type {\n",
       "        vertical-align: middle;\n",
       "    }\n",
       "\n",
       "    .dataframe tbody tr th {\n",
       "        vertical-align: top;\n",
       "    }\n",
       "\n",
       "    .dataframe thead th {\n",
       "        text-align: right;\n",
       "    }\n",
       "</style>\n",
       "<table border=\"1\" class=\"dataframe\">\n",
       "  <thead>\n",
       "    <tr style=\"text-align: right;\">\n",
       "      <th></th>\n",
       "      <th>pack price</th>\n",
       "    </tr>\n",
       "    <tr>\n",
       "      <th>scheduled delivery date</th>\n",
       "      <th></th>\n",
       "    </tr>\n",
       "  </thead>\n",
       "  <tbody>\n",
       "    <tr>\n",
       "      <th>2006-06-02</th>\n",
       "      <td>29.00</td>\n",
       "    </tr>\n",
       "    <tr>\n",
       "      <th>2006-11-14</th>\n",
       "      <td>6.20</td>\n",
       "    </tr>\n",
       "    <tr>\n",
       "      <th>2006-08-27</th>\n",
       "      <td>80.00</td>\n",
       "    </tr>\n",
       "    <tr>\n",
       "      <th>2006-09-01</th>\n",
       "      <td>3.99</td>\n",
       "    </tr>\n",
       "    <tr>\n",
       "      <th>2006-08-11</th>\n",
       "      <td>3.20</td>\n",
       "    </tr>\n",
       "  </tbody>\n",
       "</table>\n",
       "</div>"
      ],
      "text/plain": [
       "                                  pack price\n",
       "scheduled delivery date                     \n",
       "2006-06-02                             29.00\n",
       "2006-11-14                              6.20\n",
       "2006-08-27                             80.00\n",
       "2006-09-01                              3.99\n",
       "2006-08-11                              3.20"
      ]
     },
     "execution_count": 66,
     "metadata": {},
     "output_type": "execute_result"
    }
   ],
   "source": [
    "#Selecting target variable\n",
    "pack_price = df[[\"pack price\"]]\n",
    "pack_price.head()\n"
   ]
  },
  {
   "cell_type": "code",
   "execution_count": 67,
   "metadata": {},
   "outputs": [
    {
     "data": {
      "text/html": [
       "<div>\n",
       "<style scoped>\n",
       "    .dataframe tbody tr th:only-of-type {\n",
       "        vertical-align: middle;\n",
       "    }\n",
       "\n",
       "    .dataframe tbody tr th {\n",
       "        vertical-align: top;\n",
       "    }\n",
       "\n",
       "    .dataframe thead th {\n",
       "        text-align: right;\n",
       "    }\n",
       "</style>\n",
       "<table border=\"1\" class=\"dataframe\">\n",
       "  <thead>\n",
       "    <tr style=\"text-align: right;\">\n",
       "      <th></th>\n",
       "      <th>pack price</th>\n",
       "    </tr>\n",
       "    <tr>\n",
       "      <th>scheduled delivery date</th>\n",
       "      <th></th>\n",
       "    </tr>\n",
       "  </thead>\n",
       "  <tbody>\n",
       "    <tr>\n",
       "      <th>2015-07-31</th>\n",
       "      <td>3.60</td>\n",
       "    </tr>\n",
       "    <tr>\n",
       "      <th>2015-07-31</th>\n",
       "      <td>6.52</td>\n",
       "    </tr>\n",
       "    <tr>\n",
       "      <th>2015-08-31</th>\n",
       "      <td>9.99</td>\n",
       "    </tr>\n",
       "    <tr>\n",
       "      <th>2015-09-09</th>\n",
       "      <td>6.52</td>\n",
       "    </tr>\n",
       "    <tr>\n",
       "      <th>2015-08-31</th>\n",
       "      <td>1.99</td>\n",
       "    </tr>\n",
       "  </tbody>\n",
       "</table>\n",
       "</div>"
      ],
      "text/plain": [
       "                                  pack price\n",
       "scheduled delivery date                     \n",
       "2015-07-31                              3.60\n",
       "2015-07-31                              6.52\n",
       "2015-08-31                              9.99\n",
       "2015-09-09                              6.52\n",
       "2015-08-31                              1.99"
      ]
     },
     "execution_count": 67,
     "metadata": {},
     "output_type": "execute_result"
    }
   ],
   "source": [
    "pack_price.tail()"
   ]
  },
  {
   "cell_type": "code",
   "execution_count": 68,
   "metadata": {},
   "outputs": [],
   "source": [
    "#dropping missing values\n",
    "pack_price = pack_price.dropna()"
   ]
  },
  {
   "cell_type": "code",
   "execution_count": 69,
   "metadata": {},
   "outputs": [
    {
     "data": {
      "text/plain": [
       "(10324, 1)"
      ]
     },
     "execution_count": 69,
     "metadata": {},
     "output_type": "execute_result"
    }
   ],
   "source": [
    "pack_price.shape"
   ]
  },
  {
   "cell_type": "code",
   "execution_count": 70,
   "metadata": {},
   "outputs": [
    {
     "data": {
      "image/png": "[encoded data removed]",
      "text/plain": [
       "<Figure size 1080x432 with 1 Axes>"
      ]
     },
     "metadata": {
      "needs_background": "light"
     },
     "output_type": "display_data"
    }
   ],
   "source": [
    "#Visualizing Time Series\n",
    "pack_price.plot(figsize = (15, 6))\n",
    "plt.title('Plot time series')\n",
    "plt.xlabel('date')\n",
    "plt.ylabel('price')\n",
    "plt.show()"
   ]
  },
  {
   "cell_type": "code",
   "execution_count": 71,
   "metadata": {},
   "outputs": [
    {
     "data": {
      "image/png": "[encoded data removed]",
      "text/plain": [
       "<Figure size 1080x576 with 2 Axes>"
      ]
     },
     "metadata": {
      "needs_background": "light"
     },
     "output_type": "display_data"
    }
   ],
   "source": [
    "#Plot ACF and PACF\n",
    "plt.rcParams[\"figure.figsize\"] = 15, 8\n",
    "pyplot.figure()\n",
    "pyplot.subplot(211)\n",
    "plot_acf(pack_price, ax=pyplot.gca(),lags=30,zero=False)\n",
    "pyplot.subplot(212)\n",
    "plot_pacf(pack_price, ax=pyplot.gca(),lags=30,zero=False)\n",
    "pyplot.show()"
   ]
  },
  {
   "cell_type": "code",
   "execution_count": 72,
   "metadata": {},
   "outputs": [
    {
     "name": "stdout",
     "output_type": "stream",
     "text": [
      "(10324, 1)\n",
      "(9292, 1) (1032, 1)\n"
     ]
    }
   ],
   "source": [
    "#Splitting series\n",
    "#Train and Test Split of closing prices\n",
    "#90% training set and 10% Test Set\n",
    "print(pack_price.shape)\n",
    "train = pack_price.iloc[:-1032]\n",
    "test = pack_price.iloc[-1032:]\n",
    "print(train.shape,test.shape)\n"
   ]
  },
  {
   "cell_type": "code",
   "execution_count": 73,
   "metadata": {},
   "outputs": [
    {
     "data": {
      "text/plain": [
       "<bound method NDFrame.head of                                   pack price\n",
       "scheduled delivery date                     \n",
       "2006-06-02                             29.00\n",
       "2006-11-14                              6.20\n",
       "2006-08-27                             80.00\n",
       "2006-09-01                              3.99\n",
       "2006-08-11                              3.20\n",
       "...                                      ...\n",
       "2014-10-08                             11.89\n",
       "2014-11-28                              2.15\n",
       "2015-01-30                              2.21\n",
       "2015-01-31                              0.00\n",
       "2014-10-31                             13.52\n",
       "\n",
       "[9292 rows x 1 columns]>"
      ]
     },
     "execution_count": 73,
     "metadata": {},
     "output_type": "execute_result"
    }
   ],
   "source": [
    "train.head"
   ]
  },
  {
   "cell_type": "code",
   "execution_count": 77,
   "metadata": {},
   "outputs": [
    {
     "data": {
      "text/plain": [
       "<bound method NDFrame.head of                                   pack price\n",
       "scheduled delivery date                     \n",
       "2015-01-30                              7.72\n",
       "2015-01-30                             13.49\n",
       "2015-01-30                              6.60\n",
       "2015-01-30                              7.72\n",
       "2015-02-16                             13.49\n",
       "...                                      ...\n",
       "2015-07-31                              3.60\n",
       "2015-07-31                              6.52\n",
       "2015-08-31                              9.99\n",
       "2015-09-09                              6.52\n",
       "2015-08-31                              1.99\n",
       "\n",
       "[1032 rows x 1 columns]>"
      ]
     },
     "execution_count": 77,
     "metadata": {},
     "output_type": "execute_result"
    }
   ],
   "source": [
    "test.head"
   ]
  },
  {
   "cell_type": "code",
   "execution_count": null,
   "metadata": {},
   "outputs": [],
   "source": []
  }
 ],
 "metadata": {
  "kernelspec": {
   "display_name": "Python 3",
   "language": "python",
   "name": "python3"
  },
  "language_info": {
   "codemirror_mode": {
    "name": "ipython",
    "version": 3
   },
   "file_extension": ".py",
   "mimetype": "text/x-python",
   "name": "python",
   "nbconvert_exporter": "python",
   "pygments_lexer": "ipython3",
   "version": "3.7.6"
  }
 },
 "nbformat": 4,
 "nbformat_minor": 4
}
